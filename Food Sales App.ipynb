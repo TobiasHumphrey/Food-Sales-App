{
 "cells": [
  {
   "cell_type": "markdown",
   "metadata": {},
   "source": [
    "# Food Sales App"
   ]
  },
  {
   "cell_type": "markdown",
   "metadata": {},
   "source": [
    "In this project we will be investigating data from three experiment groups purchasing food through an app. The data consists of logs for each event that occured on the app over the course of several days. The user ID, timestamp, and experiment group ID is included for each event. First, we will study the event funnel for conversion rates through the various events on the app. Secondly, we will be comparing the conversion performance between the groups using A/B testing."
   ]
  },
  {
   "cell_type": "markdown",
   "metadata": {},
   "source": [
    "## Open the data file and read the general information"
   ]
  },
  {
   "cell_type": "markdown",
   "metadata": {},
   "source": [
    "To begin, we will import the data and take an overview."
   ]
  },
  {
   "cell_type": "markdown",
   "metadata": {},
   "source": [
    "### IMPORT LIBRARIES & DATA"
   ]
  },
  {
   "cell_type": "markdown",
   "metadata": {},
   "source": [
    "Let's import the needed libraries first."
   ]
  },
  {
   "cell_type": "code",
   "execution_count": 69,
   "metadata": {},
   "outputs": [],
   "source": [
    "import warnings\n",
    "warnings.filterwarnings('ignore')\n",
    "\n",
    "import pandas as pd\n",
    "from datetime import datetime\n",
    "import matplotlib.pyplot as plt\n",
    "import seaborn as sns\n",
    "import numpy as np\n",
    "from plotly import graph_objects as go\n",
    "import scipy.stats as stats\n",
    "import math as mth"
   ]
  },
  {
   "cell_type": "markdown",
   "metadata": {},
   "source": [
    "Now, we will import our /datasets/logs_exp_us file. This file is separated with the escape character. To separate the values, we will convert all escape character instances with \"\\t\"."
   ]
  },
  {
   "cell_type": "code",
   "execution_count": 70,
   "metadata": {},
   "outputs": [],
   "source": [
    "try:\n",
    "    logs_exp = pd.read_csv('logs_exp_us.csv', sep='\\t')\n",
    "except:\n",
    "    logs_exp = pd.read_csv('/datasets/logs_exp_us.csv', sep='\\t')"
   ]
  },
  {
   "cell_type": "markdown",
   "metadata": {},
   "source": [
    "### OVERVIEW"
   ]
  },
  {
   "cell_type": "code",
   "execution_count": 71,
   "metadata": {},
   "outputs": [
    {
     "name": "stdout",
     "output_type": "stream",
     "text": [
      "<class 'pandas.core.frame.DataFrame'>\n",
      "RangeIndex: 244126 entries, 0 to 244125\n",
      "Data columns (total 4 columns):\n",
      " #   Column          Non-Null Count   Dtype \n",
      "---  ------          --------------   ----- \n",
      " 0   EventName       244126 non-null  object\n",
      " 1   DeviceIDHash    244126 non-null  int64 \n",
      " 2   EventTimestamp  244126 non-null  int64 \n",
      " 3   ExpId           244126 non-null  int64 \n",
      "dtypes: int64(3), object(1)\n",
      "memory usage: 7.5+ MB\n",
      "\n"
     ]
    },
    {
     "data": {
      "text/html": [
       "<div>\n",
       "<style scoped>\n",
       "    .dataframe tbody tr th:only-of-type {\n",
       "        vertical-align: middle;\n",
       "    }\n",
       "\n",
       "    .dataframe tbody tr th {\n",
       "        vertical-align: top;\n",
       "    }\n",
       "\n",
       "    .dataframe thead th {\n",
       "        text-align: right;\n",
       "    }\n",
       "</style>\n",
       "<table border=\"1\" class=\"dataframe\">\n",
       "  <thead>\n",
       "    <tr style=\"text-align: right;\">\n",
       "      <th></th>\n",
       "      <th>EventName</th>\n",
       "      <th>DeviceIDHash</th>\n",
       "      <th>EventTimestamp</th>\n",
       "      <th>ExpId</th>\n",
       "    </tr>\n",
       "  </thead>\n",
       "  <tbody>\n",
       "    <tr>\n",
       "      <th>0</th>\n",
       "      <td>MainScreenAppear</td>\n",
       "      <td>4575588528974610257</td>\n",
       "      <td>1564029816</td>\n",
       "      <td>246</td>\n",
       "    </tr>\n",
       "    <tr>\n",
       "      <th>1</th>\n",
       "      <td>MainScreenAppear</td>\n",
       "      <td>7416695313311560658</td>\n",
       "      <td>1564053102</td>\n",
       "      <td>246</td>\n",
       "    </tr>\n",
       "    <tr>\n",
       "      <th>2</th>\n",
       "      <td>PaymentScreenSuccessful</td>\n",
       "      <td>3518123091307005509</td>\n",
       "      <td>1564054127</td>\n",
       "      <td>248</td>\n",
       "    </tr>\n",
       "    <tr>\n",
       "      <th>3</th>\n",
       "      <td>CartScreenAppear</td>\n",
       "      <td>3518123091307005509</td>\n",
       "      <td>1564054127</td>\n",
       "      <td>248</td>\n",
       "    </tr>\n",
       "    <tr>\n",
       "      <th>4</th>\n",
       "      <td>PaymentScreenSuccessful</td>\n",
       "      <td>6217807653094995999</td>\n",
       "      <td>1564055322</td>\n",
       "      <td>248</td>\n",
       "    </tr>\n",
       "  </tbody>\n",
       "</table>\n",
       "</div>"
      ],
      "text/plain": [
       "                 EventName         DeviceIDHash  EventTimestamp  ExpId\n",
       "0         MainScreenAppear  4575588528974610257      1564029816    246\n",
       "1         MainScreenAppear  7416695313311560658      1564053102    246\n",
       "2  PaymentScreenSuccessful  3518123091307005509      1564054127    248\n",
       "3         CartScreenAppear  3518123091307005509      1564054127    248\n",
       "4  PaymentScreenSuccessful  6217807653094995999      1564055322    248"
      ]
     },
     "execution_count": 71,
     "metadata": {},
     "output_type": "execute_result"
    }
   ],
   "source": [
    "logs_exp.info()\n",
    "print()\n",
    "logs_exp.head()"
   ]
  },
  {
   "cell_type": "markdown",
   "metadata": {},
   "source": [
    "Everything in logs_exp looks great. There are no missing values. The data displays various events on the company app. There is a designated event name, a user (device) ID, timestamp and experiment ID (showing which A/B testing group the user was a part of)."
   ]
  },
  {
   "cell_type": "markdown",
   "metadata": {},
   "source": [
    "## Prepare the data for analysis"
   ]
  },
  {
   "cell_type": "markdown",
   "metadata": {},
   "source": [
    "Now, let's move on to preprocessing the data by renaming columns, reassigning data types, checking for duplicates, adding necessary columns, etc."
   ]
  },
  {
   "cell_type": "markdown",
   "metadata": {},
   "source": [
    "### Rename the columns in a way that's convenient for you"
   ]
  },
  {
   "cell_type": "markdown",
   "metadata": {},
   "source": [
    "Let's remove the upper case letters (using str.lower()) and check for hidden spaces (using str.replace(\" \", \"_\"))."
   ]
  },
  {
   "cell_type": "code",
   "execution_count": 72,
   "metadata": {},
   "outputs": [
    {
     "data": {
      "text/html": [
       "<div>\n",
       "<style scoped>\n",
       "    .dataframe tbody tr th:only-of-type {\n",
       "        vertical-align: middle;\n",
       "    }\n",
       "\n",
       "    .dataframe tbody tr th {\n",
       "        vertical-align: top;\n",
       "    }\n",
       "\n",
       "    .dataframe thead th {\n",
       "        text-align: right;\n",
       "    }\n",
       "</style>\n",
       "<table border=\"1\" class=\"dataframe\">\n",
       "  <thead>\n",
       "    <tr style=\"text-align: right;\">\n",
       "      <th></th>\n",
       "      <th>eventname</th>\n",
       "      <th>deviceidhash</th>\n",
       "      <th>eventtimestamp</th>\n",
       "      <th>expid</th>\n",
       "    </tr>\n",
       "  </thead>\n",
       "  <tbody>\n",
       "    <tr>\n",
       "      <th>0</th>\n",
       "      <td>MainScreenAppear</td>\n",
       "      <td>4575588528974610257</td>\n",
       "      <td>1564029816</td>\n",
       "      <td>246</td>\n",
       "    </tr>\n",
       "    <tr>\n",
       "      <th>1</th>\n",
       "      <td>MainScreenAppear</td>\n",
       "      <td>7416695313311560658</td>\n",
       "      <td>1564053102</td>\n",
       "      <td>246</td>\n",
       "    </tr>\n",
       "    <tr>\n",
       "      <th>2</th>\n",
       "      <td>PaymentScreenSuccessful</td>\n",
       "      <td>3518123091307005509</td>\n",
       "      <td>1564054127</td>\n",
       "      <td>248</td>\n",
       "    </tr>\n",
       "    <tr>\n",
       "      <th>3</th>\n",
       "      <td>CartScreenAppear</td>\n",
       "      <td>3518123091307005509</td>\n",
       "      <td>1564054127</td>\n",
       "      <td>248</td>\n",
       "    </tr>\n",
       "    <tr>\n",
       "      <th>4</th>\n",
       "      <td>PaymentScreenSuccessful</td>\n",
       "      <td>6217807653094995999</td>\n",
       "      <td>1564055322</td>\n",
       "      <td>248</td>\n",
       "    </tr>\n",
       "  </tbody>\n",
       "</table>\n",
       "</div>"
      ],
      "text/plain": [
       "                 eventname         deviceidhash  eventtimestamp  expid\n",
       "0         MainScreenAppear  4575588528974610257      1564029816    246\n",
       "1         MainScreenAppear  7416695313311560658      1564053102    246\n",
       "2  PaymentScreenSuccessful  3518123091307005509      1564054127    248\n",
       "3         CartScreenAppear  3518123091307005509      1564054127    248\n",
       "4  PaymentScreenSuccessful  6217807653094995999      1564055322    248"
      ]
     },
     "execution_count": 72,
     "metadata": {},
     "output_type": "execute_result"
    }
   ],
   "source": [
    "logs_exp.columns = logs_exp.columns.str.lower().str.replace(\" \", \"_\")\n",
    "logs_exp.head()"
   ]
  },
  {
   "cell_type": "markdown",
   "metadata": {},
   "source": [
    "Everything is in lower case and there are no hidden spaces. Let's do the same with the \"eventname\" column."
   ]
  },
  {
   "cell_type": "code",
   "execution_count": 73,
   "metadata": {
    "scrolled": true
   },
   "outputs": [
    {
     "data": {
      "text/html": [
       "<div>\n",
       "<style scoped>\n",
       "    .dataframe tbody tr th:only-of-type {\n",
       "        vertical-align: middle;\n",
       "    }\n",
       "\n",
       "    .dataframe tbody tr th {\n",
       "        vertical-align: top;\n",
       "    }\n",
       "\n",
       "    .dataframe thead th {\n",
       "        text-align: right;\n",
       "    }\n",
       "</style>\n",
       "<table border=\"1\" class=\"dataframe\">\n",
       "  <thead>\n",
       "    <tr style=\"text-align: right;\">\n",
       "      <th></th>\n",
       "      <th>eventname</th>\n",
       "      <th>deviceidhash</th>\n",
       "      <th>eventtimestamp</th>\n",
       "      <th>expid</th>\n",
       "    </tr>\n",
       "  </thead>\n",
       "  <tbody>\n",
       "    <tr>\n",
       "      <th>0</th>\n",
       "      <td>mainscreenappear</td>\n",
       "      <td>4575588528974610257</td>\n",
       "      <td>1564029816</td>\n",
       "      <td>246</td>\n",
       "    </tr>\n",
       "    <tr>\n",
       "      <th>1</th>\n",
       "      <td>mainscreenappear</td>\n",
       "      <td>7416695313311560658</td>\n",
       "      <td>1564053102</td>\n",
       "      <td>246</td>\n",
       "    </tr>\n",
       "    <tr>\n",
       "      <th>2</th>\n",
       "      <td>paymentscreensuccessful</td>\n",
       "      <td>3518123091307005509</td>\n",
       "      <td>1564054127</td>\n",
       "      <td>248</td>\n",
       "    </tr>\n",
       "    <tr>\n",
       "      <th>3</th>\n",
       "      <td>cartscreenappear</td>\n",
       "      <td>3518123091307005509</td>\n",
       "      <td>1564054127</td>\n",
       "      <td>248</td>\n",
       "    </tr>\n",
       "    <tr>\n",
       "      <th>4</th>\n",
       "      <td>paymentscreensuccessful</td>\n",
       "      <td>6217807653094995999</td>\n",
       "      <td>1564055322</td>\n",
       "      <td>248</td>\n",
       "    </tr>\n",
       "  </tbody>\n",
       "</table>\n",
       "</div>"
      ],
      "text/plain": [
       "                 eventname         deviceidhash  eventtimestamp  expid\n",
       "0         mainscreenappear  4575588528974610257      1564029816    246\n",
       "1         mainscreenappear  7416695313311560658      1564053102    246\n",
       "2  paymentscreensuccessful  3518123091307005509      1564054127    248\n",
       "3         cartscreenappear  3518123091307005509      1564054127    248\n",
       "4  paymentscreensuccessful  6217807653094995999      1564055322    248"
      ]
     },
     "execution_count": 73,
     "metadata": {},
     "output_type": "execute_result"
    }
   ],
   "source": [
    "logs_exp['eventname'] = logs_exp['eventname'].str.lower().str.replace(\" \", \"_\")\n",
    "logs_exp.head()"
   ]
  },
  {
   "cell_type": "markdown",
   "metadata": {},
   "source": [
    "This will help us discover potential duplicates, regardless of capitalization or extra spaces."
   ]
  },
  {
   "cell_type": "markdown",
   "metadata": {},
   "source": [
    "### Duplicates & Data Types"
   ]
  },
  {
   "cell_type": "markdown",
   "metadata": {},
   "source": [
    "We know from our initial .info() overview that there is no missing data. Let's check for duplicates"
   ]
  },
  {
   "cell_type": "code",
   "execution_count": 74,
   "metadata": {},
   "outputs": [
    {
     "name": "stdout",
     "output_type": "stream",
     "text": [
      "413\n"
     ]
    },
    {
     "data": {
      "text/html": [
       "<div>\n",
       "<style scoped>\n",
       "    .dataframe tbody tr th:only-of-type {\n",
       "        vertical-align: middle;\n",
       "    }\n",
       "\n",
       "    .dataframe tbody tr th {\n",
       "        vertical-align: top;\n",
       "    }\n",
       "\n",
       "    .dataframe thead th {\n",
       "        text-align: right;\n",
       "    }\n",
       "</style>\n",
       "<table border=\"1\" class=\"dataframe\">\n",
       "  <thead>\n",
       "    <tr style=\"text-align: right;\">\n",
       "      <th></th>\n",
       "      <th>eventname</th>\n",
       "      <th>deviceidhash</th>\n",
       "      <th>eventtimestamp</th>\n",
       "      <th>expid</th>\n",
       "    </tr>\n",
       "  </thead>\n",
       "  <tbody>\n",
       "    <tr>\n",
       "      <th>453</th>\n",
       "      <td>mainscreenappear</td>\n",
       "      <td>5613408041324010552</td>\n",
       "      <td>1564474784</td>\n",
       "      <td>248</td>\n",
       "    </tr>\n",
       "    <tr>\n",
       "      <th>2350</th>\n",
       "      <td>cartscreenappear</td>\n",
       "      <td>1694940645335807244</td>\n",
       "      <td>1564609899</td>\n",
       "      <td>248</td>\n",
       "    </tr>\n",
       "    <tr>\n",
       "      <th>3573</th>\n",
       "      <td>mainscreenappear</td>\n",
       "      <td>434103746454591587</td>\n",
       "      <td>1564628377</td>\n",
       "      <td>248</td>\n",
       "    </tr>\n",
       "    <tr>\n",
       "      <th>4076</th>\n",
       "      <td>mainscreenappear</td>\n",
       "      <td>3761373764179762633</td>\n",
       "      <td>1564631266</td>\n",
       "      <td>247</td>\n",
       "    </tr>\n",
       "    <tr>\n",
       "      <th>4803</th>\n",
       "      <td>mainscreenappear</td>\n",
       "      <td>2835328739789306622</td>\n",
       "      <td>1564634641</td>\n",
       "      <td>248</td>\n",
       "    </tr>\n",
       "  </tbody>\n",
       "</table>\n",
       "</div>"
      ],
      "text/plain": [
       "             eventname         deviceidhash  eventtimestamp  expid\n",
       "453   mainscreenappear  5613408041324010552      1564474784    248\n",
       "2350  cartscreenappear  1694940645335807244      1564609899    248\n",
       "3573  mainscreenappear   434103746454591587      1564628377    248\n",
       "4076  mainscreenappear  3761373764179762633      1564631266    247\n",
       "4803  mainscreenappear  2835328739789306622      1564634641    248"
      ]
     },
     "execution_count": 74,
     "metadata": {},
     "output_type": "execute_result"
    }
   ],
   "source": [
    "print(len(logs_exp[logs_exp.duplicated()]))\n",
    "logs_exp[logs_exp.duplicated()].head()"
   ]
  },
  {
   "cell_type": "markdown",
   "metadata": {},
   "source": [
    "There are 413 duplicate rows. That is a negligible amount, less than 1%. We will drop these duplicated records using .drop_duplicates()."
   ]
  },
  {
   "cell_type": "code",
   "execution_count": 75,
   "metadata": {},
   "outputs": [
    {
     "data": {
      "text/html": [
       "<div>\n",
       "<style scoped>\n",
       "    .dataframe tbody tr th:only-of-type {\n",
       "        vertical-align: middle;\n",
       "    }\n",
       "\n",
       "    .dataframe tbody tr th {\n",
       "        vertical-align: top;\n",
       "    }\n",
       "\n",
       "    .dataframe thead th {\n",
       "        text-align: right;\n",
       "    }\n",
       "</style>\n",
       "<table border=\"1\" class=\"dataframe\">\n",
       "  <thead>\n",
       "    <tr style=\"text-align: right;\">\n",
       "      <th></th>\n",
       "      <th>eventname</th>\n",
       "      <th>deviceidhash</th>\n",
       "      <th>eventtimestamp</th>\n",
       "      <th>expid</th>\n",
       "    </tr>\n",
       "  </thead>\n",
       "  <tbody>\n",
       "    <tr>\n",
       "      <th>0</th>\n",
       "      <td>mainscreenappear</td>\n",
       "      <td>4575588528974610257</td>\n",
       "      <td>1564029816</td>\n",
       "      <td>246</td>\n",
       "    </tr>\n",
       "    <tr>\n",
       "      <th>1</th>\n",
       "      <td>mainscreenappear</td>\n",
       "      <td>7416695313311560658</td>\n",
       "      <td>1564053102</td>\n",
       "      <td>246</td>\n",
       "    </tr>\n",
       "    <tr>\n",
       "      <th>2</th>\n",
       "      <td>paymentscreensuccessful</td>\n",
       "      <td>3518123091307005509</td>\n",
       "      <td>1564054127</td>\n",
       "      <td>248</td>\n",
       "    </tr>\n",
       "    <tr>\n",
       "      <th>3</th>\n",
       "      <td>cartscreenappear</td>\n",
       "      <td>3518123091307005509</td>\n",
       "      <td>1564054127</td>\n",
       "      <td>248</td>\n",
       "    </tr>\n",
       "    <tr>\n",
       "      <th>4</th>\n",
       "      <td>paymentscreensuccessful</td>\n",
       "      <td>6217807653094995999</td>\n",
       "      <td>1564055322</td>\n",
       "      <td>248</td>\n",
       "    </tr>\n",
       "  </tbody>\n",
       "</table>\n",
       "</div>"
      ],
      "text/plain": [
       "                 eventname         deviceidhash  eventtimestamp  expid\n",
       "0         mainscreenappear  4575588528974610257      1564029816    246\n",
       "1         mainscreenappear  7416695313311560658      1564053102    246\n",
       "2  paymentscreensuccessful  3518123091307005509      1564054127    248\n",
       "3         cartscreenappear  3518123091307005509      1564054127    248\n",
       "4  paymentscreensuccessful  6217807653094995999      1564055322    248"
      ]
     },
     "execution_count": 75,
     "metadata": {},
     "output_type": "execute_result"
    }
   ],
   "source": [
    "logs_exp.drop_duplicates(inplace=True) \n",
    "logs_exp.head()"
   ]
  },
  {
   "cell_type": "markdown",
   "metadata": {},
   "source": [
    "Let's convert expid to int8 to save on data space."
   ]
  },
  {
   "cell_type": "code",
   "execution_count": 76,
   "metadata": {},
   "outputs": [
    {
     "name": "stdout",
     "output_type": "stream",
     "text": [
      "<class 'pandas.core.frame.DataFrame'>\n",
      "Int64Index: 243713 entries, 0 to 244125\n",
      "Data columns (total 4 columns):\n",
      " #   Column          Non-Null Count   Dtype         \n",
      "---  ------          --------------   -----         \n",
      " 0   eventname       243713 non-null  object        \n",
      " 1   deviceidhash    243713 non-null  int64         \n",
      " 2   eventtimestamp  243713 non-null  datetime64[ns]\n",
      " 3   expid           243713 non-null  int64         \n",
      "dtypes: datetime64[ns](1), int64(2), object(1)\n",
      "memory usage: 9.3+ MB\n"
     ]
    }
   ],
   "source": [
    "logs_exp['eventtimestamp'] = pd.to_datetime(logs_exp['eventtimestamp'], unit='s')\n",
    "logs_exp.info()"
   ]
  },
  {
   "cell_type": "markdown",
   "metadata": {},
   "source": [
    "Data types all look good now."
   ]
  },
  {
   "cell_type": "markdown",
   "metadata": {},
   "source": [
    "### Add a column for dates"
   ]
  },
  {
   "cell_type": "markdown",
   "metadata": {},
   "source": [
    "We now have a date and time column represented by the \"eventtimestamp\" column of which the data type has just been changed. Now, let's create a column representing the date alone. We will also convert it to DateTime."
   ]
  },
  {
   "cell_type": "code",
   "execution_count": 77,
   "metadata": {},
   "outputs": [
    {
     "data": {
      "text/html": [
       "<div>\n",
       "<style scoped>\n",
       "    .dataframe tbody tr th:only-of-type {\n",
       "        vertical-align: middle;\n",
       "    }\n",
       "\n",
       "    .dataframe tbody tr th {\n",
       "        vertical-align: top;\n",
       "    }\n",
       "\n",
       "    .dataframe thead th {\n",
       "        text-align: right;\n",
       "    }\n",
       "</style>\n",
       "<table border=\"1\" class=\"dataframe\">\n",
       "  <thead>\n",
       "    <tr style=\"text-align: right;\">\n",
       "      <th></th>\n",
       "      <th>eventname</th>\n",
       "      <th>deviceidhash</th>\n",
       "      <th>eventtimestamp</th>\n",
       "      <th>expid</th>\n",
       "      <th>date</th>\n",
       "    </tr>\n",
       "  </thead>\n",
       "  <tbody>\n",
       "    <tr>\n",
       "      <th>0</th>\n",
       "      <td>mainscreenappear</td>\n",
       "      <td>4575588528974610257</td>\n",
       "      <td>2019-07-25 04:43:36</td>\n",
       "      <td>246</td>\n",
       "      <td>2019-07-25</td>\n",
       "    </tr>\n",
       "    <tr>\n",
       "      <th>1</th>\n",
       "      <td>mainscreenappear</td>\n",
       "      <td>7416695313311560658</td>\n",
       "      <td>2019-07-25 11:11:42</td>\n",
       "      <td>246</td>\n",
       "      <td>2019-07-25</td>\n",
       "    </tr>\n",
       "    <tr>\n",
       "      <th>2</th>\n",
       "      <td>paymentscreensuccessful</td>\n",
       "      <td>3518123091307005509</td>\n",
       "      <td>2019-07-25 11:28:47</td>\n",
       "      <td>248</td>\n",
       "      <td>2019-07-25</td>\n",
       "    </tr>\n",
       "    <tr>\n",
       "      <th>3</th>\n",
       "      <td>cartscreenappear</td>\n",
       "      <td>3518123091307005509</td>\n",
       "      <td>2019-07-25 11:28:47</td>\n",
       "      <td>248</td>\n",
       "      <td>2019-07-25</td>\n",
       "    </tr>\n",
       "    <tr>\n",
       "      <th>4</th>\n",
       "      <td>paymentscreensuccessful</td>\n",
       "      <td>6217807653094995999</td>\n",
       "      <td>2019-07-25 11:48:42</td>\n",
       "      <td>248</td>\n",
       "      <td>2019-07-25</td>\n",
       "    </tr>\n",
       "  </tbody>\n",
       "</table>\n",
       "</div>"
      ],
      "text/plain": [
       "                 eventname         deviceidhash      eventtimestamp  expid  \\\n",
       "0         mainscreenappear  4575588528974610257 2019-07-25 04:43:36    246   \n",
       "1         mainscreenappear  7416695313311560658 2019-07-25 11:11:42    246   \n",
       "2  paymentscreensuccessful  3518123091307005509 2019-07-25 11:28:47    248   \n",
       "3         cartscreenappear  3518123091307005509 2019-07-25 11:28:47    248   \n",
       "4  paymentscreensuccessful  6217807653094995999 2019-07-25 11:48:42    248   \n",
       "\n",
       "        date  \n",
       "0 2019-07-25  \n",
       "1 2019-07-25  \n",
       "2 2019-07-25  \n",
       "3 2019-07-25  \n",
       "4 2019-07-25  "
      ]
     },
     "execution_count": 77,
     "metadata": {},
     "output_type": "execute_result"
    }
   ],
   "source": [
    "logs_exp['date']  = pd.DatetimeIndex(logs_exp['eventtimestamp']).date\n",
    "logs_exp['date'] = pd.to_datetime(logs_exp['date'])\n",
    "logs_exp.head()"
   ]
  },
  {
   "cell_type": "markdown",
   "metadata": {},
   "source": [
    "### Preproccesing Summary"
   ]
  },
  {
   "cell_type": "markdown",
   "metadata": {},
   "source": [
    "Everything looks good now. We have dropped duplicates, converted experiment groups to object data type and converted timestamps to DateTime, and added a date column. Preprocessing is complete."
   ]
  },
  {
   "cell_type": "markdown",
   "metadata": {},
   "source": [
    "## Study and Check Data"
   ]
  },
  {
   "cell_type": "markdown",
   "metadata": {},
   "source": [
    "### Unique Events"
   ]
  },
  {
   "cell_type": "markdown",
   "metadata": {},
   "source": [
    "Let's find out how many unique events occur in the data by applying .unique() to the \"eventname\" column. We will also print the event labels themselves using .unique()."
   ]
  },
  {
   "cell_type": "code",
   "execution_count": 78,
   "metadata": {},
   "outputs": [
    {
     "name": "stdout",
     "output_type": "stream",
     "text": [
      "['mainscreenappear' 'paymentscreensuccessful' 'cartscreenappear'\n",
      " 'offersscreenappear' 'tutorial']\n",
      "\n",
      "Total Number of Events:  243713\n"
     ]
    }
   ],
   "source": [
    "unique_events = logs_exp['eventname'].nunique()\n",
    "print(logs_exp['eventname'].unique())\n",
    "print()\n",
    "print('Total Number of Events: ', len(logs_exp))"
   ]
  },
  {
   "cell_type": "markdown",
   "metadata": {},
   "source": [
    "There are five unique events: 'mainscreenappear', 'paymentscreensuccessful', 'cartscreenappear',\n",
    " 'offersscreenappear', and 'tutorial'"
   ]
  },
  {
   "cell_type": "markdown",
   "metadata": {},
   "source": [
    "### Unique Users"
   ]
  },
  {
   "cell_type": "markdown",
   "metadata": {},
   "source": [
    "Let's find out how many unique users occur in the data by applying .nunique() to the \"deviceidhash\" column."
   ]
  },
  {
   "cell_type": "code",
   "execution_count": 79,
   "metadata": {},
   "outputs": [],
   "source": [
    "unique_users = logs_exp['deviceidhash'].nunique()"
   ]
  },
  {
   "cell_type": "markdown",
   "metadata": {},
   "source": [
    "There are 7,551 unique users."
   ]
  },
  {
   "cell_type": "markdown",
   "metadata": {},
   "source": [
    "### Average Events per User"
   ]
  },
  {
   "cell_type": "markdown",
   "metadata": {},
   "source": [
    "Now let's calculate average events per user by dividing the total number of rows by the unique_users."
   ]
  },
  {
   "cell_type": "code",
   "execution_count": 80,
   "metadata": {},
   "outputs": [
    {
     "name": "stdout",
     "output_type": "stream",
     "text": [
      "Average Events per User: 32\n"
     ]
    }
   ],
   "source": [
    "events_per_user = len(logs_exp) / unique_users\n",
    "print('Average Events per User: {0:.0f}'.format(events_per_user))"
   ]
  },
  {
   "cell_type": "markdown",
   "metadata": {},
   "source": [
    "Let's take a look at how they are distributed. First we will group by user, and count the number of events for each."
   ]
  },
  {
   "cell_type": "code",
   "execution_count": 81,
   "metadata": {},
   "outputs": [
    {
     "data": {
      "text/html": [
       "<div>\n",
       "<style scoped>\n",
       "    .dataframe tbody tr th:only-of-type {\n",
       "        vertical-align: middle;\n",
       "    }\n",
       "\n",
       "    .dataframe tbody tr th {\n",
       "        vertical-align: top;\n",
       "    }\n",
       "\n",
       "    .dataframe thead th {\n",
       "        text-align: right;\n",
       "    }\n",
       "</style>\n",
       "<table border=\"1\" class=\"dataframe\">\n",
       "  <thead>\n",
       "    <tr style=\"text-align: right;\">\n",
       "      <th></th>\n",
       "      <th>eventname</th>\n",
       "    </tr>\n",
       "    <tr>\n",
       "      <th>deviceidhash</th>\n",
       "      <th></th>\n",
       "    </tr>\n",
       "  </thead>\n",
       "  <tbody>\n",
       "    <tr>\n",
       "      <th>6888746892508752</th>\n",
       "      <td>1</td>\n",
       "    </tr>\n",
       "    <tr>\n",
       "      <th>6909561520679493</th>\n",
       "      <td>5</td>\n",
       "    </tr>\n",
       "    <tr>\n",
       "      <th>6922444491712477</th>\n",
       "      <td>47</td>\n",
       "    </tr>\n",
       "    <tr>\n",
       "      <th>7435777799948366</th>\n",
       "      <td>6</td>\n",
       "    </tr>\n",
       "    <tr>\n",
       "      <th>7702139951469979</th>\n",
       "      <td>137</td>\n",
       "    </tr>\n",
       "  </tbody>\n",
       "</table>\n",
       "</div>"
      ],
      "text/plain": [
       "                  eventname\n",
       "deviceidhash               \n",
       "6888746892508752          1\n",
       "6909561520679493          5\n",
       "6922444491712477         47\n",
       "7435777799948366          6\n",
       "7702139951469979        137"
      ]
     },
     "execution_count": 81,
     "metadata": {},
     "output_type": "execute_result"
    }
   ],
   "source": [
    "events_distribution = logs_exp.groupby('deviceidhash').agg({'eventname' : 'count'})\n",
    "events_distribution.head()"
   ]
  },
  {
   "cell_type": "markdown",
   "metadata": {},
   "source": [
    "Now, let's plot a histogram showing the frequency of each user's number of events."
   ]
  },
  {
   "cell_type": "code",
   "execution_count": 82,
   "metadata": {
    "scrolled": false
   },
   "outputs": [
    {
     "data": {
      "image/png": "[encoded data removed]",
      "text/plain": [
       "<Figure size 1152x576 with 1 Axes>"
      ]
     },
     "metadata": {
      "needs_background": "light"
     },
     "output_type": "display_data"
    },
    {
     "name": "stdout",
     "output_type": "stream",
     "text": [
      "Median of Events per User: 20\n"
     ]
    }
   ],
   "source": [
    "plt.figure(figsize=(16, 8))\n",
    "plt.hist(data=events_distribution, x='eventname', bins=(500))\n",
    "plt.title('Event Distrobution per Unique User')\n",
    "plt.ylabel('Unique Users')\n",
    "plt.xlabel('No. of Events')\n",
    "plt.show()\n",
    "\n",
    "print('Median of Events per User: {0:.0f}'.format(events_distribution['eventname'].median()))"
   ]
  },
  {
   "cell_type": "markdown",
   "metadata": {},
   "source": [
    "Although the mean is 32, We can see here that most users fall below 32 events, but the mean is pulled higher due to a few users with massive numbers of events, at least one of which reaches over 2,000."
   ]
  },
  {
   "cell_type": "markdown",
   "metadata": {},
   "source": [
    "### Time Period"
   ]
  },
  {
   "cell_type": "markdown",
   "metadata": {},
   "source": [
    "Let's find the first and last date of the period represented by the data. To do this, we will use .min() and .max()."
   ]
  },
  {
   "cell_type": "code",
   "execution_count": 83,
   "metadata": {},
   "outputs": [
    {
     "name": "stdout",
     "output_type": "stream",
     "text": [
      "Period Starting Date: 2019-07-25 00:00:00\n"
     ]
    }
   ],
   "source": [
    "min_date = logs_exp['date'].min()\n",
    "print('Period Starting Date:', min_date)"
   ]
  },
  {
   "cell_type": "code",
   "execution_count": 84,
   "metadata": {},
   "outputs": [
    {
     "name": "stdout",
     "output_type": "stream",
     "text": [
      "Period Ending Date: 2019-08-07 00:00:00\n"
     ]
    }
   ],
   "source": [
    "max_date = logs_exp['date'].max()\n",
    "print('Period Ending Date:', max_date)"
   ]
  },
  {
   "cell_type": "markdown",
   "metadata": {},
   "source": [
    "Now, let's plot a histogram by date to see how the data is distributed per day."
   ]
  },
  {
   "cell_type": "code",
   "execution_count": 85,
   "metadata": {},
   "outputs": [
    {
     "data": {
      "image/png": "[encoded data removed]",
      "text/plain": [
       "<Figure size 1152x576 with 1 Axes>"
      ]
     },
     "metadata": {
      "needs_background": "light"
     },
     "output_type": "display_data"
    }
   ],
   "source": [
    "plt.figure(figsize=(16, 8))\n",
    "plt.hist(data=logs_exp, x='date', bins=(14))\n",
    "plt.title('Distribution of Event Dates and Times')\n",
    "plt.ylabel('No. of Events')\n",
    "plt.xlabel('Date')\n",
    "plt.show()"
   ]
  },
  {
   "cell_type": "markdown",
   "metadata": {},
   "source": [
    "It appears that most of the data occurs after the month of July. Older events must have ended up in some users' logs for technical reasons. We will need to account for this later if we do not want to skew the data. The period of time actually represented by the data is actually the first seven days of August."
   ]
  },
  {
   "cell_type": "markdown",
   "metadata": {},
   "source": [
    "### Impact of Filtering Data Prior to Actual Period"
   ]
  },
  {
   "cell_type": "markdown",
   "metadata": {},
   "source": [
    "Let's make a slice including only data for the first seven days of August to find out what changes."
   ]
  },
  {
   "cell_type": "code",
   "execution_count": 86,
   "metadata": {},
   "outputs": [
    {
     "data": {
      "text/html": [
       "<div>\n",
       "<style scoped>\n",
       "    .dataframe tbody tr th:only-of-type {\n",
       "        vertical-align: middle;\n",
       "    }\n",
       "\n",
       "    .dataframe tbody tr th {\n",
       "        vertical-align: top;\n",
       "    }\n",
       "\n",
       "    .dataframe thead th {\n",
       "        text-align: right;\n",
       "    }\n",
       "</style>\n",
       "<table border=\"1\" class=\"dataframe\">\n",
       "  <thead>\n",
       "    <tr style=\"text-align: right;\">\n",
       "      <th></th>\n",
       "      <th>eventname</th>\n",
       "      <th>deviceidhash</th>\n",
       "      <th>eventtimestamp</th>\n",
       "      <th>expid</th>\n",
       "      <th>date</th>\n",
       "    </tr>\n",
       "  </thead>\n",
       "  <tbody>\n",
       "    <tr>\n",
       "      <th>2828</th>\n",
       "      <td>tutorial</td>\n",
       "      <td>3737462046622621720</td>\n",
       "      <td>2019-08-01 00:07:28</td>\n",
       "      <td>246</td>\n",
       "      <td>2019-08-01</td>\n",
       "    </tr>\n",
       "    <tr>\n",
       "      <th>2829</th>\n",
       "      <td>mainscreenappear</td>\n",
       "      <td>3737462046622621720</td>\n",
       "      <td>2019-08-01 00:08:00</td>\n",
       "      <td>246</td>\n",
       "      <td>2019-08-01</td>\n",
       "    </tr>\n",
       "    <tr>\n",
       "      <th>2830</th>\n",
       "      <td>mainscreenappear</td>\n",
       "      <td>3737462046622621720</td>\n",
       "      <td>2019-08-01 00:08:55</td>\n",
       "      <td>246</td>\n",
       "      <td>2019-08-01</td>\n",
       "    </tr>\n",
       "    <tr>\n",
       "      <th>2831</th>\n",
       "      <td>offersscreenappear</td>\n",
       "      <td>3737462046622621720</td>\n",
       "      <td>2019-08-01 00:08:58</td>\n",
       "      <td>246</td>\n",
       "      <td>2019-08-01</td>\n",
       "    </tr>\n",
       "    <tr>\n",
       "      <th>2832</th>\n",
       "      <td>mainscreenappear</td>\n",
       "      <td>1433840883824088890</td>\n",
       "      <td>2019-08-01 00:08:59</td>\n",
       "      <td>247</td>\n",
       "      <td>2019-08-01</td>\n",
       "    </tr>\n",
       "  </tbody>\n",
       "</table>\n",
       "</div>"
      ],
      "text/plain": [
       "               eventname         deviceidhash      eventtimestamp  expid  \\\n",
       "2828            tutorial  3737462046622621720 2019-08-01 00:07:28    246   \n",
       "2829    mainscreenappear  3737462046622621720 2019-08-01 00:08:00    246   \n",
       "2830    mainscreenappear  3737462046622621720 2019-08-01 00:08:55    246   \n",
       "2831  offersscreenappear  3737462046622621720 2019-08-01 00:08:58    246   \n",
       "2832    mainscreenappear  1433840883824088890 2019-08-01 00:08:59    247   \n",
       "\n",
       "           date  \n",
       "2828 2019-08-01  \n",
       "2829 2019-08-01  \n",
       "2830 2019-08-01  \n",
       "2831 2019-08-01  \n",
       "2832 2019-08-01  "
      ]
     },
     "execution_count": 86,
     "metadata": {},
     "output_type": "execute_result"
    }
   ],
   "source": [
    "logs_exp_august = logs_exp.loc[logs_exp.loc[:,'date'] > '2019-07-31']\n",
    "logs_exp_august.head()"
   ]
  },
  {
   "cell_type": "markdown",
   "metadata": {},
   "source": [
    "Let's check how many events remain in the data after the slice."
   ]
  },
  {
   "cell_type": "code",
   "execution_count": 87,
   "metadata": {},
   "outputs": [
    {
     "name": "stdout",
     "output_type": "stream",
     "text": [
      "Percentage of events retained after slicing for August only: 0.988404393692581\n"
     ]
    }
   ],
   "source": [
    "percentage_events_remaining = len(logs_exp_august) / len(logs_exp)\n",
    "print('Percentage of events retained after slicing for August only:', percentage_events_remaining)"
   ]
  },
  {
   "cell_type": "markdown",
   "metadata": {},
   "source": [
    "We still have almost 99% of our events. Now, let's check how many users were lost. First we will count the unique users in our new slice."
   ]
  },
  {
   "cell_type": "code",
   "execution_count": 88,
   "metadata": {},
   "outputs": [
    {
     "data": {
      "text/plain": [
       "7534"
      ]
     },
     "execution_count": 88,
     "metadata": {},
     "output_type": "execute_result"
    }
   ],
   "source": [
    "august_users = logs_exp_august['deviceidhash'].nunique()\n",
    "august_users"
   ]
  },
  {
   "cell_type": "markdown",
   "metadata": {},
   "source": [
    "Now, let's find the percentage."
   ]
  },
  {
   "cell_type": "code",
   "execution_count": 89,
   "metadata": {},
   "outputs": [
    {
     "name": "stdout",
     "output_type": "stream",
     "text": [
      "Percentage of users retained after slicing for August only: 0.9977486425638988\n"
     ]
    }
   ],
   "source": [
    "percentage_users_remaining = august_users / unique_users\n",
    "print('Percentage of users retained after slicing for August only:', percentage_users_remaining)"
   ]
  },
  {
   "cell_type": "markdown",
   "metadata": {},
   "source": [
    "Less than 1% of users were lost in the slice."
   ]
  },
  {
   "cell_type": "markdown",
   "metadata": {},
   "source": [
    "### Three Experimental Groups"
   ]
  },
  {
   "cell_type": "markdown",
   "metadata": {},
   "source": [
    "Finally, we will double check to make sure all three experiment groups are represented. Let's group by expid and date to count how many records there are for each."
   ]
  },
  {
   "cell_type": "code",
   "execution_count": 90,
   "metadata": {},
   "outputs": [
    {
     "data": {
      "text/html": [
       "<div>\n",
       "<style scoped>\n",
       "    .dataframe tbody tr th:only-of-type {\n",
       "        vertical-align: middle;\n",
       "    }\n",
       "\n",
       "    .dataframe tbody tr th {\n",
       "        vertical-align: top;\n",
       "    }\n",
       "\n",
       "    .dataframe thead th {\n",
       "        text-align: right;\n",
       "    }\n",
       "</style>\n",
       "<table border=\"1\" class=\"dataframe\">\n",
       "  <thead>\n",
       "    <tr style=\"text-align: right;\">\n",
       "      <th></th>\n",
       "      <th></th>\n",
       "      <th>eventname</th>\n",
       "    </tr>\n",
       "    <tr>\n",
       "      <th>expid</th>\n",
       "      <th>date</th>\n",
       "      <th></th>\n",
       "    </tr>\n",
       "  </thead>\n",
       "  <tbody>\n",
       "    <tr>\n",
       "      <th rowspan=\"7\" valign=\"top\">246</th>\n",
       "      <th>2019-08-01</th>\n",
       "      <td>11561</td>\n",
       "    </tr>\n",
       "    <tr>\n",
       "      <th>2019-08-02</th>\n",
       "      <td>10946</td>\n",
       "    </tr>\n",
       "    <tr>\n",
       "      <th>2019-08-03</th>\n",
       "      <td>10575</td>\n",
       "    </tr>\n",
       "    <tr>\n",
       "      <th>2019-08-04</th>\n",
       "      <td>11514</td>\n",
       "    </tr>\n",
       "    <tr>\n",
       "      <th>2019-08-05</th>\n",
       "      <td>12368</td>\n",
       "    </tr>\n",
       "    <tr>\n",
       "      <th>2019-08-06</th>\n",
       "      <td>11726</td>\n",
       "    </tr>\n",
       "    <tr>\n",
       "      <th>2019-08-07</th>\n",
       "      <td>10612</td>\n",
       "    </tr>\n",
       "    <tr>\n",
       "      <th rowspan=\"7\" valign=\"top\">247</th>\n",
       "      <th>2019-08-01</th>\n",
       "      <td>12306</td>\n",
       "    </tr>\n",
       "    <tr>\n",
       "      <th>2019-08-02</th>\n",
       "      <td>10990</td>\n",
       "    </tr>\n",
       "    <tr>\n",
       "      <th>2019-08-03</th>\n",
       "      <td>11024</td>\n",
       "    </tr>\n",
       "    <tr>\n",
       "      <th>2019-08-04</th>\n",
       "      <td>9942</td>\n",
       "    </tr>\n",
       "    <tr>\n",
       "      <th>2019-08-05</th>\n",
       "      <td>10949</td>\n",
       "    </tr>\n",
       "    <tr>\n",
       "      <th>2019-08-06</th>\n",
       "      <td>11720</td>\n",
       "    </tr>\n",
       "    <tr>\n",
       "      <th>2019-08-07</th>\n",
       "      <td>10091</td>\n",
       "    </tr>\n",
       "    <tr>\n",
       "      <th rowspan=\"7\" valign=\"top\">248</th>\n",
       "      <th>2019-08-01</th>\n",
       "      <td>12274</td>\n",
       "    </tr>\n",
       "    <tr>\n",
       "      <th>2019-08-02</th>\n",
       "      <td>13618</td>\n",
       "    </tr>\n",
       "    <tr>\n",
       "      <th>2019-08-03</th>\n",
       "      <td>11683</td>\n",
       "    </tr>\n",
       "    <tr>\n",
       "      <th>2019-08-04</th>\n",
       "      <td>11512</td>\n",
       "    </tr>\n",
       "    <tr>\n",
       "      <th>2019-08-05</th>\n",
       "      <td>12741</td>\n",
       "    </tr>\n",
       "    <tr>\n",
       "      <th>2019-08-06</th>\n",
       "      <td>12342</td>\n",
       "    </tr>\n",
       "    <tr>\n",
       "      <th>2019-08-07</th>\n",
       "      <td>10393</td>\n",
       "    </tr>\n",
       "  </tbody>\n",
       "</table>\n",
       "</div>"
      ],
      "text/plain": [
       "                  eventname\n",
       "expid date                 \n",
       "246   2019-08-01      11561\n",
       "      2019-08-02      10946\n",
       "      2019-08-03      10575\n",
       "      2019-08-04      11514\n",
       "      2019-08-05      12368\n",
       "      2019-08-06      11726\n",
       "      2019-08-07      10612\n",
       "247   2019-08-01      12306\n",
       "      2019-08-02      10990\n",
       "      2019-08-03      11024\n",
       "      2019-08-04       9942\n",
       "      2019-08-05      10949\n",
       "      2019-08-06      11720\n",
       "      2019-08-07      10091\n",
       "248   2019-08-01      12274\n",
       "      2019-08-02      13618\n",
       "      2019-08-03      11683\n",
       "      2019-08-04      11512\n",
       "      2019-08-05      12741\n",
       "      2019-08-06      12342\n",
       "      2019-08-07      10393"
      ]
     },
     "execution_count": 90,
     "metadata": {},
     "output_type": "execute_result"
    }
   ],
   "source": [
    "logs_exp_august.groupby(['expid', 'date']).agg({'eventname' : 'count'})"
   ]
  },
  {
   "cell_type": "markdown",
   "metadata": {},
   "source": [
    "We can see clearly here that all three experiment groups are represented for all seven days of the period."
   ]
  },
  {
   "cell_type": "markdown",
   "metadata": {},
   "source": [
    "### Study/Data Check Summary"
   ]
  },
  {
   "cell_type": "markdown",
   "metadata": {},
   "source": [
    "We have identified five event types and 7,551 unique users who average 32 events over the seven day period. We have made the required slice to remove data occurring before the period of interest. We still have around 99% of our data remaining, and all three experimental groups for all seven days of the period are well represented. Let's move on to the event funnel."
   ]
  },
  {
   "cell_type": "markdown",
   "metadata": {},
   "source": [
    "## Study the event funnel"
   ]
  },
  {
   "cell_type": "markdown",
   "metadata": {},
   "source": [
    "### Event Frequency"
   ]
  },
  {
   "cell_type": "markdown",
   "metadata": {},
   "source": [
    "Let's .groupby() event and sort them acording to frequency."
   ]
  },
  {
   "cell_type": "code",
   "execution_count": 91,
   "metadata": {},
   "outputs": [
    {
     "data": {
      "text/html": [
       "<div>\n",
       "<style scoped>\n",
       "    .dataframe tbody tr th:only-of-type {\n",
       "        vertical-align: middle;\n",
       "    }\n",
       "\n",
       "    .dataframe tbody tr th {\n",
       "        vertical-align: top;\n",
       "    }\n",
       "\n",
       "    .dataframe thead th {\n",
       "        text-align: right;\n",
       "    }\n",
       "</style>\n",
       "<table border=\"1\" class=\"dataframe\">\n",
       "  <thead>\n",
       "    <tr style=\"text-align: right;\">\n",
       "      <th></th>\n",
       "      <th>eventname</th>\n",
       "      <th>eventtimestamp</th>\n",
       "    </tr>\n",
       "  </thead>\n",
       "  <tbody>\n",
       "    <tr>\n",
       "      <th>0</th>\n",
       "      <td>mainscreenappear</td>\n",
       "      <td>117328</td>\n",
       "    </tr>\n",
       "    <tr>\n",
       "      <th>1</th>\n",
       "      <td>offersscreenappear</td>\n",
       "      <td>46333</td>\n",
       "    </tr>\n",
       "    <tr>\n",
       "      <th>2</th>\n",
       "      <td>cartscreenappear</td>\n",
       "      <td>42303</td>\n",
       "    </tr>\n",
       "    <tr>\n",
       "      <th>3</th>\n",
       "      <td>paymentscreensuccessful</td>\n",
       "      <td>33918</td>\n",
       "    </tr>\n",
       "    <tr>\n",
       "      <th>4</th>\n",
       "      <td>tutorial</td>\n",
       "      <td>1005</td>\n",
       "    </tr>\n",
       "  </tbody>\n",
       "</table>\n",
       "</div>"
      ],
      "text/plain": [
       "                 eventname  eventtimestamp\n",
       "0         mainscreenappear          117328\n",
       "1       offersscreenappear           46333\n",
       "2         cartscreenappear           42303\n",
       "3  paymentscreensuccessful           33918\n",
       "4                 tutorial            1005"
      ]
     },
     "execution_count": 91,
     "metadata": {},
     "output_type": "execute_result"
    }
   ],
   "source": [
    "logs_exp_august.groupby('eventname').agg({'eventtimestamp' : 'count'})\\\n",
    ".sort_values('eventtimestamp', ascending=False).reset_index()"
   ]
  },
  {
   "cell_type": "markdown",
   "metadata": {},
   "source": [
    "As could be expected, the main screen is the most common event to occur."
   ]
  },
  {
   "cell_type": "markdown",
   "metadata": {},
   "source": [
    "### Unique Users and User Proportions per Event"
   ]
  },
  {
   "cell_type": "markdown",
   "metadata": {},
   "source": [
    "Let's use the same methods to take a look at how many unique users engaged with each event type."
   ]
  },
  {
   "cell_type": "code",
   "execution_count": 92,
   "metadata": {},
   "outputs": [],
   "source": [
    "funnel_chart = logs_exp_august.groupby('eventname').agg({'deviceidhash' : 'nunique'})\\\n",
    ".sort_values('deviceidhash', ascending=False).reset_index()"
   ]
  },
  {
   "cell_type": "markdown",
   "metadata": {},
   "source": [
    "The result is similar to the number of events. Let's add a column showing the proportion of total unique users who encountered each event."
   ]
  },
  {
   "cell_type": "code",
   "execution_count": 93,
   "metadata": {},
   "outputs": [
    {
     "data": {
      "text/html": [
       "<div>\n",
       "<style scoped>\n",
       "    .dataframe tbody tr th:only-of-type {\n",
       "        vertical-align: middle;\n",
       "    }\n",
       "\n",
       "    .dataframe tbody tr th {\n",
       "        vertical-align: top;\n",
       "    }\n",
       "\n",
       "    .dataframe thead th {\n",
       "        text-align: right;\n",
       "    }\n",
       "</style>\n",
       "<table border=\"1\" class=\"dataframe\">\n",
       "  <thead>\n",
       "    <tr style=\"text-align: right;\">\n",
       "      <th></th>\n",
       "      <th>eventname</th>\n",
       "      <th>deviceidhash</th>\n",
       "      <th>proportion</th>\n",
       "    </tr>\n",
       "  </thead>\n",
       "  <tbody>\n",
       "    <tr>\n",
       "      <th>0</th>\n",
       "      <td>mainscreenappear</td>\n",
       "      <td>7419</td>\n",
       "      <td>0.984736</td>\n",
       "    </tr>\n",
       "    <tr>\n",
       "      <th>1</th>\n",
       "      <td>offersscreenappear</td>\n",
       "      <td>4593</td>\n",
       "      <td>0.609636</td>\n",
       "    </tr>\n",
       "    <tr>\n",
       "      <th>2</th>\n",
       "      <td>cartscreenappear</td>\n",
       "      <td>3734</td>\n",
       "      <td>0.495620</td>\n",
       "    </tr>\n",
       "    <tr>\n",
       "      <th>3</th>\n",
       "      <td>paymentscreensuccessful</td>\n",
       "      <td>3539</td>\n",
       "      <td>0.469737</td>\n",
       "    </tr>\n",
       "    <tr>\n",
       "      <th>4</th>\n",
       "      <td>tutorial</td>\n",
       "      <td>840</td>\n",
       "      <td>0.111495</td>\n",
       "    </tr>\n",
       "  </tbody>\n",
       "</table>\n",
       "</div>"
      ],
      "text/plain": [
       "                 eventname  deviceidhash  proportion\n",
       "0         mainscreenappear          7419    0.984736\n",
       "1       offersscreenappear          4593    0.609636\n",
       "2         cartscreenappear          3734    0.495620\n",
       "3  paymentscreensuccessful          3539    0.469737\n",
       "4                 tutorial           840    0.111495"
      ]
     },
     "execution_count": 93,
     "metadata": {},
     "output_type": "execute_result"
    }
   ],
   "source": [
    "funnel_chart['proportion'] = funnel_chart['deviceidhash'] / len(logs_exp_august['deviceidhash'].unique())\n",
    "\n",
    "funnel_chart"
   ]
  },
  {
   "cell_type": "markdown",
   "metadata": {},
   "source": [
    "### Event Sequence"
   ]
  },
  {
   "cell_type": "markdown",
   "metadata": {},
   "source": [
    "Users begin on the main screen. Some find their way to the offer screen. If they select an item, they reach the cart screen. If they complete their purchase, they reach the payment successful screen. Users are filtered out at each stage.\n",
    "\n",
    "A few users engage with the tutorial as well. The tutorial screen will not be an applicable event in the funnel. The tutorial is optional and can be done at any stage in time. It has no logical place in the event funnel."
   ]
  },
  {
   "cell_type": "markdown",
   "metadata": {},
   "source": [
    "### Event Funnel"
   ]
  },
  {
   "cell_type": "markdown",
   "metadata": {},
   "source": [
    "Now, let's plot the event funnel chart. To do this, we will first remove the tutorial event from our funnel_chart table."
   ]
  },
  {
   "cell_type": "code",
   "execution_count": 94,
   "metadata": {},
   "outputs": [
    {
     "data": {
      "text/html": [
       "<div>\n",
       "<style scoped>\n",
       "    .dataframe tbody tr th:only-of-type {\n",
       "        vertical-align: middle;\n",
       "    }\n",
       "\n",
       "    .dataframe tbody tr th {\n",
       "        vertical-align: top;\n",
       "    }\n",
       "\n",
       "    .dataframe thead th {\n",
       "        text-align: right;\n",
       "    }\n",
       "</style>\n",
       "<table border=\"1\" class=\"dataframe\">\n",
       "  <thead>\n",
       "    <tr style=\"text-align: right;\">\n",
       "      <th></th>\n",
       "      <th>eventname</th>\n",
       "      <th>deviceidhash</th>\n",
       "      <th>proportion</th>\n",
       "    </tr>\n",
       "  </thead>\n",
       "  <tbody>\n",
       "    <tr>\n",
       "      <th>0</th>\n",
       "      <td>mainscreenappear</td>\n",
       "      <td>7419</td>\n",
       "      <td>0.984736</td>\n",
       "    </tr>\n",
       "    <tr>\n",
       "      <th>1</th>\n",
       "      <td>offersscreenappear</td>\n",
       "      <td>4593</td>\n",
       "      <td>0.609636</td>\n",
       "    </tr>\n",
       "    <tr>\n",
       "      <th>2</th>\n",
       "      <td>cartscreenappear</td>\n",
       "      <td>3734</td>\n",
       "      <td>0.495620</td>\n",
       "    </tr>\n",
       "    <tr>\n",
       "      <th>3</th>\n",
       "      <td>paymentscreensuccessful</td>\n",
       "      <td>3539</td>\n",
       "      <td>0.469737</td>\n",
       "    </tr>\n",
       "  </tbody>\n",
       "</table>\n",
       "</div>"
      ],
      "text/plain": [
       "                 eventname  deviceidhash  proportion\n",
       "0         mainscreenappear          7419    0.984736\n",
       "1       offersscreenappear          4593    0.609636\n",
       "2         cartscreenappear          3734    0.495620\n",
       "3  paymentscreensuccessful          3539    0.469737"
      ]
     },
     "execution_count": 94,
     "metadata": {},
     "output_type": "execute_result"
    }
   ],
   "source": [
    "funnel_chart = funnel_chart.loc[funnel_chart.loc[:,'eventname'] != 'tutorial']\n",
    "funnel_chart"
   ]
  },
  {
   "cell_type": "markdown",
   "metadata": {},
   "source": [
    "Now, let's plot an interactive chart using the graph_objects library and .funnel()."
   ]
  },
  {
   "cell_type": "code",
   "execution_count": 95,
   "metadata": {},
   "outputs": [
    {
     "data": {
      "application/vnd.plotly.v1+json": {
       "config": {
        "plotlyServerURL": "https://plot.ly"
       },
       "data": [
        {
         "type": "funnel",
         "x": [
          7419,
          4593,
          3734,
          3539
         ],
         "y": [
          "Main Screen",
          "Offer Screen",
          "Cart Screen",
          "Payment Successful Screen"
         ]
        }
       ],
       "layout": {
        "template": {
         "data": {
          "bar": [
           {
            "error_x": {
             "color": "#2a3f5f"
            },
            "error_y": {
             "color": "#2a3f5f"
            },
            "marker": {
             "line": {
              "color": "#E5ECF6",
              "width": 0.5
             },
             "pattern": {
              "fillmode": "overlay",
              "size": 10,
              "solidity": 0.2
             }
            },
            "type": "bar"
           }
          ],
          "barpolar": [
           {
            "marker": {
             "line": {
              "color": "#E5ECF6",
              "width": 0.5
             },
             "pattern": {
              "fillmode": "overlay",
              "size": 10,
              "solidity": 0.2
             }
            },
            "type": "barpolar"
           }
          ],
          "carpet": [
           {
            "aaxis": {
             "endlinecolor": "#2a3f5f",
             "gridcolor": "white",
             "linecolor": "white",
             "minorgridcolor": "white",
             "startlinecolor": "#2a3f5f"
            },
            "baxis": {
             "endlinecolor": "#2a3f5f",
             "gridcolor": "white",
             "linecolor": "white",
             "minorgridcolor": "white",
             "startlinecolor": "#2a3f5f"
            },
            "type": "carpet"
           }
          ],
          "choropleth": [
           {
            "colorbar": {
             "outlinewidth": 0,
             "ticks": ""
            },
            "type": "choropleth"
           }
          ],
          "contour": [
           {
            "colorbar": {
             "outlinewidth": 0,
             "ticks": ""
            },
            "colorscale": [
             [
              0,
              "#0d0887"
             ],
             [
              0.1111111111111111,
              "#46039f"
             ],
             [
              0.2222222222222222,
              "#7201a8"
             ],
             [
              0.3333333333333333,
              "#9c179e"
             ],
             [
              0.4444444444444444,
              "#bd3786"
             ],
             [
              0.5555555555555556,
              "#d8576b"
             ],
             [
              0.6666666666666666,
              "#ed7953"
             ],
             [
              0.7777777777777778,
              "#fb9f3a"
             ],
             [
              0.8888888888888888,
              "#fdca26"
             ],
             [
              1,
              "#f0f921"
             ]
            ],
            "type": "contour"
           }
          ],
          "contourcarpet": [
           {
            "colorbar": {
             "outlinewidth": 0,
             "ticks": ""
            },
            "type": "contourcarpet"
           }
          ],
          "heatmap": [
           {
            "colorbar": {
             "outlinewidth": 0,
             "ticks": ""
            },
            "colorscale": [
             [
              0,
              "#0d0887"
             ],
             [
              0.1111111111111111,
              "#46039f"
             ],
             [
              0.2222222222222222,
              "#7201a8"
             ],
             [
              0.3333333333333333,
              "#9c179e"
             ],
             [
              0.4444444444444444,
              "#bd3786"
             ],
             [
              0.5555555555555556,
              "#d8576b"
             ],
             [
              0.6666666666666666,
              "#ed7953"
             ],
             [
              0.7777777777777778,
              "#fb9f3a"
             ],
             [
              0.8888888888888888,
              "#fdca26"
             ],
             [
              1,
              "#f0f921"
             ]
            ],
            "type": "heatmap"
           }
          ],
          "heatmapgl": [
           {
            "colorbar": {
             "outlinewidth": 0,
             "ticks": ""
            },
            "colorscale": [
             [
              0,
              "#0d0887"
             ],
             [
              0.1111111111111111,
              "#46039f"
             ],
             [
              0.2222222222222222,
              "#7201a8"
             ],
             [
              0.3333333333333333,
              "#9c179e"
             ],
             [
              0.4444444444444444,
              "#bd3786"
             ],
             [
              0.5555555555555556,
              "#d8576b"
             ],
             [
              0.6666666666666666,
              "#ed7953"
             ],
             [
              0.7777777777777778,
              "#fb9f3a"
             ],
             [
              0.8888888888888888,
              "#fdca26"
             ],
             [
              1,
              "#f0f921"
             ]
            ],
            "type": "heatmapgl"
           }
          ],
          "histogram": [
           {
            "marker": {
             "pattern": {
              "fillmode": "overlay",
              "size": 10,
              "solidity": 0.2
             }
            },
            "type": "histogram"
           }
          ],
          "histogram2d": [
           {
            "colorbar": {
             "outlinewidth": 0,
             "ticks": ""
            },
            "colorscale": [
             [
              0,
              "#0d0887"
             ],
             [
              0.1111111111111111,
              "#46039f"
             ],
             [
              0.2222222222222222,
              "#7201a8"
             ],
             [
              0.3333333333333333,
              "#9c179e"
             ],
             [
              0.4444444444444444,
              "#bd3786"
             ],
             [
              0.5555555555555556,
              "#d8576b"
             ],
             [
              0.6666666666666666,
              "#ed7953"
             ],
             [
              0.7777777777777778,
              "#fb9f3a"
             ],
             [
              0.8888888888888888,
              "#fdca26"
             ],
             [
              1,
              "#f0f921"
             ]
            ],
            "type": "histogram2d"
           }
          ],
          "histogram2dcontour": [
           {
            "colorbar": {
             "outlinewidth": 0,
             "ticks": ""
            },
            "colorscale": [
             [
              0,
              "#0d0887"
             ],
             [
              0.1111111111111111,
              "#46039f"
             ],
             [
              0.2222222222222222,
              "#7201a8"
             ],
             [
              0.3333333333333333,
              "#9c179e"
             ],
             [
              0.4444444444444444,
              "#bd3786"
             ],
             [
              0.5555555555555556,
              "#d8576b"
             ],
             [
              0.6666666666666666,
              "#ed7953"
             ],
             [
              0.7777777777777778,
              "#fb9f3a"
             ],
             [
              0.8888888888888888,
              "#fdca26"
             ],
             [
              1,
              "#f0f921"
             ]
            ],
            "type": "histogram2dcontour"
           }
          ],
          "mesh3d": [
           {
            "colorbar": {
             "outlinewidth": 0,
             "ticks": ""
            },
            "type": "mesh3d"
           }
          ],
          "parcoords": [
           {
            "line": {
             "colorbar": {
              "outlinewidth": 0,
              "ticks": ""
             }
            },
            "type": "parcoords"
           }
          ],
          "pie": [
           {
            "automargin": true,
            "type": "pie"
           }
          ],
          "scatter": [
           {
            "fillpattern": {
             "fillmode": "overlay",
             "size": 10,
             "solidity": 0.2
            },
            "type": "scatter"
           }
          ],
          "scatter3d": [
           {
            "line": {
             "colorbar": {
              "outlinewidth": 0,
              "ticks": ""
             }
            },
            "marker": {
             "colorbar": {
              "outlinewidth": 0,
              "ticks": ""
             }
            },
            "type": "scatter3d"
           }
          ],
          "scattercarpet": [
           {
            "marker": {
             "colorbar": {
              "outlinewidth": 0,
              "ticks": ""
             }
            },
            "type": "scattercarpet"
           }
          ],
          "scattergeo": [
           {
            "marker": {
             "colorbar": {
              "outlinewidth": 0,
              "ticks": ""
             }
            },
            "type": "scattergeo"
           }
          ],
          "scattergl": [
           {
            "marker": {
             "colorbar": {
              "outlinewidth": 0,
              "ticks": ""
             }
            },
            "type": "scattergl"
           }
          ],
          "scattermapbox": [
           {
            "marker": {
             "colorbar": {
              "outlinewidth": 0,
              "ticks": ""
             }
            },
            "type": "scattermapbox"
           }
          ],
          "scatterpolar": [
           {
            "marker": {
             "colorbar": {
              "outlinewidth": 0,
              "ticks": ""
             }
            },
            "type": "scatterpolar"
           }
          ],
          "scatterpolargl": [
           {
            "marker": {
             "colorbar": {
              "outlinewidth": 0,
              "ticks": ""
             }
            },
            "type": "scatterpolargl"
           }
          ],
          "scatterternary": [
           {
            "marker": {
             "colorbar": {
              "outlinewidth": 0,
              "ticks": ""
             }
            },
            "type": "scatterternary"
           }
          ],
          "surface": [
           {
            "colorbar": {
             "outlinewidth": 0,
             "ticks": ""
            },
            "colorscale": [
             [
              0,
              "#0d0887"
             ],
             [
              0.1111111111111111,
              "#46039f"
             ],
             [
              0.2222222222222222,
              "#7201a8"
             ],
             [
              0.3333333333333333,
              "#9c179e"
             ],
             [
              0.4444444444444444,
              "#bd3786"
             ],
             [
              0.5555555555555556,
              "#d8576b"
             ],
             [
              0.6666666666666666,
              "#ed7953"
             ],
             [
              0.7777777777777778,
              "#fb9f3a"
             ],
             [
              0.8888888888888888,
              "#fdca26"
             ],
             [
              1,
              "#f0f921"
             ]
            ],
            "type": "surface"
           }
          ],
          "table": [
           {
            "cells": {
             "fill": {
              "color": "#EBF0F8"
             },
             "line": {
              "color": "white"
             }
            },
            "header": {
             "fill": {
              "color": "#C8D4E3"
             },
             "line": {
              "color": "white"
             }
            },
            "type": "table"
           }
          ]
         },
         "layout": {
          "annotationdefaults": {
           "arrowcolor": "#2a3f5f",
           "arrowhead": 0,
           "arrowwidth": 1
          },
          "autotypenumbers": "strict",
          "coloraxis": {
           "colorbar": {
            "outlinewidth": 0,
            "ticks": ""
           }
          },
          "colorscale": {
           "diverging": [
            [
             0,
             "#8e0152"
            ],
            [
             0.1,
             "#c51b7d"
            ],
            [
             0.2,
             "#de77ae"
            ],
            [
             0.3,
             "#f1b6da"
            ],
            [
             0.4,
             "#fde0ef"
            ],
            [
             0.5,
             "#f7f7f7"
            ],
            [
             0.6,
             "#e6f5d0"
            ],
            [
             0.7,
             "#b8e186"
            ],
            [
             0.8,
             "#7fbc41"
            ],
            [
             0.9,
             "#4d9221"
            ],
            [
             1,
             "#276419"
            ]
           ],
           "sequential": [
            [
             0,
             "#0d0887"
            ],
            [
             0.1111111111111111,
             "#46039f"
            ],
            [
             0.2222222222222222,
             "#7201a8"
            ],
            [
             0.3333333333333333,
             "#9c179e"
            ],
            [
             0.4444444444444444,
             "#bd3786"
            ],
            [
             0.5555555555555556,
             "#d8576b"
            ],
            [
             0.6666666666666666,
             "#ed7953"
            ],
            [
             0.7777777777777778,
             "#fb9f3a"
            ],
            [
             0.8888888888888888,
             "#fdca26"
            ],
            [
             1,
             "#f0f921"
            ]
           ],
           "sequentialminus": [
            [
             0,
             "#0d0887"
            ],
            [
             0.1111111111111111,
             "#46039f"
            ],
            [
             0.2222222222222222,
             "#7201a8"
            ],
            [
             0.3333333333333333,
             "#9c179e"
            ],
            [
             0.4444444444444444,
             "#bd3786"
            ],
            [
             0.5555555555555556,
             "#d8576b"
            ],
            [
             0.6666666666666666,
             "#ed7953"
            ],
            [
             0.7777777777777778,
             "#fb9f3a"
            ],
            [
             0.8888888888888888,
             "#fdca26"
            ],
            [
             1,
             "#f0f921"
            ]
           ]
          },
          "colorway": [
           "#636efa",
           "#EF553B",
           "#00cc96",
           "#ab63fa",
           "#FFA15A",
           "#19d3f3",
           "#FF6692",
           "#B6E880",
           "#FF97FF",
           "#FECB52"
          ],
          "font": {
           "color": "#2a3f5f"
          },
          "geo": {
           "bgcolor": "white",
           "lakecolor": "white",
           "landcolor": "#E5ECF6",
           "showlakes": true,
           "showland": true,
           "subunitcolor": "white"
          },
          "hoverlabel": {
           "align": "left"
          },
          "hovermode": "closest",
          "mapbox": {
           "style": "light"
          },
          "paper_bgcolor": "white",
          "plot_bgcolor": "#E5ECF6",
          "polar": {
           "angularaxis": {
            "gridcolor": "white",
            "linecolor": "white",
            "ticks": ""
           },
           "bgcolor": "#E5ECF6",
           "radialaxis": {
            "gridcolor": "white",
            "linecolor": "white",
            "ticks": ""
           }
          },
          "scene": {
           "xaxis": {
            "backgroundcolor": "#E5ECF6",
            "gridcolor": "white",
            "gridwidth": 2,
            "linecolor": "white",
            "showbackground": true,
            "ticks": "",
            "zerolinecolor": "white"
           },
           "yaxis": {
            "backgroundcolor": "#E5ECF6",
            "gridcolor": "white",
            "gridwidth": 2,
            "linecolor": "white",
            "showbackground": true,
            "ticks": "",
            "zerolinecolor": "white"
           },
           "zaxis": {
            "backgroundcolor": "#E5ECF6",
            "gridcolor": "white",
            "gridwidth": 2,
            "linecolor": "white",
            "showbackground": true,
            "ticks": "",
            "zerolinecolor": "white"
           }
          },
          "shapedefaults": {
           "line": {
            "color": "#2a3f5f"
           }
          },
          "ternary": {
           "aaxis": {
            "gridcolor": "white",
            "linecolor": "white",
            "ticks": ""
           },
           "baxis": {
            "gridcolor": "white",
            "linecolor": "white",
            "ticks": ""
           },
           "bgcolor": "#E5ECF6",
           "caxis": {
            "gridcolor": "white",
            "linecolor": "white",
            "ticks": ""
           }
          },
          "title": {
           "x": 0.05
          },
          "xaxis": {
           "automargin": true,
           "gridcolor": "white",
           "linecolor": "white",
           "ticks": "",
           "title": {
            "standoff": 15
           },
           "zerolinecolor": "white",
           "zerolinewidth": 2
          },
          "yaxis": {
           "automargin": true,
           "gridcolor": "white",
           "linecolor": "white",
           "ticks": "",
           "title": {
            "standoff": 15
           },
           "zerolinecolor": "white",
           "zerolinewidth": 2
          }
         }
        },
        "title": {
         "text": "Event Funnel"
        }
       }
      },
      "text/html": [
       "<div>                            <div id=\"7adf7db5-80e4-438d-9ec3-3cb3d41eb823\" class=\"plotly-graph-div\" style=\"height:525px; width:100%;\"></div>            <script type=\"text/javascript\">                require([\"plotly\"], function(Plotly) {                    window.PLOTLYENV=window.PLOTLYENV || {};                                    if (document.getElementById(\"7adf7db5-80e4-438d-9ec3-3cb3d41eb823\")) {                    Plotly.newPlot(                        \"7adf7db5-80e4-438d-9ec3-3cb3d41eb823\",                        [{\"x\":[7419,4593,3734,3539],\"y\":[\"Main Screen\",\"Offer Screen\",\"Cart Screen\",\"Payment Successful Screen\"],\"type\":\"funnel\"}],                        {\"template\":{\"data\":{\"histogram2dcontour\":[{\"type\":\"histogram2dcontour\",\"colorbar\":{\"outlinewidth\":0,\"ticks\":\"\"},\"colorscale\":[[0.0,\"#0d0887\"],[0.1111111111111111,\"#46039f\"],[0.2222222222222222,\"#7201a8\"],[0.3333333333333333,\"#9c179e\"],[0.4444444444444444,\"#bd3786\"],[0.5555555555555556,\"#d8576b\"],[0.6666666666666666,\"#ed7953\"],[0.7777777777777778,\"#fb9f3a\"],[0.8888888888888888,\"#fdca26\"],[1.0,\"#f0f921\"]]}],\"choropleth\":[{\"type\":\"choropleth\",\"colorbar\":{\"outlinewidth\":0,\"ticks\":\"\"}}],\"histogram2d\":[{\"type\":\"histogram2d\",\"colorbar\":{\"outlinewidth\":0,\"ticks\":\"\"},\"colorscale\":[[0.0,\"#0d0887\"],[0.1111111111111111,\"#46039f\"],[0.2222222222222222,\"#7201a8\"],[0.3333333333333333,\"#9c179e\"],[0.4444444444444444,\"#bd3786\"],[0.5555555555555556,\"#d8576b\"],[0.6666666666666666,\"#ed7953\"],[0.7777777777777778,\"#fb9f3a\"],[0.8888888888888888,\"#fdca26\"],[1.0,\"#f0f921\"]]}],\"heatmap\":[{\"type\":\"heatmap\",\"colorbar\":{\"outlinewidth\":0,\"ticks\":\"\"},\"colorscale\":[[0.0,\"#0d0887\"],[0.1111111111111111,\"#46039f\"],[0.2222222222222222,\"#7201a8\"],[0.3333333333333333,\"#9c179e\"],[0.4444444444444444,\"#bd3786\"],[0.5555555555555556,\"#d8576b\"],[0.6666666666666666,\"#ed7953\"],[0.7777777777777778,\"#fb9f3a\"],[0.8888888888888888,\"#fdca26\"],[1.0,\"#f0f921\"]]}],\"heatmapgl\":[{\"type\":\"heatmapgl\",\"colorbar\":{\"outlinewidth\":0,\"ticks\":\"\"},\"colorscale\":[[0.0,\"#0d0887\"],[0.1111111111111111,\"#46039f\"],[0.2222222222222222,\"#7201a8\"],[0.3333333333333333,\"#9c179e\"],[0.4444444444444444,\"#bd3786\"],[0.5555555555555556,\"#d8576b\"],[0.6666666666666666,\"#ed7953\"],[0.7777777777777778,\"#fb9f3a\"],[0.8888888888888888,\"#fdca26\"],[1.0,\"#f0f921\"]]}],\"contourcarpet\":[{\"type\":\"contourcarpet\",\"colorbar\":{\"outlinewidth\":0,\"ticks\":\"\"}}],\"contour\":[{\"type\":\"contour\",\"colorbar\":{\"outlinewidth\":0,\"ticks\":\"\"},\"colorscale\":[[0.0,\"#0d0887\"],[0.1111111111111111,\"#46039f\"],[0.2222222222222222,\"#7201a8\"],[0.3333333333333333,\"#9c179e\"],[0.4444444444444444,\"#bd3786\"],[0.5555555555555556,\"#d8576b\"],[0.6666666666666666,\"#ed7953\"],[0.7777777777777778,\"#fb9f3a\"],[0.8888888888888888,\"#fdca26\"],[1.0,\"#f0f921\"]]}],\"surface\":[{\"type\":\"surface\",\"colorbar\":{\"outlinewidth\":0,\"ticks\":\"\"},\"colorscale\":[[0.0,\"#0d0887\"],[0.1111111111111111,\"#46039f\"],[0.2222222222222222,\"#7201a8\"],[0.3333333333333333,\"#9c179e\"],[0.4444444444444444,\"#bd3786\"],[0.5555555555555556,\"#d8576b\"],[0.6666666666666666,\"#ed7953\"],[0.7777777777777778,\"#fb9f3a\"],[0.8888888888888888,\"#fdca26\"],[1.0,\"#f0f921\"]]}],\"mesh3d\":[{\"type\":\"mesh3d\",\"colorbar\":{\"outlinewidth\":0,\"ticks\":\"\"}}],\"scatter\":[{\"fillpattern\":{\"fillmode\":\"overlay\",\"size\":10,\"solidity\":0.2},\"type\":\"scatter\"}],\"parcoords\":[{\"type\":\"parcoords\",\"line\":{\"colorbar\":{\"outlinewidth\":0,\"ticks\":\"\"}}}],\"scatterpolargl\":[{\"type\":\"scatterpolargl\",\"marker\":{\"colorbar\":{\"outlinewidth\":0,\"ticks\":\"\"}}}],\"bar\":[{\"error_x\":{\"color\":\"#2a3f5f\"},\"error_y\":{\"color\":\"#2a3f5f\"},\"marker\":{\"line\":{\"color\":\"#E5ECF6\",\"width\":0.5},\"pattern\":{\"fillmode\":\"overlay\",\"size\":10,\"solidity\":0.2}},\"type\":\"bar\"}],\"scattergeo\":[{\"type\":\"scattergeo\",\"marker\":{\"colorbar\":{\"outlinewidth\":0,\"ticks\":\"\"}}}],\"scatterpolar\":[{\"type\":\"scatterpolar\",\"marker\":{\"colorbar\":{\"outlinewidth\":0,\"ticks\":\"\"}}}],\"histogram\":[{\"marker\":{\"pattern\":{\"fillmode\":\"overlay\",\"size\":10,\"solidity\":0.2}},\"type\":\"histogram\"}],\"scattergl\":[{\"type\":\"scattergl\",\"marker\":{\"colorbar\":{\"outlinewidth\":0,\"ticks\":\"\"}}}],\"scatter3d\":[{\"type\":\"scatter3d\",\"line\":{\"colorbar\":{\"outlinewidth\":0,\"ticks\":\"\"}},\"marker\":{\"colorbar\":{\"outlinewidth\":0,\"ticks\":\"\"}}}],\"scattermapbox\":[{\"type\":\"scattermapbox\",\"marker\":{\"colorbar\":{\"outlinewidth\":0,\"ticks\":\"\"}}}],\"scatterternary\":[{\"type\":\"scatterternary\",\"marker\":{\"colorbar\":{\"outlinewidth\":0,\"ticks\":\"\"}}}],\"scattercarpet\":[{\"type\":\"scattercarpet\",\"marker\":{\"colorbar\":{\"outlinewidth\":0,\"ticks\":\"\"}}}],\"carpet\":[{\"aaxis\":{\"endlinecolor\":\"#2a3f5f\",\"gridcolor\":\"white\",\"linecolor\":\"white\",\"minorgridcolor\":\"white\",\"startlinecolor\":\"#2a3f5f\"},\"baxis\":{\"endlinecolor\":\"#2a3f5f\",\"gridcolor\":\"white\",\"linecolor\":\"white\",\"minorgridcolor\":\"white\",\"startlinecolor\":\"#2a3f5f\"},\"type\":\"carpet\"}],\"table\":[{\"cells\":{\"fill\":{\"color\":\"#EBF0F8\"},\"line\":{\"color\":\"white\"}},\"header\":{\"fill\":{\"color\":\"#C8D4E3\"},\"line\":{\"color\":\"white\"}},\"type\":\"table\"}],\"barpolar\":[{\"marker\":{\"line\":{\"color\":\"#E5ECF6\",\"width\":0.5},\"pattern\":{\"fillmode\":\"overlay\",\"size\":10,\"solidity\":0.2}},\"type\":\"barpolar\"}],\"pie\":[{\"automargin\":true,\"type\":\"pie\"}]},\"layout\":{\"autotypenumbers\":\"strict\",\"colorway\":[\"#636efa\",\"#EF553B\",\"#00cc96\",\"#ab63fa\",\"#FFA15A\",\"#19d3f3\",\"#FF6692\",\"#B6E880\",\"#FF97FF\",\"#FECB52\"],\"font\":{\"color\":\"#2a3f5f\"},\"hovermode\":\"closest\",\"hoverlabel\":{\"align\":\"left\"},\"paper_bgcolor\":\"white\",\"plot_bgcolor\":\"#E5ECF6\",\"polar\":{\"bgcolor\":\"#E5ECF6\",\"angularaxis\":{\"gridcolor\":\"white\",\"linecolor\":\"white\",\"ticks\":\"\"},\"radialaxis\":{\"gridcolor\":\"white\",\"linecolor\":\"white\",\"ticks\":\"\"}},\"ternary\":{\"bgcolor\":\"#E5ECF6\",\"aaxis\":{\"gridcolor\":\"white\",\"linecolor\":\"white\",\"ticks\":\"\"},\"baxis\":{\"gridcolor\":\"white\",\"linecolor\":\"white\",\"ticks\":\"\"},\"caxis\":{\"gridcolor\":\"white\",\"linecolor\":\"white\",\"ticks\":\"\"}},\"coloraxis\":{\"colorbar\":{\"outlinewidth\":0,\"ticks\":\"\"}},\"colorscale\":{\"sequential\":[[0.0,\"#0d0887\"],[0.1111111111111111,\"#46039f\"],[0.2222222222222222,\"#7201a8\"],[0.3333333333333333,\"#9c179e\"],[0.4444444444444444,\"#bd3786\"],[0.5555555555555556,\"#d8576b\"],[0.6666666666666666,\"#ed7953\"],[0.7777777777777778,\"#fb9f3a\"],[0.8888888888888888,\"#fdca26\"],[1.0,\"#f0f921\"]],\"sequentialminus\":[[0.0,\"#0d0887\"],[0.1111111111111111,\"#46039f\"],[0.2222222222222222,\"#7201a8\"],[0.3333333333333333,\"#9c179e\"],[0.4444444444444444,\"#bd3786\"],[0.5555555555555556,\"#d8576b\"],[0.6666666666666666,\"#ed7953\"],[0.7777777777777778,\"#fb9f3a\"],[0.8888888888888888,\"#fdca26\"],[1.0,\"#f0f921\"]],\"diverging\":[[0,\"#8e0152\"],[0.1,\"#c51b7d\"],[0.2,\"#de77ae\"],[0.3,\"#f1b6da\"],[0.4,\"#fde0ef\"],[0.5,\"#f7f7f7\"],[0.6,\"#e6f5d0\"],[0.7,\"#b8e186\"],[0.8,\"#7fbc41\"],[0.9,\"#4d9221\"],[1,\"#276419\"]]},\"xaxis\":{\"gridcolor\":\"white\",\"linecolor\":\"white\",\"ticks\":\"\",\"title\":{\"standoff\":15},\"zerolinecolor\":\"white\",\"automargin\":true,\"zerolinewidth\":2},\"yaxis\":{\"gridcolor\":\"white\",\"linecolor\":\"white\",\"ticks\":\"\",\"title\":{\"standoff\":15},\"zerolinecolor\":\"white\",\"automargin\":true,\"zerolinewidth\":2},\"scene\":{\"xaxis\":{\"backgroundcolor\":\"#E5ECF6\",\"gridcolor\":\"white\",\"linecolor\":\"white\",\"showbackground\":true,\"ticks\":\"\",\"zerolinecolor\":\"white\",\"gridwidth\":2},\"yaxis\":{\"backgroundcolor\":\"#E5ECF6\",\"gridcolor\":\"white\",\"linecolor\":\"white\",\"showbackground\":true,\"ticks\":\"\",\"zerolinecolor\":\"white\",\"gridwidth\":2},\"zaxis\":{\"backgroundcolor\":\"#E5ECF6\",\"gridcolor\":\"white\",\"linecolor\":\"white\",\"showbackground\":true,\"ticks\":\"\",\"zerolinecolor\":\"white\",\"gridwidth\":2}},\"shapedefaults\":{\"line\":{\"color\":\"#2a3f5f\"}},\"annotationdefaults\":{\"arrowcolor\":\"#2a3f5f\",\"arrowhead\":0,\"arrowwidth\":1},\"geo\":{\"bgcolor\":\"white\",\"landcolor\":\"#E5ECF6\",\"subunitcolor\":\"white\",\"showland\":true,\"showlakes\":true,\"lakecolor\":\"white\"},\"title\":{\"x\":0.05},\"mapbox\":{\"style\":\"light\"}}},\"title\":{\"text\":\"Event Funnel\"}},                        {\"responsive\": true}                    ).then(function(){\n",
       "                            \n",
       "var gd = document.getElementById('7adf7db5-80e4-438d-9ec3-3cb3d41eb823');\n",
       "var x = new MutationObserver(function (mutations, observer) {{\n",
       "        var display = window.getComputedStyle(gd).display;\n",
       "        if (!display || display === 'none') {{\n",
       "            console.log([gd, 'removed!']);\n",
       "            Plotly.purge(gd);\n",
       "            observer.disconnect();\n",
       "        }}\n",
       "}});\n",
       "\n",
       "// Listen for the removal of the full notebook cells\n",
       "var notebookContainer = gd.closest('#notebook-container');\n",
       "if (notebookContainer) {{\n",
       "    x.observe(notebookContainer, {childList: true});\n",
       "}}\n",
       "\n",
       "// Listen for the clearing of the current output cell\n",
       "var outputEl = gd.closest('.output');\n",
       "if (outputEl) {{\n",
       "    x.observe(outputEl, {childList: true});\n",
       "}}\n",
       "\n",
       "                        })                };                });            </script>        </div>"
      ]
     },
     "metadata": {},
     "output_type": "display_data"
    }
   ],
   "source": [
    "fig = go.Figure(go.Funnel(\n",
    "    y = ['Main Screen', 'Offer Screen', 'Cart Screen', 'Payment Successful Screen'],\n",
    "    x = funnel_chart['deviceidhash']\n",
    "    ))\n",
    "fig.update_layout(title_text='Event Funnel')\n",
    "fig.show()"
   ]
  },
  {
   "cell_type": "markdown",
   "metadata": {},
   "source": [
    "Here is our event funnel chart. It is interactive, and the conversion rates can be observed by hovering your mouse over the bars. We will also manually calculate the conversion rates below."
   ]
  },
  {
   "cell_type": "markdown",
   "metadata": {},
   "source": [
    "As can be seen from our event funnel, most users are lost between the main screen and the offer screen. Let's look at the overall average."
   ]
  },
  {
   "cell_type": "code",
   "execution_count": 96,
   "metadata": {},
   "outputs": [
    {
     "name": "stdout",
     "output_type": "stream",
     "text": [
      "Conversion rate from main screen to offer screen: 61.91%\n"
     ]
    }
   ],
   "source": [
    "print('Conversion rate from main screen to offer screen: {0:.2f}%'.format((\n",
    "    funnel_chart.loc[1, 'deviceidhash'] / funnel_chart.loc[0, 'deviceidhash']) * 100))"
   ]
  },
  {
   "cell_type": "markdown",
   "metadata": {},
   "source": [
    "38% of users fail to make it past the initial main screen."
   ]
  },
  {
   "cell_type": "markdown",
   "metadata": {},
   "source": [
    "### User Conversion from Main Screen to Payment"
   ]
  },
  {
   "cell_type": "markdown",
   "metadata": {},
   "source": [
    "Let's take a look at the overall average for main screen to payment conversion."
   ]
  },
  {
   "cell_type": "code",
   "execution_count": 97,
   "metadata": {},
   "outputs": [
    {
     "name": "stdout",
     "output_type": "stream",
     "text": [
      "Conversion rate from main screen to payment: 47.70%\n"
     ]
    }
   ],
   "source": [
    "print('Conversion rate from main screen to payment: {0:.2f}%'.format((\n",
    "    funnel_chart.loc[3, 'deviceidhash'] / funnel_chart.loc[0, 'deviceidhash']) * 100))"
   ]
  },
  {
   "cell_type": "markdown",
   "metadata": {},
   "source": [
    "Around 48% of users who encounter the main screen also make a purchase."
   ]
  },
  {
   "cell_type": "markdown",
   "metadata": {},
   "source": [
    "### Event Funnel Summary"
   ]
  },
  {
   "cell_type": "markdown",
   "metadata": {},
   "source": [
    "We have constructed and studied the event funnel. 38% of users fail to make it past the main screen. Another 48% make a purchase. The remaining 14% fall away at some point in between."
   ]
  },
  {
   "cell_type": "markdown",
   "metadata": {},
   "source": [
    "## Study the results of the experiment"
   ]
  },
  {
   "cell_type": "markdown",
   "metadata": {},
   "source": [
    "### Users per Experiment Group"
   ]
  },
  {
   "cell_type": "markdown",
   "metadata": {},
   "source": [
    "We have three experiment groups: 246, 247 and 248. Let's calculate total unique users for each group and show the results in a pie chart."
   ]
  },
  {
   "cell_type": "code",
   "execution_count": 98,
   "metadata": {},
   "outputs": [
    {
     "data": {
      "text/html": [
       "<div>\n",
       "<style scoped>\n",
       "    .dataframe tbody tr th:only-of-type {\n",
       "        vertical-align: middle;\n",
       "    }\n",
       "\n",
       "    .dataframe tbody tr th {\n",
       "        vertical-align: top;\n",
       "    }\n",
       "\n",
       "    .dataframe thead th {\n",
       "        text-align: right;\n",
       "    }\n",
       "</style>\n",
       "<table border=\"1\" class=\"dataframe\">\n",
       "  <thead>\n",
       "    <tr style=\"text-align: right;\">\n",
       "      <th></th>\n",
       "      <th>expid</th>\n",
       "      <th>deviceidhash</th>\n",
       "    </tr>\n",
       "  </thead>\n",
       "  <tbody>\n",
       "    <tr>\n",
       "      <th>0</th>\n",
       "      <td>246</td>\n",
       "      <td>2484</td>\n",
       "    </tr>\n",
       "    <tr>\n",
       "      <th>1</th>\n",
       "      <td>247</td>\n",
       "      <td>2513</td>\n",
       "    </tr>\n",
       "    <tr>\n",
       "      <th>2</th>\n",
       "      <td>248</td>\n",
       "      <td>2537</td>\n",
       "    </tr>\n",
       "  </tbody>\n",
       "</table>\n",
       "</div>"
      ],
      "text/plain": [
       "   expid  deviceidhash\n",
       "0    246          2484\n",
       "1    247          2513\n",
       "2    248          2537"
      ]
     },
     "execution_count": 98,
     "metadata": {},
     "output_type": "execute_result"
    }
   ],
   "source": [
    "pie_chart = logs_exp_august.groupby('expid').agg({'deviceidhash' : 'nunique'}).reset_index()\n",
    "pie_chart"
   ]
  },
  {
   "cell_type": "markdown",
   "metadata": {},
   "source": [
    "Now we can plot a pie chart useing plt.pie()."
   ]
  },
  {
   "cell_type": "code",
   "execution_count": 99,
   "metadata": {},
   "outputs": [
    {
     "data": {
      "image/png": "[encoded data removed]",
      "text/plain": [
       "<Figure size 1152x576 with 1 Axes>"
      ]
     },
     "metadata": {},
     "output_type": "display_data"
    }
   ],
   "source": [
    "plt.figure(figsize=(16, 8))\n",
    "plt.pie(pie_chart['deviceidhash'], labels=['Group 246', 'Group 247', 'Group 248'], autopct='%.0f%%')\n",
    "plt.title('Establishment Type Proportions')\n",
    "plt.show()"
   ]
  },
  {
   "cell_type": "markdown",
   "metadata": {},
   "source": [
    "### Test statistically significant difference between control groups."
   ]
  },
  {
   "cell_type": "markdown",
   "metadata": {},
   "source": [
    "For the first test, we will test whether there is a statistically significant difference between our two control groups, 246 and 247. To do this, we will first create a pivot table showing the unique users per event and per group. We will also add row shoing the total unique users for each group."
   ]
  },
  {
   "cell_type": "code",
   "execution_count": 100,
   "metadata": {},
   "outputs": [
    {
     "data": {
      "text/html": [
       "<div>\n",
       "<style scoped>\n",
       "    .dataframe tbody tr th:only-of-type {\n",
       "        vertical-align: middle;\n",
       "    }\n",
       "\n",
       "    .dataframe tbody tr th {\n",
       "        vertical-align: top;\n",
       "    }\n",
       "\n",
       "    .dataframe thead th {\n",
       "        text-align: right;\n",
       "    }\n",
       "</style>\n",
       "<table border=\"1\" class=\"dataframe\">\n",
       "  <thead>\n",
       "    <tr style=\"text-align: right;\">\n",
       "      <th></th>\n",
       "      <th>eventname</th>\n",
       "      <th>246</th>\n",
       "      <th>247</th>\n",
       "      <th>248</th>\n",
       "    </tr>\n",
       "  </thead>\n",
       "  <tbody>\n",
       "    <tr>\n",
       "      <th>0</th>\n",
       "      <td>mainscreenappear</td>\n",
       "      <td>2450.0</td>\n",
       "      <td>2476.0</td>\n",
       "      <td>2493.0</td>\n",
       "    </tr>\n",
       "    <tr>\n",
       "      <th>1</th>\n",
       "      <td>offersscreenappear</td>\n",
       "      <td>1542.0</td>\n",
       "      <td>1520.0</td>\n",
       "      <td>1531.0</td>\n",
       "    </tr>\n",
       "    <tr>\n",
       "      <th>2</th>\n",
       "      <td>cartscreenappear</td>\n",
       "      <td>1266.0</td>\n",
       "      <td>1238.0</td>\n",
       "      <td>1230.0</td>\n",
       "    </tr>\n",
       "    <tr>\n",
       "      <th>3</th>\n",
       "      <td>paymentscreensuccessful</td>\n",
       "      <td>1200.0</td>\n",
       "      <td>1158.0</td>\n",
       "      <td>1181.0</td>\n",
       "    </tr>\n",
       "    <tr>\n",
       "      <th>4</th>\n",
       "      <td>trials</td>\n",
       "      <td>2484.0</td>\n",
       "      <td>2513.0</td>\n",
       "      <td>2537.0</td>\n",
       "    </tr>\n",
       "  </tbody>\n",
       "</table>\n",
       "</div>"
      ],
      "text/plain": [
       "                 eventname     246     247     248\n",
       "0         mainscreenappear  2450.0  2476.0  2493.0\n",
       "1       offersscreenappear  1542.0  1520.0  1531.0\n",
       "2         cartscreenappear  1266.0  1238.0  1230.0\n",
       "3  paymentscreensuccessful  1200.0  1158.0  1181.0\n",
       "4                   trials  2484.0  2513.0  2537.0"
      ]
     },
     "execution_count": 100,
     "metadata": {},
     "output_type": "execute_result"
    }
   ],
   "source": [
    "#Create pivot table showing unique users per event and experiment group\n",
    "users_per_event_and_group = logs_exp_august.loc[logs_exp_august.loc[:,'eventname'] != 'tutorial'].pivot_table(\n",
    "    index='eventname', columns='expid', values='deviceidhash', aggfunc='nunique'\n",
    ")\n",
    "\n",
    "#Add total unique users column to users_per_event_and_group\n",
    "users_per_event_and_group['total_users'] = users_per_event_and_group[246] + users_per_event_and_group[247] +\\\n",
    "users_per_event_and_group[248]\n",
    "\n",
    "#Sort table by total_users and delete column\n",
    "users_per_event_and_group = users_per_event_and_group.sort_values('total_users', ascending=False)\n",
    "del users_per_event_and_group['total_users']\n",
    "\n",
    "#Remove axis name\n",
    "users_per_event_and_group = users_per_event_and_group.rename_axis(None, axis = 1)\n",
    "\n",
    "#Add total unique trials row calculated from logs_exp_august data set\n",
    "users_per_event_and_group.loc['trials', :] =  logs_exp_august.groupby('expid')['deviceidhash'].nunique().to_list()\n",
    "\n",
    "#Reset index\n",
    "users_per_event_and_group = users_per_event_and_group.reset_index()\n",
    "\n",
    "users_per_event_and_group"
   ]
  },
  {
   "cell_type": "markdown",
   "metadata": {},
   "source": [
    "Now, let's define a function called test_control_groups() which we can use to test whether proportions between the groups have a statistically significant difference. We will do this using stats from scipy."
   ]
  },
  {
   "cell_type": "code",
   "execution_count": 101,
   "metadata": {},
   "outputs": [],
   "source": [
    "def test_control_groups(x):\n",
    "    #Declare variable for users who passed to next event\n",
    "    successes = np.array([users_per_event_and_group.loc[x, 246], users_per_event_and_group.loc[x, 247]])\n",
    "\n",
    "    #Declare variable for users from previous event\n",
    "    trials  = np.array([users_per_event_and_group.loc[4, 246], users_per_event_and_group.loc[4, 247]])\n",
    "\n",
    "    #Proportion in the first group:\n",
    "    p1 = successes[0]/trials[0]\n",
    "\n",
    "    #Proportion in the second group:\n",
    "    p2 = successes[1]/trials[1]\n",
    "\n",
    "    #Proportion in the combined dataset:\n",
    "    p_combined = (successes[0] + successes[1]) / (trials[0] + trials[1])\n",
    "\n",
    "    #Difference between the datasets' proportions\n",
    "    difference = p1 - p2 \n",
    "\n",
    "    z_value = difference / mth.sqrt(p_combined * (1 - p_combined) * (1/trials[0] + 1/trials[1]))\n",
    "\n",
    "    #Setting up the standard normal distribution (mean 0, standard deviation 1)\n",
    "    distr = stats.norm(0, 1)  \n",
    "\n",
    "    p_value = (1 - distr.cdf(abs(z_value))) * 2\n",
    "\n",
    "    print('p-value: ', p_value)\n",
    "\n",
    "    if (p_value < alpha):\n",
    "        print(\"Rejecting the null hypothesis: there is a significant difference between the proportions\")\n",
    "    else:\n",
    "        print(\"Failed to reject the null hypothesis: there is no reason to consider the proportions different\")"
   ]
  },
  {
   "cell_type": "markdown",
   "metadata": {},
   "source": [
    "Now, let's define the critical level of statistical significance as 0.05. This is the level we will be using for all tests."
   ]
  },
  {
   "cell_type": "code",
   "execution_count": 102,
   "metadata": {},
   "outputs": [],
   "source": [
    "alpha = 0.05"
   ]
  },
  {
   "cell_type": "markdown",
   "metadata": {},
   "source": [
    "Now let's test the samples by pluging the row number from our users_per_event_and_group. The null hypothesis is that there is no statistically significant difference between the proportions of the control groups. The alternative hypothesis is that there IS a statistically significant difference between the proportions of the control groups."
   ]
  },
  {
   "cell_type": "code",
   "execution_count": 103,
   "metadata": {},
   "outputs": [
    {
     "name": "stdout",
     "output_type": "stream",
     "text": [
      "246 vs 247 MAIN SCREEN Proportion\n",
      "p-value:  0.7570597232046099\n",
      "Failed to reject the null hypothesis: there is no reason to consider the proportions different\n",
      "\n",
      "246 vs 247 OFFER SCREEN Proportion\n",
      "p-value:  0.2480954578522181\n",
      "Failed to reject the null hypothesis: there is no reason to consider the proportions different\n",
      "\n",
      "246 vs 247 CART SCREEN Proportion\n",
      "p-value:  0.22883372237997213\n",
      "Failed to reject the null hypothesis: there is no reason to consider the proportions different\n",
      "\n",
      "246 vs 247 PAYMENT SUCCESS SCREEN Proportion\n",
      "p-value:  0.11456679313141849\n",
      "Failed to reject the null hypothesis: there is no reason to consider the proportions different\n"
     ]
    }
   ],
   "source": [
    "print('246 vs 247 MAIN SCREEN Proportion')\n",
    "test_control_groups(0)\n",
    "print()\n",
    "print('246 vs 247 OFFER SCREEN Proportion')\n",
    "test_control_groups(1)\n",
    "print()\n",
    "print('246 vs 247 CART SCREEN Proportion')\n",
    "test_control_groups(2)\n",
    "print()\n",
    "print('246 vs 247 PAYMENT SUCCESS SCREEN Proportion')\n",
    "test_control_groups(3)"
   ]
  },
  {
   "cell_type": "markdown",
   "metadata": {},
   "source": [
    "It appears that proportions between the control groups are equivalent."
   ]
  },
  {
   "cell_type": "markdown",
   "metadata": {},
   "source": [
    "### Test statistically significant difference in conversion rates between combined control groups and B group"
   ]
  },
  {
   "cell_type": "markdown",
   "metadata": {},
   "source": [
    "Let's run tests comparing the control groups to group 248 just as we did with the control groups before. This time, we will define a function called test_control_vs_bgroup() through which we can perform each test."
   ]
  },
  {
   "cell_type": "code",
   "execution_count": 104,
   "metadata": {},
   "outputs": [],
   "source": [
    "def test_control_vs_bgroup(x):\n",
    "    #Declare variable for users who passed to next event\n",
    "    successes = np.array([users_per_event_and_group.loc[x, 246] + users_per_event_and_group.loc[x, 247],\n",
    "                      users_per_event_and_group.loc[x, 248]])\n",
    "\n",
    "    #Declare variable for users from previous event\n",
    "    trials  = np.array([users_per_event_and_group.loc[(4), 246] + users_per_event_and_group.loc[(4), 247],\n",
    "                    users_per_event_and_group.loc[(4), 248]])\n",
    "\n",
    "    #Proportion in the first group:\n",
    "    p1 = successes[0]/trials[0]\n",
    "\n",
    "    #Proportion in the second group:\n",
    "    p2 = successes[1]/trials[1]\n",
    "\n",
    "    #Proportion in the combined dataset:\n",
    "    p_combined = (successes[0] + successes[1]) / (trials[0] + trials[1])\n",
    "\n",
    "    #Difference between the datasets' proportions\n",
    "    difference = p1 - p2 \n",
    "\n",
    "    z_value = difference / mth.sqrt(p_combined * (1 - p_combined) * (1/trials[0] + 1/trials[1]))\n",
    "\n",
    "    #Setting up the standard normal distribution (mean 0, standard deviation 1)\n",
    "    distr = stats.norm(0, 1)  \n",
    "\n",
    "    p_value = (1 - distr.cdf(abs(z_value))) * 2\n",
    "\n",
    "    print('p-value: ', p_value)\n",
    "\n",
    "    if (p_value < alpha):\n",
    "        print(\"Rejecting the null hypothesis: there is a significant difference between the proportions\")\n",
    "    else:\n",
    "        print(\"Failed to reject the null hypothesis: there is no reason to consider the proportions different\")"
   ]
  },
  {
   "cell_type": "markdown",
   "metadata": {},
   "source": [
    "Now, we will run the row index numbers for each event and print the test results."
   ]
  },
  {
   "cell_type": "code",
   "execution_count": 105,
   "metadata": {},
   "outputs": [
    {
     "name": "stdout",
     "output_type": "stream",
     "text": [
      "246+247 vs 248 MAIN SCREEN Proportion\n",
      "p-value:  0.29424526837179577\n",
      "Failed to reject the null hypothesis: there is no reason to consider the proportions different\n",
      "\n",
      "246+247 vs 248 OFFER SCREEN Proportion\n",
      "p-value:  0.43425549655188256\n",
      "Failed to reject the null hypothesis: there is no reason to consider the proportions different\n",
      "\n",
      "246+247 vs 248 CART SCREEN Proportion\n",
      "p-value:  0.18175875284404386\n",
      "Failed to reject the null hypothesis: there is no reason to consider the proportions different\n",
      "\n",
      "246+247 vs 248 PAYMENT SUCCESS SCREEN Proportion\n",
      "p-value:  0.6004294282308704\n",
      "Failed to reject the null hypothesis: there is no reason to consider the proportions different\n"
     ]
    }
   ],
   "source": [
    "print('246+247 vs 248 MAIN SCREEN Proportion')\n",
    "test_control_vs_bgroup(0)\n",
    "print()\n",
    "print('246+247 vs 248 OFFER SCREEN Proportion')\n",
    "test_control_vs_bgroup(1)\n",
    "print()\n",
    "print('246+247 vs 248 CART SCREEN Proportion')\n",
    "test_control_vs_bgroup(2)\n",
    "print()\n",
    "print('246+247 vs 248 PAYMENT SUCCESS SCREEN Proportion')\n",
    "test_control_vs_bgroup(3)"
   ]
  },
  {
   "cell_type": "markdown",
   "metadata": {},
   "source": [
    "The hypothesis (that there is no significant difference between the groups) holds through all tests. So far, we cannot detect a difference between A and B groups."
   ]
  },
  {
   "cell_type": "markdown",
   "metadata": {},
   "source": [
    "### Test statistically significant difference in conversion rates between each control group and B group"
   ]
  },
  {
   "cell_type": "markdown",
   "metadata": {},
   "source": [
    "Now, let's perform the same tests against each of the control groups separately. We will again define a function. This time we will call it test_against_each_control_group(), and it will require two arguments. The first one will be the index number for the event. The second one will designate the control group."
   ]
  },
  {
   "cell_type": "code",
   "execution_count": 106,
   "metadata": {},
   "outputs": [],
   "source": [
    "def test_against_each_control_group(x, z):\n",
    "    #Declare variable for users who passed to next event\n",
    "    successes = np.array([users_per_event_and_group.loc[x, z], users_per_event_and_group.loc[x, 248]])\n",
    "\n",
    "    #Declare variable for users from previous event\n",
    "    trials  = np.array([users_per_event_and_group.loc[4, z], users_per_event_and_group.loc[4, 248]])\n",
    "\n",
    "    #Proportion in the first group:\n",
    "    p1 = successes[0]/trials[0]\n",
    "\n",
    "    #Proportion in the second group:\n",
    "    p2 = successes[1]/trials[1]\n",
    "\n",
    "    #Proportion in the combined dataset:\n",
    "    p_combined = (successes[0] + successes[1]) / (trials[0] + trials[1])\n",
    "\n",
    "    #Difference between the datasets' proportions\n",
    "    difference = p1 - p2 \n",
    "\n",
    "    z_value = difference / mth.sqrt(p_combined * (1 - p_combined) * (1/trials[0] + 1/trials[1]))\n",
    "\n",
    "    #Setting up the standard normal distribution (mean 0, standard deviation 1)\n",
    "    distr = stats.norm(0, 1)  \n",
    "\n",
    "    p_value = (1 - distr.cdf(abs(z_value))) * 2\n",
    "\n",
    "    print('p-value: ', p_value)\n",
    "\n",
    "    if (p_value < alpha):\n",
    "        print(\"Rejecting the null hypothesis: there is a significant difference between the proportions\")\n",
    "    else:\n",
    "        print(\"Failed to reject the null hypothesis: there is no reason to consider the proportions different\")"
   ]
  },
  {
   "cell_type": "markdown",
   "metadata": {},
   "source": [
    "Let's go ahead and run the tests for group 246."
   ]
  },
  {
   "cell_type": "code",
   "execution_count": 107,
   "metadata": {},
   "outputs": [
    {
     "name": "stdout",
     "output_type": "stream",
     "text": [
      "246 vs 248 MAIN SCREEN Proportion\n",
      "p-value:  0.2949721933554552\n",
      "Failed to reject the null hypothesis: there is no reason to consider the proportions different\n",
      "\n",
      "246 vs 248 OFFER SCREEN Proportion\n",
      "p-value:  0.20836205402738917\n",
      "Failed to reject the null hypothesis: there is no reason to consider the proportions different\n",
      "\n",
      "246 vs 248 CART SCREEN Proportion\n",
      "p-value:  0.07842923237520116\n",
      "Failed to reject the null hypothesis: there is no reason to consider the proportions different\n",
      "\n",
      "246 vs 248 PAYMENT SUCCESS SCREEN Proportion\n",
      "p-value:  0.2122553275697796\n",
      "Failed to reject the null hypothesis: there is no reason to consider the proportions different\n"
     ]
    }
   ],
   "source": [
    "print('246 vs 248 MAIN SCREEN Proportion')\n",
    "test_against_each_control_group(0, 246)\n",
    "print()\n",
    "print('246 vs 248 OFFER SCREEN Proportion')\n",
    "test_against_each_control_group(1, 246)\n",
    "print()\n",
    "print('246 vs 248 CART SCREEN Proportion')\n",
    "test_against_each_control_group(2, 246)\n",
    "print()\n",
    "print('246 vs 248 PAYMENT SUCCESS SCREEN Proportion')\n",
    "test_against_each_control_group(3, 246)"
   ]
  },
  {
   "cell_type": "markdown",
   "metadata": {},
   "source": [
    "And now for group 247."
   ]
  },
  {
   "cell_type": "code",
   "execution_count": 108,
   "metadata": {},
   "outputs": [
    {
     "name": "stdout",
     "output_type": "stream",
     "text": [
      "247 vs 248 MAIN SCREEN Proportion\n",
      "p-value:  0.4587053616621515\n",
      "Failed to reject the null hypothesis: there is no reason to consider the proportions different\n",
      "\n",
      "247 vs 248 OFFER SCREEN Proportion\n",
      "p-value:  0.9197817830592261\n",
      "Failed to reject the null hypothesis: there is no reason to consider the proportions different\n",
      "\n",
      "247 vs 248 CART SCREEN Proportion\n",
      "p-value:  0.5786197879539783\n",
      "Failed to reject the null hypothesis: there is no reason to consider the proportions different\n",
      "\n",
      "247 vs 248 PAYMENT SUCCESS SCREEN Proportion\n",
      "p-value:  0.7373415053803964\n",
      "Failed to reject the null hypothesis: there is no reason to consider the proportions different\n"
     ]
    }
   ],
   "source": [
    "print('247 vs 248 MAIN SCREEN Proportion')\n",
    "test_against_each_control_group(0, 247)\n",
    "print()\n",
    "print('247 vs 248 OFFER SCREEN Proportion')\n",
    "test_against_each_control_group(1, 247)\n",
    "print()\n",
    "print('247 vs 248 CART SCREEN Proportion')\n",
    "test_against_each_control_group(2, 247)\n",
    "print()\n",
    "print('247 vs 248 PAYMENT SUCCESS SCREEN Proportion')\n",
    "test_against_each_control_group(3, 247)"
   ]
  },
  {
   "cell_type": "markdown",
   "metadata": {},
   "source": [
    "According to these tests, neither control group is significantly different than the B group. Although, the p-values for group 246 are much lower than the p-values of group 247. This indicates that if one of the groups were to differ from the B group, group 246 is more likley to differ."
   ]
  },
  {
   "cell_type": "markdown",
   "metadata": {},
   "source": [
    "### Significance level"
   ]
  },
  {
   "cell_type": "markdown",
   "metadata": {},
   "source": [
    "We chose a significance level of 0.05 for each of the 16 tests ran. Another significance level that is often used is 0.1. Glancing back at the results, only one test revealed a p-value that is lower than 0.1. It is the 246 vs 248 CART SCREEN Proportion test. Let's declare an alpha value of 0.1 and run this test once more just to see."
   ]
  },
  {
   "cell_type": "code",
   "execution_count": 109,
   "metadata": {},
   "outputs": [
    {
     "name": "stdout",
     "output_type": "stream",
     "text": [
      "246 vs 248 CART SCREEN Proportion\n",
      "p-value:  0.07842923237520116\n",
      "Rejecting the null hypothesis: there is a significant difference between the proportions\n"
     ]
    }
   ],
   "source": [
    "alpha = 0.1\n",
    "print('246 vs 248 CART SCREEN Proportion')\n",
    "test_against_each_control_group(2, 246)"
   ]
  },
  {
   "cell_type": "markdown",
   "metadata": {},
   "source": [
    "As can be seen here, a significance value of 0.1 would have disproven the null hypothesis. However, with 16 total tests, 0.1 is a high significance value with a high chance of confirming a false alternative hypothesis. As such, we will stick with our significance value of 0.05."
   ]
  },
  {
   "cell_type": "markdown",
   "metadata": {},
   "source": [
    "### Experiment Results Summary"
   ]
  },
  {
   "cell_type": "markdown",
   "metadata": {},
   "source": [
    "The final results of testing have not confirmed a sigificant difference between the A and B groups or the A groups tested against one another, or the A groups tested seperately against the B group. Group 246 comes the closest to a statistically significant difference compared to the B group, but the alternative hypothesis is only confirmed useing a significance value of 0.1 instead of 0.05."
   ]
  },
  {
   "cell_type": "markdown",
   "metadata": {},
   "source": [
    "## Conclusion"
   ]
  },
  {
   "cell_type": "markdown",
   "metadata": {},
   "source": [
    "We have studied an event funnel consisting of four events: main screen, offer screen, cart screen and payment successful screen. 38% of users fail to make it past the main screen. Another of users 48% make a purchase. The remaining 14% fall away at some point in between.\n",
    "\n",
    "Upon testing our control group samples, no significant differences were proven between any groups. Group 246 may be approaching a statistically significant difference to group 248 (for proportions on the CART SCREEN) with a p-value of 0.07842923237520116, but it does not pass our significance value of 0.05.\n",
    "\n",
    "With more data, we may be able to reject our null hypothesis for one or more of the above tests. However, we cannot conclude that any meaningfull difference in performance has occured for the B group with altered font."
   ]
  }
 ],
 "metadata": {
  "ExecuteTimeLog": [
   {
    "duration": 1082,
    "start_time": "2022-01-04T19:21:36.559Z"
   },
   {
    "duration": 789,
    "start_time": "2022-01-04T19:21:37.643Z"
   },
   {
    "duration": 23,
    "start_time": "2022-01-04T19:21:38.434Z"
   },
   {
    "duration": 62,
    "start_time": "2022-01-04T19:23:42.323Z"
   },
   {
    "duration": 55,
    "start_time": "2022-01-04T19:25:47.609Z"
   },
   {
    "duration": 238,
    "start_time": "2022-01-04T19:28:55.579Z"
   },
   {
    "duration": 112,
    "start_time": "2022-01-04T19:29:05.434Z"
   },
   {
    "duration": 57,
    "start_time": "2022-01-04T19:36:04.381Z"
   },
   {
    "duration": 54,
    "start_time": "2022-01-04T19:36:27.118Z"
   },
   {
    "duration": 249,
    "start_time": "2022-01-04T19:38:26.779Z"
   },
   {
    "duration": 20,
    "start_time": "2022-01-04T19:38:29.136Z"
   },
   {
    "duration": 569,
    "start_time": "2022-01-04T19:38:58.164Z"
   },
   {
    "duration": 21,
    "start_time": "2022-01-04T19:39:00.494Z"
   },
   {
    "duration": 596,
    "start_time": "2022-01-04T19:39:26.367Z"
   },
   {
    "duration": 21,
    "start_time": "2022-01-04T19:39:27.821Z"
   },
   {
    "duration": 608,
    "start_time": "2022-01-04T19:39:33.738Z"
   },
   {
    "duration": 21,
    "start_time": "2022-01-04T19:39:39.249Z"
   },
   {
    "duration": 225,
    "start_time": "2022-01-04T19:41:45.749Z"
   },
   {
    "duration": 21,
    "start_time": "2022-01-04T19:41:47.199Z"
   },
   {
    "duration": 269,
    "start_time": "2022-01-04T19:43:14.822Z"
   },
   {
    "duration": 22,
    "start_time": "2022-01-04T19:43:15.861Z"
   },
   {
    "duration": 244,
    "start_time": "2022-01-04T19:44:07.991Z"
   },
   {
    "duration": 21,
    "start_time": "2022-01-04T19:44:09.388Z"
   },
   {
    "duration": 136,
    "start_time": "2022-01-04T19:44:59.865Z"
   },
   {
    "duration": 22,
    "start_time": "2022-01-04T19:45:02.142Z"
   },
   {
    "duration": 3,
    "start_time": "2022-01-04T19:45:38.894Z"
   },
   {
    "duration": 110,
    "start_time": "2022-01-04T19:45:39.702Z"
   },
   {
    "duration": 22,
    "start_time": "2022-01-04T19:45:42.076Z"
   },
   {
    "duration": 290,
    "start_time": "2022-01-04T20:29:38.423Z"
   },
   {
    "duration": 202,
    "start_time": "2022-01-04T20:29:44.838Z"
   },
   {
    "duration": 241,
    "start_time": "2022-01-04T20:30:15.394Z"
   },
   {
    "duration": 167,
    "start_time": "2022-01-04T20:30:20.151Z"
   },
   {
    "duration": 3,
    "start_time": "2022-01-04T20:30:29.185Z"
   },
   {
    "duration": 4,
    "start_time": "2022-01-04T20:30:37.857Z"
   },
   {
    "duration": 3,
    "start_time": "2022-01-04T20:30:51.016Z"
   },
   {
    "duration": 113,
    "start_time": "2022-01-04T20:30:51.022Z"
   },
   {
    "duration": 23,
    "start_time": "2022-01-04T20:30:51.137Z"
   },
   {
    "duration": 4,
    "start_time": "2022-01-04T20:30:51.162Z"
   },
   {
    "duration": 29,
    "start_time": "2022-01-04T20:30:51.168Z"
   },
   {
    "duration": 3,
    "start_time": "2022-01-04T20:31:12.828Z"
   },
   {
    "duration": 10,
    "start_time": "2022-01-04T20:31:15.637Z"
   },
   {
    "duration": 176,
    "start_time": "2022-01-04T20:41:43.663Z"
   },
   {
    "duration": 29,
    "start_time": "2022-01-04T20:41:45.535Z"
   },
   {
    "duration": 3,
    "start_time": "2022-01-04T20:42:05.542Z"
   },
   {
    "duration": 118,
    "start_time": "2022-01-04T20:42:05.546Z"
   },
   {
    "duration": 29,
    "start_time": "2022-01-04T20:42:05.666Z"
   },
   {
    "duration": 10,
    "start_time": "2022-01-04T20:42:05.696Z"
   },
   {
    "duration": 71,
    "start_time": "2022-01-04T20:44:36.158Z"
   },
   {
    "duration": 12,
    "start_time": "2022-01-04T20:44:41.149Z"
   },
   {
    "duration": 5,
    "start_time": "2022-01-04T20:45:24.857Z"
   },
   {
    "duration": 117,
    "start_time": "2022-01-04T20:45:24.864Z"
   },
   {
    "duration": 24,
    "start_time": "2022-01-04T20:45:24.983Z"
   },
   {
    "duration": 9,
    "start_time": "2022-01-04T20:45:25.010Z"
   },
   {
    "duration": 229,
    "start_time": "2022-01-04T20:45:25.021Z"
   },
   {
    "duration": 15,
    "start_time": "2022-01-04T20:45:25.252Z"
   },
   {
    "duration": 14,
    "start_time": "2022-01-04T20:49:50.957Z"
   },
   {
    "duration": 3,
    "start_time": "2022-01-04T20:53:54.328Z"
   },
   {
    "duration": 151,
    "start_time": "2022-01-04T20:53:54.333Z"
   },
   {
    "duration": 25,
    "start_time": "2022-01-04T20:53:54.486Z"
   },
   {
    "duration": 12,
    "start_time": "2022-01-04T20:53:54.514Z"
   },
   {
    "duration": 248,
    "start_time": "2022-01-04T20:53:54.527Z"
   },
   {
    "duration": -28,
    "start_time": "2022-01-04T20:53:54.804Z"
   },
   {
    "duration": -29,
    "start_time": "2022-01-04T20:53:54.807Z"
   },
   {
    "duration": 1518,
    "start_time": "2022-01-04T20:54:49.670Z"
   },
   {
    "duration": 1524,
    "start_time": "2022-01-04T20:55:30.903Z"
   },
   {
    "duration": 180,
    "start_time": "2022-01-04T21:04:46.386Z"
   },
   {
    "duration": 3,
    "start_time": "2022-01-04T21:05:37.647Z"
   },
   {
    "duration": 114,
    "start_time": "2022-01-04T21:05:37.655Z"
   },
   {
    "duration": 25,
    "start_time": "2022-01-04T21:05:37.771Z"
   },
   {
    "duration": 10,
    "start_time": "2022-01-04T21:05:37.798Z"
   },
   {
    "duration": 184,
    "start_time": "2022-01-04T21:05:37.809Z"
   },
   {
    "duration": 14,
    "start_time": "2022-01-04T21:07:50.180Z"
   },
   {
    "duration": 15,
    "start_time": "2022-01-04T21:08:53.691Z"
   },
   {
    "duration": 10,
    "start_time": "2022-01-04T21:09:18.640Z"
   },
   {
    "duration": 8,
    "start_time": "2022-01-04T21:09:27.793Z"
   },
   {
    "duration": 15,
    "start_time": "2022-01-04T21:09:31.267Z"
   },
   {
    "duration": 3,
    "start_time": "2022-01-04T21:10:44.214Z"
   },
   {
    "duration": 111,
    "start_time": "2022-01-04T21:10:44.221Z"
   },
   {
    "duration": 21,
    "start_time": "2022-01-04T21:10:44.334Z"
   },
   {
    "duration": 10,
    "start_time": "2022-01-04T21:10:44.357Z"
   },
   {
    "duration": 40,
    "start_time": "2022-01-04T21:10:44.369Z"
   },
   {
    "duration": 140,
    "start_time": "2022-01-04T21:10:44.411Z"
   },
   {
    "duration": 3,
    "start_time": "2022-01-04T21:10:54.363Z"
   },
   {
    "duration": 113,
    "start_time": "2022-01-04T21:10:54.370Z"
   },
   {
    "duration": 22,
    "start_time": "2022-01-04T21:10:54.485Z"
   },
   {
    "duration": 9,
    "start_time": "2022-01-04T21:10:54.509Z"
   },
   {
    "duration": 22,
    "start_time": "2022-01-04T21:10:54.520Z"
   },
   {
    "duration": 162,
    "start_time": "2022-01-04T21:10:54.544Z"
   },
   {
    "duration": 180,
    "start_time": "2022-01-04T21:18:47.967Z"
   },
   {
    "duration": 166,
    "start_time": "2022-01-04T21:19:03.269Z"
   },
   {
    "duration": 3,
    "start_time": "2022-01-04T21:22:34.373Z"
   },
   {
    "duration": 119,
    "start_time": "2022-01-04T21:22:34.379Z"
   },
   {
    "duration": 24,
    "start_time": "2022-01-04T21:22:34.500Z"
   },
   {
    "duration": 10,
    "start_time": "2022-01-04T21:22:34.526Z"
   },
   {
    "duration": 171,
    "start_time": "2022-01-04T21:22:34.538Z"
   },
   {
    "duration": 45,
    "start_time": "2022-01-04T21:22:34.711Z"
   },
   {
    "duration": 38,
    "start_time": "2022-01-04T21:22:34.758Z"
   },
   {
    "duration": 146,
    "start_time": "2022-01-04T21:22:34.798Z"
   },
   {
    "duration": 137,
    "start_time": "2022-01-04T21:29:59.024Z"
   },
   {
    "duration": 115,
    "start_time": "2022-01-04T21:30:10.184Z"
   },
   {
    "duration": 118,
    "start_time": "2022-01-04T21:48:40.906Z"
   },
   {
    "duration": 3,
    "start_time": "2022-01-04T22:02:50.493Z"
   },
   {
    "duration": 112,
    "start_time": "2022-01-04T22:02:50.499Z"
   },
   {
    "duration": 22,
    "start_time": "2022-01-04T22:02:50.613Z"
   },
   {
    "duration": 14,
    "start_time": "2022-01-04T22:02:50.637Z"
   },
   {
    "duration": 186,
    "start_time": "2022-01-04T22:02:50.652Z"
   },
   {
    "duration": 59,
    "start_time": "2022-01-04T22:02:50.840Z"
   },
   {
    "duration": 60,
    "start_time": "2022-01-04T22:02:50.900Z"
   },
   {
    "duration": 37,
    "start_time": "2022-01-04T22:02:50.962Z"
   },
   {
    "duration": 91,
    "start_time": "2022-01-04T22:02:51.001Z"
   },
   {
    "duration": 20,
    "start_time": "2022-01-04T22:04:22.051Z"
   },
   {
    "duration": 58,
    "start_time": "2022-01-04T22:07:17.252Z"
   },
   {
    "duration": 20,
    "start_time": "2022-01-04T22:07:25.442Z"
   },
   {
    "duration": 6,
    "start_time": "2022-01-04T22:09:48.412Z"
   },
   {
    "duration": 3,
    "start_time": "2022-01-04T22:13:28.518Z"
   },
   {
    "duration": 111,
    "start_time": "2022-01-04T22:13:28.524Z"
   },
   {
    "duration": 20,
    "start_time": "2022-01-04T22:13:28.637Z"
   },
   {
    "duration": 14,
    "start_time": "2022-01-04T22:13:28.660Z"
   },
   {
    "duration": 162,
    "start_time": "2022-01-04T22:13:28.691Z"
   },
   {
    "duration": 59,
    "start_time": "2022-01-04T22:13:28.855Z"
   },
   {
    "duration": 57,
    "start_time": "2022-01-04T22:13:28.916Z"
   },
   {
    "duration": 31,
    "start_time": "2022-01-04T22:13:28.975Z"
   },
   {
    "duration": 93,
    "start_time": "2022-01-04T22:13:29.008Z"
   },
   {
    "duration": 17,
    "start_time": "2022-01-04T22:13:29.104Z"
   },
   {
    "duration": 5,
    "start_time": "2022-01-04T22:13:29.123Z"
   },
   {
    "duration": 3,
    "start_time": "2022-01-04T22:13:58.764Z"
   },
   {
    "duration": 127,
    "start_time": "2022-01-04T22:13:58.770Z"
   },
   {
    "duration": 21,
    "start_time": "2022-01-04T22:13:58.899Z"
   },
   {
    "duration": 9,
    "start_time": "2022-01-04T22:13:58.922Z"
   },
   {
    "duration": 177,
    "start_time": "2022-01-04T22:13:58.933Z"
   },
   {
    "duration": 50,
    "start_time": "2022-01-04T22:13:59.112Z"
   },
   {
    "duration": 75,
    "start_time": "2022-01-04T22:13:59.164Z"
   },
   {
    "duration": 20,
    "start_time": "2022-01-04T22:13:59.241Z"
   },
   {
    "duration": 94,
    "start_time": "2022-01-04T22:13:59.264Z"
   },
   {
    "duration": 18,
    "start_time": "2022-01-04T22:13:59.360Z"
   },
   {
    "duration": 5,
    "start_time": "2022-01-04T22:13:59.392Z"
   },
   {
    "duration": 1609,
    "start_time": "2022-01-05T22:49:56.986Z"
   },
   {
    "duration": 279,
    "start_time": "2022-01-05T22:49:58.598Z"
   },
   {
    "duration": 42,
    "start_time": "2022-01-05T22:49:58.880Z"
   },
   {
    "duration": 15,
    "start_time": "2022-01-05T22:49:58.925Z"
   },
   {
    "duration": 262,
    "start_time": "2022-01-05T22:49:58.942Z"
   },
   {
    "duration": 95,
    "start_time": "2022-01-05T22:49:59.206Z"
   },
   {
    "duration": 113,
    "start_time": "2022-01-05T22:49:59.303Z"
   },
   {
    "duration": 37,
    "start_time": "2022-01-05T22:49:59.425Z"
   },
   {
    "duration": 133,
    "start_time": "2022-01-05T22:49:59.464Z"
   },
   {
    "duration": 53,
    "start_time": "2022-01-05T22:49:59.599Z"
   },
   {
    "duration": 8,
    "start_time": "2022-01-05T22:49:59.655Z"
   },
   {
    "duration": 6,
    "start_time": "2022-01-05T22:49:59.665Z"
   },
   {
    "duration": 5,
    "start_time": "2022-01-05T22:50:22.775Z"
   },
   {
    "duration": 23,
    "start_time": "2022-01-05T22:51:35.711Z"
   },
   {
    "duration": 49,
    "start_time": "2022-01-05T22:52:01.768Z"
   },
   {
    "duration": 29,
    "start_time": "2022-01-05T22:53:50.985Z"
   },
   {
    "duration": 22,
    "start_time": "2022-01-05T22:58:01.543Z"
   },
   {
    "duration": 23,
    "start_time": "2022-01-05T22:58:02.687Z"
   },
   {
    "duration": 41,
    "start_time": "2022-01-05T22:58:25.353Z"
   },
   {
    "duration": 50,
    "start_time": "2022-01-05T22:58:36.609Z"
   },
   {
    "duration": 722,
    "start_time": "2022-01-05T23:06:26.188Z"
   },
   {
    "duration": 682,
    "start_time": "2022-01-05T23:08:55.295Z"
   },
   {
    "duration": 798,
    "start_time": "2022-01-05T23:09:18.189Z"
   },
   {
    "duration": 5,
    "start_time": "2022-01-05T23:11:53.133Z"
   },
   {
    "duration": 97,
    "start_time": "2022-01-05T23:12:56.372Z"
   },
   {
    "duration": 1253,
    "start_time": "2022-01-05T23:13:04.139Z"
   },
   {
    "duration": 5,
    "start_time": "2022-01-05T23:13:17.691Z"
   },
   {
    "duration": 6,
    "start_time": "2022-01-05T23:13:35.785Z"
   },
   {
    "duration": 22,
    "start_time": "2022-01-05T23:13:47.252Z"
   },
   {
    "duration": 95,
    "start_time": "2022-01-05T23:19:23.032Z"
   },
   {
    "duration": 1262,
    "start_time": "2022-01-05T23:19:33.173Z"
   },
   {
    "duration": 101,
    "start_time": "2022-01-05T23:22:26.124Z"
   },
   {
    "duration": 293,
    "start_time": "2022-01-05T23:23:20.583Z"
   },
   {
    "duration": 56,
    "start_time": "2022-01-05T23:23:35.319Z"
   },
   {
    "duration": 1266,
    "start_time": "2022-01-05T23:24:40.185Z"
   },
   {
    "duration": 62,
    "start_time": "2022-01-05T23:25:14.300Z"
   },
   {
    "duration": 29,
    "start_time": "2022-01-05T23:25:26.047Z"
   },
   {
    "duration": 1216,
    "start_time": "2022-01-05T23:26:00.600Z"
   },
   {
    "duration": 388,
    "start_time": "2022-01-05T23:27:05.872Z"
   },
   {
    "duration": 271,
    "start_time": "2022-01-05T23:27:22.494Z"
   },
   {
    "duration": 389,
    "start_time": "2022-01-05T23:28:17.664Z"
   },
   {
    "duration": 1204,
    "start_time": "2022-01-05T23:29:07.752Z"
   },
   {
    "duration": 36,
    "start_time": "2022-01-05T23:29:18.693Z"
   },
   {
    "duration": 299,
    "start_time": "2022-01-05T23:32:13.641Z"
   },
   {
    "duration": 40,
    "start_time": "2022-01-05T23:32:20.232Z"
   },
   {
    "duration": 5,
    "start_time": "2022-01-05T23:32:22.164Z"
   },
   {
    "duration": 5,
    "start_time": "2022-01-05T23:52:20.376Z"
   },
   {
    "duration": 300,
    "start_time": "2022-01-05T23:53:54.953Z"
   },
   {
    "duration": 8,
    "start_time": "2022-01-05T23:53:59.784Z"
   },
   {
    "duration": 5,
    "start_time": "2022-01-05T23:55:09.447Z"
   },
   {
    "duration": 494,
    "start_time": "2022-01-06T17:30:08.617Z"
   },
   {
    "duration": 1911,
    "start_time": "2022-01-06T17:30:15.622Z"
   },
   {
    "duration": 251,
    "start_time": "2022-01-06T17:30:17.536Z"
   },
   {
    "duration": 68,
    "start_time": "2022-01-06T17:30:17.791Z"
   },
   {
    "duration": 20,
    "start_time": "2022-01-06T17:30:17.863Z"
   },
   {
    "duration": 276,
    "start_time": "2022-01-06T17:30:17.886Z"
   },
   {
    "duration": 105,
    "start_time": "2022-01-06T17:30:18.164Z"
   },
   {
    "duration": 151,
    "start_time": "2022-01-06T17:30:18.272Z"
   },
   {
    "duration": 1684,
    "start_time": "2022-01-06T17:30:18.426Z"
   },
   {
    "duration": -241,
    "start_time": "2022-01-06T17:30:20.354Z"
   },
   {
    "duration": -243,
    "start_time": "2022-01-06T17:30:20.358Z"
   },
   {
    "duration": -244,
    "start_time": "2022-01-06T17:30:20.360Z"
   },
   {
    "duration": -244,
    "start_time": "2022-01-06T17:30:20.362Z"
   },
   {
    "duration": -246,
    "start_time": "2022-01-06T17:30:20.365Z"
   },
   {
    "duration": -246,
    "start_time": "2022-01-06T17:30:20.367Z"
   },
   {
    "duration": -247,
    "start_time": "2022-01-06T17:30:20.369Z"
   },
   {
    "duration": -246,
    "start_time": "2022-01-06T17:30:20.371Z"
   },
   {
    "duration": -246,
    "start_time": "2022-01-06T17:30:20.373Z"
   },
   {
    "duration": -247,
    "start_time": "2022-01-06T17:30:20.375Z"
   },
   {
    "duration": -411,
    "start_time": "2022-01-06T17:30:20.541Z"
   },
   {
    "duration": -427,
    "start_time": "2022-01-06T17:30:20.559Z"
   },
   {
    "duration": 4,
    "start_time": "2022-01-06T17:30:36.127Z"
   },
   {
    "duration": 163,
    "start_time": "2022-01-06T17:30:36.134Z"
   },
   {
    "duration": 29,
    "start_time": "2022-01-06T17:30:36.300Z"
   },
   {
    "duration": 35,
    "start_time": "2022-01-06T17:30:36.332Z"
   },
   {
    "duration": 252,
    "start_time": "2022-01-06T17:30:36.369Z"
   },
   {
    "duration": 104,
    "start_time": "2022-01-06T17:30:36.624Z"
   },
   {
    "duration": 105,
    "start_time": "2022-01-06T17:30:36.731Z"
   },
   {
    "duration": 1620,
    "start_time": "2022-01-06T17:30:36.840Z"
   },
   {
    "duration": -246,
    "start_time": "2022-01-06T17:30:38.709Z"
   },
   {
    "duration": -245,
    "start_time": "2022-01-06T17:30:38.711Z"
   },
   {
    "duration": -246,
    "start_time": "2022-01-06T17:30:38.713Z"
   },
   {
    "duration": -246,
    "start_time": "2022-01-06T17:30:38.715Z"
   },
   {
    "duration": -247,
    "start_time": "2022-01-06T17:30:38.718Z"
   },
   {
    "duration": -247,
    "start_time": "2022-01-06T17:30:38.720Z"
   },
   {
    "duration": -247,
    "start_time": "2022-01-06T17:30:38.722Z"
   },
   {
    "duration": -249,
    "start_time": "2022-01-06T17:30:38.726Z"
   },
   {
    "duration": -251,
    "start_time": "2022-01-06T17:30:38.730Z"
   },
   {
    "duration": -252,
    "start_time": "2022-01-06T17:30:38.734Z"
   },
   {
    "duration": -253,
    "start_time": "2022-01-06T17:30:38.737Z"
   },
   {
    "duration": -260,
    "start_time": "2022-01-06T17:30:38.746Z"
   },
   {
    "duration": 28,
    "start_time": "2022-01-06T17:31:07.311Z"
   },
   {
    "duration": 5,
    "start_time": "2022-01-06T17:31:11.939Z"
   },
   {
    "duration": 160,
    "start_time": "2022-01-06T17:31:11.947Z"
   },
   {
    "duration": 29,
    "start_time": "2022-01-06T17:31:12.109Z"
   },
   {
    "duration": 30,
    "start_time": "2022-01-06T17:31:12.142Z"
   },
   {
    "duration": 256,
    "start_time": "2022-01-06T17:31:12.174Z"
   },
   {
    "duration": 91,
    "start_time": "2022-01-06T17:31:12.432Z"
   },
   {
    "duration": 113,
    "start_time": "2022-01-06T17:31:12.525Z"
   },
   {
    "duration": 43,
    "start_time": "2022-01-06T17:31:12.641Z"
   },
   {
    "duration": 187,
    "start_time": "2022-01-06T17:31:12.688Z"
   },
   {
    "duration": 42,
    "start_time": "2022-01-06T17:31:12.878Z"
   },
   {
    "duration": 38,
    "start_time": "2022-01-06T17:31:12.923Z"
   },
   {
    "duration": 6,
    "start_time": "2022-01-06T17:31:12.964Z"
   },
   {
    "duration": 7,
    "start_time": "2022-01-06T17:31:12.973Z"
   },
   {
    "duration": 6,
    "start_time": "2022-01-06T17:31:12.983Z"
   },
   {
    "duration": 771,
    "start_time": "2022-01-06T17:31:12.992Z"
   },
   {
    "duration": 37,
    "start_time": "2022-01-06T17:31:13.766Z"
   },
   {
    "duration": 6,
    "start_time": "2022-01-06T17:31:13.806Z"
   },
   {
    "duration": 50,
    "start_time": "2022-01-06T17:31:13.815Z"
   },
   {
    "duration": 6,
    "start_time": "2022-01-06T17:31:13.867Z"
   },
   {
    "duration": 416,
    "start_time": "2022-01-06T17:31:13.876Z"
   },
   {
    "duration": 77,
    "start_time": "2022-01-06T17:31:19.951Z"
   },
   {
    "duration": 58,
    "start_time": "2022-01-06T17:31:37.647Z"
   },
   {
    "duration": 424,
    "start_time": "2022-01-06T17:33:10.456Z"
   },
   {
    "duration": 52,
    "start_time": "2022-01-06T17:33:20.431Z"
   },
   {
    "duration": 7,
    "start_time": "2022-01-06T17:35:34.857Z"
   },
   {
    "duration": 284,
    "start_time": "2022-01-06T19:30:17.408Z"
   },
   {
    "duration": 1109,
    "start_time": "2022-01-06T19:30:21.609Z"
   },
   {
    "duration": 115,
    "start_time": "2022-01-06T19:30:22.720Z"
   },
   {
    "duration": 31,
    "start_time": "2022-01-06T19:30:22.837Z"
   },
   {
    "duration": 9,
    "start_time": "2022-01-06T19:30:22.870Z"
   },
   {
    "duration": 171,
    "start_time": "2022-01-06T19:30:22.881Z"
   },
   {
    "duration": 69,
    "start_time": "2022-01-06T19:30:23.053Z"
   },
   {
    "duration": 84,
    "start_time": "2022-01-06T19:30:23.123Z"
   },
   {
    "duration": 24,
    "start_time": "2022-01-06T19:30:23.210Z"
   },
   {
    "duration": 125,
    "start_time": "2022-01-06T19:30:23.236Z"
   },
   {
    "duration": 31,
    "start_time": "2022-01-06T19:30:23.363Z"
   },
   {
    "duration": 7,
    "start_time": "2022-01-06T19:30:23.396Z"
   },
   {
    "duration": 13,
    "start_time": "2022-01-06T19:30:23.405Z"
   },
   {
    "duration": 16,
    "start_time": "2022-01-06T19:30:23.419Z"
   },
   {
    "duration": 5,
    "start_time": "2022-01-06T19:30:23.437Z"
   },
   {
    "duration": 465,
    "start_time": "2022-01-06T19:30:23.443Z"
   },
   {
    "duration": 29,
    "start_time": "2022-01-06T19:30:23.910Z"
   },
   {
    "duration": 4,
    "start_time": "2022-01-06T19:30:23.940Z"
   },
   {
    "duration": 6,
    "start_time": "2022-01-06T19:30:23.961Z"
   },
   {
    "duration": 3,
    "start_time": "2022-01-06T19:30:23.968Z"
   },
   {
    "duration": 44,
    "start_time": "2022-01-06T19:30:23.973Z"
   },
   {
    "duration": 296,
    "start_time": "2022-01-06T19:30:24.018Z"
   },
   {
    "duration": 303,
    "start_time": "2022-01-06T19:31:04.657Z"
   },
   {
    "duration": 25,
    "start_time": "2022-01-06T19:31:12.857Z"
   },
   {
    "duration": 80,
    "start_time": "2022-01-06T19:31:20.463Z"
   },
   {
    "duration": 25,
    "start_time": "2022-01-06T19:31:40.717Z"
   },
   {
    "duration": 27,
    "start_time": "2022-01-06T19:31:54.858Z"
   },
   {
    "duration": 25,
    "start_time": "2022-01-06T19:32:52.998Z"
   },
   {
    "duration": 26,
    "start_time": "2022-01-06T19:33:08.083Z"
   },
   {
    "duration": 34,
    "start_time": "2022-01-06T19:36:52.585Z"
   },
   {
    "duration": 52,
    "start_time": "2022-01-06T19:36:56.099Z"
   },
   {
    "duration": 1076,
    "start_time": "2022-01-07T19:14:47.285Z"
   },
   {
    "duration": 113,
    "start_time": "2022-01-07T19:14:48.363Z"
   },
   {
    "duration": 23,
    "start_time": "2022-01-07T19:14:48.478Z"
   },
   {
    "duration": 10,
    "start_time": "2022-01-07T19:14:48.503Z"
   },
   {
    "duration": 157,
    "start_time": "2022-01-07T19:14:48.515Z"
   },
   {
    "duration": 66,
    "start_time": "2022-01-07T19:14:48.674Z"
   },
   {
    "duration": 65,
    "start_time": "2022-01-07T19:14:48.742Z"
   },
   {
    "duration": 32,
    "start_time": "2022-01-07T19:14:48.814Z"
   },
   {
    "duration": 120,
    "start_time": "2022-01-07T19:14:48.849Z"
   },
   {
    "duration": 30,
    "start_time": "2022-01-07T19:14:48.971Z"
   },
   {
    "duration": 25,
    "start_time": "2022-01-07T19:14:49.003Z"
   },
   {
    "duration": 4,
    "start_time": "2022-01-07T19:14:49.029Z"
   },
   {
    "duration": 8,
    "start_time": "2022-01-07T19:14:49.035Z"
   },
   {
    "duration": 5,
    "start_time": "2022-01-07T19:14:49.045Z"
   },
   {
    "duration": 421,
    "start_time": "2022-01-07T19:14:49.052Z"
   },
   {
    "duration": 25,
    "start_time": "2022-01-07T19:14:49.475Z"
   },
   {
    "duration": 3,
    "start_time": "2022-01-07T19:14:49.501Z"
   },
   {
    "duration": 22,
    "start_time": "2022-01-07T19:14:49.506Z"
   },
   {
    "duration": 2,
    "start_time": "2022-01-07T19:14:49.529Z"
   },
   {
    "duration": 35,
    "start_time": "2022-01-07T19:14:49.533Z"
   },
   {
    "duration": 27,
    "start_time": "2022-01-07T19:14:49.569Z"
   },
   {
    "duration": 64,
    "start_time": "2022-01-07T19:14:49.597Z"
   },
   {
    "duration": 399,
    "start_time": "2022-01-07T19:14:49.664Z"
   },
   {
    "duration": 34,
    "start_time": "2022-01-07T19:14:56.270Z"
   },
   {
    "duration": 240,
    "start_time": "2022-01-07T19:25:46.190Z"
   },
   {
    "duration": 236,
    "start_time": "2022-01-07T19:26:59.259Z"
   },
   {
    "duration": 8266,
    "start_time": "2022-01-07T19:32:12.014Z"
   },
   {
    "duration": 238,
    "start_time": "2022-01-07T19:32:40.646Z"
   },
   {
    "duration": 8242,
    "start_time": "2022-01-07T19:34:32.071Z"
   },
   {
    "duration": -234,
    "start_time": "2022-01-07T19:34:55.714Z"
   },
   {
    "duration": 8,
    "start_time": "2022-01-07T19:34:58.998Z"
   },
   {
    "duration": 9,
    "start_time": "2022-01-07T19:36:40.503Z"
   },
   {
    "duration": 333,
    "start_time": "2022-01-07T19:37:02.360Z"
   },
   {
    "duration": 9,
    "start_time": "2022-01-07T19:37:19.008Z"
   },
   {
    "duration": 13,
    "start_time": "2022-01-07T19:39:31.171Z"
   },
   {
    "duration": 3,
    "start_time": "2022-01-07T19:41:56.465Z"
   },
   {
    "duration": 116,
    "start_time": "2022-01-07T19:41:56.470Z"
   },
   {
    "duration": 19,
    "start_time": "2022-01-07T19:41:56.587Z"
   },
   {
    "duration": 7,
    "start_time": "2022-01-07T19:41:56.608Z"
   },
   {
    "duration": 141,
    "start_time": "2022-01-07T19:41:56.627Z"
   },
   {
    "duration": 62,
    "start_time": "2022-01-07T19:41:56.769Z"
   },
   {
    "duration": 59,
    "start_time": "2022-01-07T19:41:56.832Z"
   },
   {
    "duration": 17,
    "start_time": "2022-01-07T19:41:56.893Z"
   },
   {
    "duration": 122,
    "start_time": "2022-01-07T19:41:56.912Z"
   },
   {
    "duration": 29,
    "start_time": "2022-01-07T19:41:57.036Z"
   },
   {
    "duration": 5,
    "start_time": "2022-01-07T19:41:57.067Z"
   },
   {
    "duration": 3,
    "start_time": "2022-01-07T19:41:57.073Z"
   },
   {
    "duration": 5,
    "start_time": "2022-01-07T19:41:57.078Z"
   },
   {
    "duration": 4,
    "start_time": "2022-01-07T19:41:57.084Z"
   },
   {
    "duration": 410,
    "start_time": "2022-01-07T19:41:57.089Z"
   },
   {
    "duration": 28,
    "start_time": "2022-01-07T19:41:57.500Z"
   },
   {
    "duration": 3,
    "start_time": "2022-01-07T19:41:57.529Z"
   },
   {
    "duration": 8,
    "start_time": "2022-01-07T19:41:57.533Z"
   },
   {
    "duration": 3,
    "start_time": "2022-01-07T19:41:57.542Z"
   },
   {
    "duration": 37,
    "start_time": "2022-01-07T19:41:57.546Z"
   },
   {
    "duration": 45,
    "start_time": "2022-01-07T19:41:57.584Z"
   },
   {
    "duration": 47,
    "start_time": "2022-01-07T19:41:57.631Z"
   },
   {
    "duration": 250,
    "start_time": "2022-01-07T19:41:57.679Z"
   },
   {
    "duration": 10,
    "start_time": "2022-01-07T19:41:57.931Z"
   },
   {
    "duration": 7817,
    "start_time": "2022-01-07T19:41:57.943Z"
   },
   {
    "duration": -239,
    "start_time": "2022-01-07T19:42:06.000Z"
   },
   {
    "duration": 3,
    "start_time": "2022-01-07T19:42:08.531Z"
   },
   {
    "duration": 121,
    "start_time": "2022-01-07T19:42:08.537Z"
   },
   {
    "duration": 19,
    "start_time": "2022-01-07T19:42:08.660Z"
   },
   {
    "duration": 9,
    "start_time": "2022-01-07T19:42:08.680Z"
   },
   {
    "duration": 149,
    "start_time": "2022-01-07T19:42:08.690Z"
   },
   {
    "duration": 56,
    "start_time": "2022-01-07T19:42:08.840Z"
   },
   {
    "duration": 76,
    "start_time": "2022-01-07T19:42:08.898Z"
   },
   {
    "duration": 18,
    "start_time": "2022-01-07T19:42:08.975Z"
   },
   {
    "duration": 116,
    "start_time": "2022-01-07T19:42:08.995Z"
   },
   {
    "duration": 34,
    "start_time": "2022-01-07T19:42:09.112Z"
   },
   {
    "duration": 6,
    "start_time": "2022-01-07T19:42:09.148Z"
   },
   {
    "duration": 10,
    "start_time": "2022-01-07T19:42:09.155Z"
   },
   {
    "duration": 24,
    "start_time": "2022-01-07T19:42:09.166Z"
   },
   {
    "duration": 7,
    "start_time": "2022-01-07T19:42:09.192Z"
   },
   {
    "duration": 412,
    "start_time": "2022-01-07T19:42:09.201Z"
   },
   {
    "duration": 27,
    "start_time": "2022-01-07T19:42:09.614Z"
   },
   {
    "duration": 3,
    "start_time": "2022-01-07T19:42:09.642Z"
   },
   {
    "duration": 6,
    "start_time": "2022-01-07T19:42:09.646Z"
   },
   {
    "duration": 2,
    "start_time": "2022-01-07T19:42:09.654Z"
   },
   {
    "duration": 34,
    "start_time": "2022-01-07T19:42:09.658Z"
   },
   {
    "duration": 52,
    "start_time": "2022-01-07T19:42:09.693Z"
   },
   {
    "duration": 47,
    "start_time": "2022-01-07T19:42:09.747Z"
   },
   {
    "duration": 261,
    "start_time": "2022-01-07T19:42:09.795Z"
   },
   {
    "duration": 12,
    "start_time": "2022-01-07T19:42:10.059Z"
   },
   {
    "duration": 13,
    "start_time": "2022-01-07T19:42:10.073Z"
   },
   {
    "duration": 12,
    "start_time": "2022-01-07T19:42:10.087Z"
   },
   {
    "duration": 3,
    "start_time": "2022-01-07T20:23:18.904Z"
   },
   {
    "duration": 112,
    "start_time": "2022-01-07T20:23:18.909Z"
   },
   {
    "duration": 19,
    "start_time": "2022-01-07T20:23:19.022Z"
   },
   {
    "duration": 10,
    "start_time": "2022-01-07T20:23:19.042Z"
   },
   {
    "duration": 218,
    "start_time": "2022-01-07T20:23:19.054Z"
   },
   {
    "duration": 74,
    "start_time": "2022-01-07T20:23:19.273Z"
   },
   {
    "duration": 61,
    "start_time": "2022-01-07T20:23:19.348Z"
   },
   {
    "duration": 30,
    "start_time": "2022-01-07T20:23:19.411Z"
   },
   {
    "duration": 103,
    "start_time": "2022-01-07T20:23:19.442Z"
   },
   {
    "duration": 27,
    "start_time": "2022-01-07T20:23:19.547Z"
   },
   {
    "duration": 5,
    "start_time": "2022-01-07T20:23:19.576Z"
   },
   {
    "duration": 4,
    "start_time": "2022-01-07T20:23:19.582Z"
   },
   {
    "duration": 5,
    "start_time": "2022-01-07T20:23:19.587Z"
   },
   {
    "duration": 6,
    "start_time": "2022-01-07T20:23:19.593Z"
   },
   {
    "duration": 462,
    "start_time": "2022-01-07T20:23:19.600Z"
   },
   {
    "duration": 23,
    "start_time": "2022-01-07T20:23:20.063Z"
   },
   {
    "duration": 3,
    "start_time": "2022-01-07T20:23:20.087Z"
   },
   {
    "duration": 8,
    "start_time": "2022-01-07T20:23:20.091Z"
   },
   {
    "duration": 3,
    "start_time": "2022-01-07T20:23:20.100Z"
   },
   {
    "duration": 52,
    "start_time": "2022-01-07T20:23:20.104Z"
   },
   {
    "duration": 23,
    "start_time": "2022-01-07T20:23:20.157Z"
   },
   {
    "duration": 67,
    "start_time": "2022-01-07T20:23:20.182Z"
   },
   {
    "duration": 234,
    "start_time": "2022-01-07T20:23:20.252Z"
   },
   {
    "duration": 12,
    "start_time": "2022-01-07T20:23:20.487Z"
   },
   {
    "duration": 27,
    "start_time": "2022-01-07T20:23:20.501Z"
   },
   {
    "duration": 12,
    "start_time": "2022-01-07T20:23:20.530Z"
   },
   {
    "duration": 323,
    "start_time": "2022-01-07T20:26:53.669Z"
   },
   {
    "duration": 346,
    "start_time": "2022-01-07T20:28:15.946Z"
   },
   {
    "duration": 4,
    "start_time": "2022-01-07T20:29:02.916Z"
   },
   {
    "duration": 138,
    "start_time": "2022-01-07T20:29:02.921Z"
   },
   {
    "duration": 20,
    "start_time": "2022-01-07T20:29:03.061Z"
   },
   {
    "duration": 10,
    "start_time": "2022-01-07T20:29:03.083Z"
   },
   {
    "duration": 231,
    "start_time": "2022-01-07T20:29:03.095Z"
   },
   {
    "duration": 69,
    "start_time": "2022-01-07T20:29:03.328Z"
   },
   {
    "duration": 71,
    "start_time": "2022-01-07T20:29:03.398Z"
   },
   {
    "duration": 18,
    "start_time": "2022-01-07T20:29:03.471Z"
   },
   {
    "duration": 110,
    "start_time": "2022-01-07T20:29:03.491Z"
   },
   {
    "duration": 34,
    "start_time": "2022-01-07T20:29:03.603Z"
   },
   {
    "duration": 6,
    "start_time": "2022-01-07T20:29:03.639Z"
   },
   {
    "duration": 4,
    "start_time": "2022-01-07T20:29:03.647Z"
   },
   {
    "duration": 6,
    "start_time": "2022-01-07T20:29:03.652Z"
   },
   {
    "duration": 8,
    "start_time": "2022-01-07T20:29:03.659Z"
   },
   {
    "duration": 599,
    "start_time": "2022-01-07T20:29:03.669Z"
   },
   {
    "duration": 29,
    "start_time": "2022-01-07T20:29:04.270Z"
   },
   {
    "duration": 3,
    "start_time": "2022-01-07T20:29:04.301Z"
   },
   {
    "duration": 25,
    "start_time": "2022-01-07T20:29:04.306Z"
   },
   {
    "duration": 3,
    "start_time": "2022-01-07T20:29:04.332Z"
   },
   {
    "duration": 48,
    "start_time": "2022-01-07T20:29:04.337Z"
   },
   {
    "duration": 28,
    "start_time": "2022-01-07T20:29:04.386Z"
   },
   {
    "duration": 60,
    "start_time": "2022-01-07T20:29:04.428Z"
   },
   {
    "duration": 261,
    "start_time": "2022-01-07T20:29:04.491Z"
   },
   {
    "duration": 14,
    "start_time": "2022-01-07T20:29:04.754Z"
   },
   {
    "duration": 12,
    "start_time": "2022-01-07T20:29:04.769Z"
   },
   {
    "duration": 10,
    "start_time": "2022-01-07T20:29:04.783Z"
   },
   {
    "duration": 11,
    "start_time": "2022-01-07T20:29:04.795Z"
   },
   {
    "duration": 2,
    "start_time": "2022-01-07T20:30:59.270Z"
   },
   {
    "duration": 103,
    "start_time": "2022-01-07T20:30:59.274Z"
   },
   {
    "duration": 19,
    "start_time": "2022-01-07T20:30:59.379Z"
   },
   {
    "duration": 8,
    "start_time": "2022-01-07T20:30:59.400Z"
   },
   {
    "duration": 150,
    "start_time": "2022-01-07T20:30:59.410Z"
   },
   {
    "duration": 49,
    "start_time": "2022-01-07T20:30:59.562Z"
   },
   {
    "duration": 67,
    "start_time": "2022-01-07T20:30:59.613Z"
   },
   {
    "duration": 18,
    "start_time": "2022-01-07T20:30:59.681Z"
   },
   {
    "duration": 115,
    "start_time": "2022-01-07T20:30:59.701Z"
   },
   {
    "duration": 28,
    "start_time": "2022-01-07T20:30:59.818Z"
   },
   {
    "duration": 5,
    "start_time": "2022-01-07T20:30:59.848Z"
   },
   {
    "duration": 8,
    "start_time": "2022-01-07T20:30:59.854Z"
   },
   {
    "duration": 9,
    "start_time": "2022-01-07T20:30:59.864Z"
   },
   {
    "duration": 4,
    "start_time": "2022-01-07T20:30:59.874Z"
   },
   {
    "duration": 432,
    "start_time": "2022-01-07T20:30:59.879Z"
   },
   {
    "duration": 33,
    "start_time": "2022-01-07T20:31:00.312Z"
   },
   {
    "duration": 3,
    "start_time": "2022-01-07T20:31:00.346Z"
   },
   {
    "duration": 11,
    "start_time": "2022-01-07T20:31:00.350Z"
   },
   {
    "duration": 6,
    "start_time": "2022-01-07T20:31:00.363Z"
   },
   {
    "duration": 36,
    "start_time": "2022-01-07T20:31:00.371Z"
   },
   {
    "duration": 26,
    "start_time": "2022-01-07T20:31:00.409Z"
   },
   {
    "duration": 45,
    "start_time": "2022-01-07T20:31:00.436Z"
   },
   {
    "duration": 246,
    "start_time": "2022-01-07T20:31:00.482Z"
   },
   {
    "duration": 12,
    "start_time": "2022-01-07T20:31:00.730Z"
   },
   {
    "duration": 18,
    "start_time": "2022-01-07T20:31:00.743Z"
   },
   {
    "duration": 13,
    "start_time": "2022-01-07T20:31:00.762Z"
   },
   {
    "duration": 3,
    "start_time": "2022-01-07T20:31:00.778Z"
   },
   {
    "duration": 17,
    "start_time": "2022-01-07T20:40:34.200Z"
   },
   {
    "duration": 3,
    "start_time": "2022-01-07T20:40:43.230Z"
   },
   {
    "duration": 114,
    "start_time": "2022-01-07T20:40:43.235Z"
   },
   {
    "duration": 20,
    "start_time": "2022-01-07T20:40:43.351Z"
   },
   {
    "duration": 9,
    "start_time": "2022-01-07T20:40:43.373Z"
   },
   {
    "duration": 156,
    "start_time": "2022-01-07T20:40:43.383Z"
   },
   {
    "duration": 55,
    "start_time": "2022-01-07T20:40:43.541Z"
   },
   {
    "duration": 75,
    "start_time": "2022-01-07T20:40:43.598Z"
   },
   {
    "duration": 18,
    "start_time": "2022-01-07T20:40:43.675Z"
   },
   {
    "duration": 106,
    "start_time": "2022-01-07T20:40:43.694Z"
   },
   {
    "duration": 40,
    "start_time": "2022-01-07T20:40:43.801Z"
   },
   {
    "duration": 5,
    "start_time": "2022-01-07T20:40:43.843Z"
   },
   {
    "duration": 4,
    "start_time": "2022-01-07T20:40:43.849Z"
   },
   {
    "duration": 5,
    "start_time": "2022-01-07T20:40:43.854Z"
   },
   {
    "duration": 7,
    "start_time": "2022-01-07T20:40:43.860Z"
   },
   {
    "duration": 402,
    "start_time": "2022-01-07T20:40:43.869Z"
   },
   {
    "duration": 23,
    "start_time": "2022-01-07T20:40:44.272Z"
   },
   {
    "duration": 3,
    "start_time": "2022-01-07T20:40:44.296Z"
   },
   {
    "duration": 7,
    "start_time": "2022-01-07T20:40:44.300Z"
   },
   {
    "duration": 18,
    "start_time": "2022-01-07T20:40:44.310Z"
   },
   {
    "duration": 34,
    "start_time": "2022-01-07T20:40:44.330Z"
   },
   {
    "duration": 27,
    "start_time": "2022-01-07T20:40:44.366Z"
   },
   {
    "duration": 63,
    "start_time": "2022-01-07T20:40:44.394Z"
   },
   {
    "duration": 262,
    "start_time": "2022-01-07T20:40:44.459Z"
   },
   {
    "duration": 12,
    "start_time": "2022-01-07T20:40:44.723Z"
   },
   {
    "duration": 15,
    "start_time": "2022-01-07T20:40:44.737Z"
   },
   {
    "duration": 16,
    "start_time": "2022-01-07T20:40:44.753Z"
   },
   {
    "duration": 4,
    "start_time": "2022-01-07T20:40:44.770Z"
   },
   {
    "duration": 3,
    "start_time": "2022-01-07T20:41:01.698Z"
   },
   {
    "duration": 124,
    "start_time": "2022-01-07T20:41:01.703Z"
   },
   {
    "duration": 20,
    "start_time": "2022-01-07T20:41:01.829Z"
   },
   {
    "duration": 10,
    "start_time": "2022-01-07T20:41:01.851Z"
   },
   {
    "duration": 155,
    "start_time": "2022-01-07T20:41:01.863Z"
   },
   {
    "duration": 58,
    "start_time": "2022-01-07T20:41:02.020Z"
   },
   {
    "duration": 72,
    "start_time": "2022-01-07T20:41:02.081Z"
   },
   {
    "duration": 18,
    "start_time": "2022-01-07T20:41:02.154Z"
   },
   {
    "duration": 105,
    "start_time": "2022-01-07T20:41:02.173Z"
   },
   {
    "duration": 30,
    "start_time": "2022-01-07T20:41:02.279Z"
   },
   {
    "duration": 18,
    "start_time": "2022-01-07T20:41:02.310Z"
   },
   {
    "duration": 3,
    "start_time": "2022-01-07T20:41:02.329Z"
   },
   {
    "duration": 10,
    "start_time": "2022-01-07T20:41:02.333Z"
   },
   {
    "duration": 5,
    "start_time": "2022-01-07T20:41:02.344Z"
   },
   {
    "duration": 399,
    "start_time": "2022-01-07T20:41:02.351Z"
   },
   {
    "duration": 24,
    "start_time": "2022-01-07T20:41:02.752Z"
   },
   {
    "duration": 3,
    "start_time": "2022-01-07T20:41:02.777Z"
   },
   {
    "duration": 6,
    "start_time": "2022-01-07T20:41:02.782Z"
   },
   {
    "duration": 2,
    "start_time": "2022-01-07T20:41:02.791Z"
   },
   {
    "duration": 55,
    "start_time": "2022-01-07T20:41:02.794Z"
   },
   {
    "duration": 23,
    "start_time": "2022-01-07T20:41:02.850Z"
   },
   {
    "duration": 57,
    "start_time": "2022-01-07T20:41:02.875Z"
   },
   {
    "duration": 285,
    "start_time": "2022-01-07T20:41:02.934Z"
   },
   {
    "duration": 14,
    "start_time": "2022-01-07T20:41:03.226Z"
   },
   {
    "duration": 17,
    "start_time": "2022-01-07T20:41:03.241Z"
   },
   {
    "duration": 11,
    "start_time": "2022-01-07T20:41:03.259Z"
   },
   {
    "duration": 4,
    "start_time": "2022-01-07T20:41:03.272Z"
   },
   {
    "duration": 3,
    "start_time": "2022-01-07T20:41:35.226Z"
   },
   {
    "duration": 113,
    "start_time": "2022-01-07T20:41:35.230Z"
   },
   {
    "duration": 19,
    "start_time": "2022-01-07T20:41:35.345Z"
   },
   {
    "duration": 8,
    "start_time": "2022-01-07T20:41:35.365Z"
   },
   {
    "duration": 153,
    "start_time": "2022-01-07T20:41:35.375Z"
   },
   {
    "duration": 51,
    "start_time": "2022-01-07T20:41:35.529Z"
   },
   {
    "duration": 71,
    "start_time": "2022-01-07T20:41:35.582Z"
   },
   {
    "duration": 21,
    "start_time": "2022-01-07T20:41:35.656Z"
   },
   {
    "duration": 114,
    "start_time": "2022-01-07T20:41:35.679Z"
   },
   {
    "duration": 32,
    "start_time": "2022-01-07T20:41:35.795Z"
   },
   {
    "duration": 4,
    "start_time": "2022-01-07T20:41:35.829Z"
   },
   {
    "duration": 3,
    "start_time": "2022-01-07T20:41:35.835Z"
   },
   {
    "duration": 4,
    "start_time": "2022-01-07T20:41:35.840Z"
   },
   {
    "duration": 4,
    "start_time": "2022-01-07T20:41:35.845Z"
   },
   {
    "duration": 402,
    "start_time": "2022-01-07T20:41:35.851Z"
   },
   {
    "duration": 23,
    "start_time": "2022-01-07T20:41:36.254Z"
   },
   {
    "duration": 2,
    "start_time": "2022-01-07T20:41:36.279Z"
   },
   {
    "duration": 8,
    "start_time": "2022-01-07T20:41:36.282Z"
   },
   {
    "duration": 3,
    "start_time": "2022-01-07T20:41:36.291Z"
   },
   {
    "duration": 53,
    "start_time": "2022-01-07T20:41:36.295Z"
   },
   {
    "duration": 26,
    "start_time": "2022-01-07T20:41:36.350Z"
   },
   {
    "duration": 57,
    "start_time": "2022-01-07T20:41:36.377Z"
   },
   {
    "duration": 247,
    "start_time": "2022-01-07T20:41:36.437Z"
   },
   {
    "duration": 13,
    "start_time": "2022-01-07T20:41:36.685Z"
   },
   {
    "duration": 8178,
    "start_time": "2022-01-07T20:41:36.699Z"
   },
   {
    "duration": -239,
    "start_time": "2022-01-07T20:41:45.117Z"
   },
   {
    "duration": -240,
    "start_time": "2022-01-07T20:41:45.119Z"
   },
   {
    "duration": 3,
    "start_time": "2022-01-07T20:49:14.449Z"
   },
   {
    "duration": 114,
    "start_time": "2022-01-07T20:49:14.455Z"
   },
   {
    "duration": 19,
    "start_time": "2022-01-07T20:49:14.571Z"
   },
   {
    "duration": 98,
    "start_time": "2022-01-07T20:49:14.592Z"
   },
   {
    "duration": 149,
    "start_time": "2022-01-07T20:49:14.692Z"
   },
   {
    "duration": 54,
    "start_time": "2022-01-07T20:49:14.842Z"
   },
   {
    "duration": 82,
    "start_time": "2022-01-07T20:49:14.897Z"
   },
   {
    "duration": 20,
    "start_time": "2022-01-07T20:49:14.980Z"
   },
   {
    "duration": 113,
    "start_time": "2022-01-07T20:49:15.002Z"
   },
   {
    "duration": 41,
    "start_time": "2022-01-07T20:49:15.117Z"
   },
   {
    "duration": 4,
    "start_time": "2022-01-07T20:49:15.160Z"
   },
   {
    "duration": 3,
    "start_time": "2022-01-07T20:49:15.166Z"
   },
   {
    "duration": 4,
    "start_time": "2022-01-07T20:49:15.170Z"
   },
   {
    "duration": 3,
    "start_time": "2022-01-07T20:49:15.176Z"
   },
   {
    "duration": 411,
    "start_time": "2022-01-07T20:49:15.181Z"
   },
   {
    "duration": 25,
    "start_time": "2022-01-07T20:49:15.593Z"
   },
   {
    "duration": 3,
    "start_time": "2022-01-07T20:49:15.627Z"
   },
   {
    "duration": 7,
    "start_time": "2022-01-07T20:49:15.631Z"
   },
   {
    "duration": 10,
    "start_time": "2022-01-07T20:49:15.640Z"
   },
   {
    "duration": 32,
    "start_time": "2022-01-07T20:49:15.651Z"
   },
   {
    "duration": 43,
    "start_time": "2022-01-07T20:49:15.684Z"
   },
   {
    "duration": 48,
    "start_time": "2022-01-07T20:49:15.729Z"
   },
   {
    "duration": 261,
    "start_time": "2022-01-07T20:49:15.779Z"
   },
   {
    "duration": 14,
    "start_time": "2022-01-07T20:49:16.042Z"
   },
   {
    "duration": 11,
    "start_time": "2022-01-07T20:49:16.057Z"
   },
   {
    "duration": 5,
    "start_time": "2022-01-07T20:49:16.070Z"
   },
   {
    "duration": 4,
    "start_time": "2022-01-07T20:51:09.981Z"
   },
   {
    "duration": 4,
    "start_time": "2022-01-07T20:51:15.599Z"
   },
   {
    "duration": 3,
    "start_time": "2022-01-07T20:57:53.236Z"
   },
   {
    "duration": 108,
    "start_time": "2022-01-07T20:57:53.241Z"
   },
   {
    "duration": 19,
    "start_time": "2022-01-07T20:57:53.351Z"
   },
   {
    "duration": 8,
    "start_time": "2022-01-07T20:57:53.372Z"
   },
   {
    "duration": 153,
    "start_time": "2022-01-07T20:57:53.381Z"
   },
   {
    "duration": 60,
    "start_time": "2022-01-07T20:57:53.536Z"
   },
   {
    "duration": 71,
    "start_time": "2022-01-07T20:57:53.598Z"
   },
   {
    "duration": 18,
    "start_time": "2022-01-07T20:57:53.670Z"
   },
   {
    "duration": 109,
    "start_time": "2022-01-07T20:57:53.690Z"
   },
   {
    "duration": 37,
    "start_time": "2022-01-07T20:57:53.800Z"
   },
   {
    "duration": 5,
    "start_time": "2022-01-07T20:57:53.839Z"
   },
   {
    "duration": 4,
    "start_time": "2022-01-07T20:57:53.845Z"
   },
   {
    "duration": 4,
    "start_time": "2022-01-07T20:57:53.851Z"
   },
   {
    "duration": 4,
    "start_time": "2022-01-07T20:57:53.856Z"
   },
   {
    "duration": 418,
    "start_time": "2022-01-07T20:57:53.861Z"
   },
   {
    "duration": 22,
    "start_time": "2022-01-07T20:57:54.280Z"
   },
   {
    "duration": 3,
    "start_time": "2022-01-07T20:57:54.304Z"
   },
   {
    "duration": 20,
    "start_time": "2022-01-07T20:57:54.308Z"
   },
   {
    "duration": 2,
    "start_time": "2022-01-07T20:57:54.330Z"
   },
   {
    "duration": 33,
    "start_time": "2022-01-07T20:57:54.334Z"
   },
   {
    "duration": 24,
    "start_time": "2022-01-07T20:57:54.369Z"
   },
   {
    "duration": 77,
    "start_time": "2022-01-07T20:57:54.395Z"
   },
   {
    "duration": 245,
    "start_time": "2022-01-07T20:57:54.474Z"
   },
   {
    "duration": 17,
    "start_time": "2022-01-07T20:57:54.720Z"
   },
   {
    "duration": 13,
    "start_time": "2022-01-07T20:57:54.738Z"
   },
   {
    "duration": 4,
    "start_time": "2022-01-07T20:57:54.752Z"
   },
   {
    "duration": 3,
    "start_time": "2022-01-07T21:05:40.020Z"
   },
   {
    "duration": 116,
    "start_time": "2022-01-07T21:05:40.025Z"
   },
   {
    "duration": 20,
    "start_time": "2022-01-07T21:05:40.144Z"
   },
   {
    "duration": 9,
    "start_time": "2022-01-07T21:05:40.166Z"
   },
   {
    "duration": 156,
    "start_time": "2022-01-07T21:05:40.176Z"
   },
   {
    "duration": 53,
    "start_time": "2022-01-07T21:05:40.334Z"
   },
   {
    "duration": 70,
    "start_time": "2022-01-07T21:05:40.389Z"
   },
   {
    "duration": 18,
    "start_time": "2022-01-07T21:05:40.460Z"
   },
   {
    "duration": 114,
    "start_time": "2022-01-07T21:05:40.479Z"
   },
   {
    "duration": 37,
    "start_time": "2022-01-07T21:05:40.594Z"
   },
   {
    "duration": 5,
    "start_time": "2022-01-07T21:05:40.632Z"
   },
   {
    "duration": 3,
    "start_time": "2022-01-07T21:05:40.638Z"
   },
   {
    "duration": 7,
    "start_time": "2022-01-07T21:05:40.642Z"
   },
   {
    "duration": 6,
    "start_time": "2022-01-07T21:05:40.650Z"
   },
   {
    "duration": 407,
    "start_time": "2022-01-07T21:05:40.657Z"
   },
   {
    "duration": 22,
    "start_time": "2022-01-07T21:05:41.065Z"
   },
   {
    "duration": 3,
    "start_time": "2022-01-07T21:05:41.089Z"
   },
   {
    "duration": 8,
    "start_time": "2022-01-07T21:05:41.093Z"
   },
   {
    "duration": 3,
    "start_time": "2022-01-07T21:05:41.103Z"
   },
   {
    "duration": 32,
    "start_time": "2022-01-07T21:05:41.127Z"
   },
   {
    "duration": 24,
    "start_time": "2022-01-07T21:05:41.160Z"
   },
   {
    "duration": 64,
    "start_time": "2022-01-07T21:05:41.185Z"
   },
   {
    "duration": 245,
    "start_time": "2022-01-07T21:05:41.251Z"
   },
   {
    "duration": 12,
    "start_time": "2022-01-07T21:05:41.497Z"
   },
   {
    "duration": 20,
    "start_time": "2022-01-07T21:05:41.510Z"
   },
   {
    "duration": 5,
    "start_time": "2022-01-07T21:05:41.531Z"
   },
   {
    "duration": 265,
    "start_time": "2022-01-07T21:33:08.098Z"
   },
   {
    "duration": 3,
    "start_time": "2022-01-07T22:49:37.492Z"
   },
   {
    "duration": 115,
    "start_time": "2022-01-07T22:49:37.496Z"
   },
   {
    "duration": 24,
    "start_time": "2022-01-07T22:49:37.613Z"
   },
   {
    "duration": 9,
    "start_time": "2022-01-07T22:49:37.638Z"
   },
   {
    "duration": 150,
    "start_time": "2022-01-07T22:49:37.649Z"
   },
   {
    "duration": 63,
    "start_time": "2022-01-07T22:49:37.801Z"
   },
   {
    "duration": 68,
    "start_time": "2022-01-07T22:49:37.865Z"
   },
   {
    "duration": 24,
    "start_time": "2022-01-07T22:49:37.936Z"
   },
   {
    "duration": 114,
    "start_time": "2022-01-07T22:49:37.962Z"
   },
   {
    "duration": 31,
    "start_time": "2022-01-07T22:49:38.078Z"
   },
   {
    "duration": 19,
    "start_time": "2022-01-07T22:49:38.111Z"
   },
   {
    "duration": 4,
    "start_time": "2022-01-07T22:49:38.131Z"
   },
   {
    "duration": 4,
    "start_time": "2022-01-07T22:49:38.137Z"
   },
   {
    "duration": 4,
    "start_time": "2022-01-07T22:49:38.143Z"
   },
   {
    "duration": 291,
    "start_time": "2022-01-07T22:49:38.148Z"
   },
   {
    "duration": 23,
    "start_time": "2022-01-07T22:49:38.441Z"
   },
   {
    "duration": 3,
    "start_time": "2022-01-07T22:49:38.466Z"
   },
   {
    "duration": 7,
    "start_time": "2022-01-07T22:49:38.471Z"
   },
   {
    "duration": 4,
    "start_time": "2022-01-07T22:49:38.480Z"
   },
   {
    "duration": 59,
    "start_time": "2022-01-07T22:49:38.485Z"
   },
   {
    "duration": 25,
    "start_time": "2022-01-07T22:49:38.546Z"
   },
   {
    "duration": 64,
    "start_time": "2022-01-07T22:49:38.573Z"
   },
   {
    "duration": 257,
    "start_time": "2022-01-07T22:49:38.641Z"
   },
   {
    "duration": 15,
    "start_time": "2022-01-07T22:49:38.900Z"
   },
   {
    "duration": 8,
    "start_time": "2022-01-07T22:49:38.927Z"
   },
   {
    "duration": 6,
    "start_time": "2022-01-07T22:49:38.936Z"
   },
   {
    "duration": 3,
    "start_time": "2022-01-07T22:51:47.074Z"
   },
   {
    "duration": 4,
    "start_time": "2022-01-07T22:51:56.673Z"
   },
   {
    "duration": 31,
    "start_time": "2022-01-07T22:58:43.668Z"
   },
   {
    "duration": 327,
    "start_time": "2022-01-07T23:03:34.213Z"
   },
   {
    "duration": 7,
    "start_time": "2022-01-07T23:04:57.790Z"
   },
   {
    "duration": 14,
    "start_time": "2022-01-07T23:05:15.404Z"
   },
   {
    "duration": 6,
    "start_time": "2022-01-07T23:05:23.916Z"
   },
   {
    "duration": 40,
    "start_time": "2022-01-07T23:05:30.540Z"
   },
   {
    "duration": 3,
    "start_time": "2022-01-07T23:06:07.129Z"
   },
   {
    "duration": 111,
    "start_time": "2022-01-07T23:06:07.134Z"
   },
   {
    "duration": 19,
    "start_time": "2022-01-07T23:06:07.246Z"
   },
   {
    "duration": 8,
    "start_time": "2022-01-07T23:06:07.267Z"
   },
   {
    "duration": 161,
    "start_time": "2022-01-07T23:06:07.276Z"
   },
   {
    "duration": 53,
    "start_time": "2022-01-07T23:06:07.439Z"
   },
   {
    "duration": 72,
    "start_time": "2022-01-07T23:06:07.494Z"
   },
   {
    "duration": 6,
    "start_time": "2022-01-07T23:06:07.567Z"
   },
   {
    "duration": 58,
    "start_time": "2022-01-07T23:06:07.575Z"
   },
   {
    "duration": 103,
    "start_time": "2022-01-07T23:06:07.635Z"
   },
   {
    "duration": 30,
    "start_time": "2022-01-07T23:06:07.739Z"
   },
   {
    "duration": 5,
    "start_time": "2022-01-07T23:06:07.770Z"
   },
   {
    "duration": 3,
    "start_time": "2022-01-07T23:06:07.776Z"
   },
   {
    "duration": 5,
    "start_time": "2022-01-07T23:06:07.781Z"
   },
   {
    "duration": 5,
    "start_time": "2022-01-07T23:06:07.787Z"
   },
   {
    "duration": 294,
    "start_time": "2022-01-07T23:06:07.793Z"
   },
   {
    "duration": 25,
    "start_time": "2022-01-07T23:06:08.088Z"
   },
   {
    "duration": 13,
    "start_time": "2022-01-07T23:06:08.114Z"
   },
   {
    "duration": 5,
    "start_time": "2022-01-07T23:06:08.128Z"
   },
   {
    "duration": 3,
    "start_time": "2022-01-07T23:06:08.135Z"
   },
   {
    "duration": 40,
    "start_time": "2022-01-07T23:06:08.139Z"
   },
   {
    "duration": 50,
    "start_time": "2022-01-07T23:06:08.181Z"
   },
   {
    "duration": 49,
    "start_time": "2022-01-07T23:06:08.233Z"
   },
   {
    "duration": 269,
    "start_time": "2022-01-07T23:06:08.284Z"
   },
   {
    "duration": 15,
    "start_time": "2022-01-07T23:06:08.555Z"
   },
   {
    "duration": 6,
    "start_time": "2022-01-07T23:06:08.572Z"
   },
   {
    "duration": 3,
    "start_time": "2022-01-07T23:06:08.581Z"
   },
   {
    "duration": 64,
    "start_time": "2022-01-07T23:06:08.586Z"
   },
   {
    "duration": 1410,
    "start_time": "2022-01-08T22:14:16.887Z"
   },
   {
    "duration": 118,
    "start_time": "2022-01-08T22:14:18.299Z"
   },
   {
    "duration": 41,
    "start_time": "2022-01-08T22:14:18.420Z"
   },
   {
    "duration": 13,
    "start_time": "2022-01-08T22:14:18.463Z"
   },
   {
    "duration": 168,
    "start_time": "2022-01-08T22:14:18.478Z"
   },
   {
    "duration": 60,
    "start_time": "2022-01-08T22:14:18.648Z"
   },
   {
    "duration": 81,
    "start_time": "2022-01-08T22:14:18.709Z"
   },
   {
    "duration": 20,
    "start_time": "2022-01-08T22:14:18.792Z"
   },
   {
    "duration": 119,
    "start_time": "2022-01-08T22:14:18.814Z"
   },
   {
    "duration": 38,
    "start_time": "2022-01-08T22:14:18.935Z"
   },
   {
    "duration": 6,
    "start_time": "2022-01-08T22:14:18.974Z"
   },
   {
    "duration": 5,
    "start_time": "2022-01-08T22:14:18.981Z"
   },
   {
    "duration": 7,
    "start_time": "2022-01-08T22:14:18.987Z"
   },
   {
    "duration": 5,
    "start_time": "2022-01-08T22:14:18.996Z"
   },
   {
    "duration": 313,
    "start_time": "2022-01-08T22:14:19.003Z"
   },
   {
    "duration": 37,
    "start_time": "2022-01-08T22:14:19.318Z"
   },
   {
    "duration": 3,
    "start_time": "2022-01-08T22:14:19.357Z"
   },
   {
    "duration": 7,
    "start_time": "2022-01-08T22:14:19.362Z"
   },
   {
    "duration": 3,
    "start_time": "2022-01-08T22:14:19.370Z"
   },
   {
    "duration": 43,
    "start_time": "2022-01-08T22:14:19.375Z"
   },
   {
    "duration": 32,
    "start_time": "2022-01-08T22:14:19.441Z"
   },
   {
    "duration": 67,
    "start_time": "2022-01-08T22:14:19.474Z"
   },
   {
    "duration": 518,
    "start_time": "2022-01-08T22:14:19.544Z"
   },
   {
    "duration": 451,
    "start_time": "2022-01-08T22:14:20.064Z"
   },
   {
    "duration": 28,
    "start_time": "2022-01-08T22:14:20.517Z"
   },
   {
    "duration": 3,
    "start_time": "2022-01-08T22:14:20.547Z"
   },
   {
    "duration": 14,
    "start_time": "2022-01-08T22:14:20.551Z"
   },
   {
    "duration": 39,
    "start_time": "2022-01-08T22:14:20.567Z"
   },
   {
    "duration": 437,
    "start_time": "2022-01-08T22:18:41.679Z"
   },
   {
    "duration": 120,
    "start_time": "2022-01-08T22:19:04.137Z"
   },
   {
    "duration": 104,
    "start_time": "2022-01-08T22:19:16.303Z"
   },
   {
    "duration": 504,
    "start_time": "2022-01-08T22:19:23.551Z"
   },
   {
    "duration": 482,
    "start_time": "2022-01-08T22:19:42.737Z"
   },
   {
    "duration": 243,
    "start_time": "2022-01-08T22:19:55.764Z"
   },
   {
    "duration": 286,
    "start_time": "2022-01-08T22:21:07.015Z"
   },
   {
    "duration": 119,
    "start_time": "2022-01-08T22:21:45.456Z"
   },
   {
    "duration": 286,
    "start_time": "2022-01-08T22:23:06.209Z"
   },
   {
    "duration": 5,
    "start_time": "2022-01-08T22:23:18.350Z"
   },
   {
    "duration": 184,
    "start_time": "2022-01-08T22:23:18.357Z"
   },
   {
    "duration": 33,
    "start_time": "2022-01-08T22:23:18.544Z"
   },
   {
    "duration": 14,
    "start_time": "2022-01-08T22:23:18.579Z"
   },
   {
    "duration": 277,
    "start_time": "2022-01-08T22:23:18.595Z"
   },
   {
    "duration": 69,
    "start_time": "2022-01-08T22:23:18.874Z"
   },
   {
    "duration": 64,
    "start_time": "2022-01-08T22:23:18.944Z"
   },
   {
    "duration": 34,
    "start_time": "2022-01-08T22:23:19.011Z"
   },
   {
    "duration": 114,
    "start_time": "2022-01-08T22:23:19.047Z"
   },
   {
    "duration": 31,
    "start_time": "2022-01-08T22:23:19.162Z"
   },
   {
    "duration": 5,
    "start_time": "2022-01-08T22:23:19.195Z"
   },
   {
    "duration": 9,
    "start_time": "2022-01-08T22:23:19.202Z"
   },
   {
    "duration": 6,
    "start_time": "2022-01-08T22:23:19.212Z"
   },
   {
    "duration": 21,
    "start_time": "2022-01-08T22:23:19.220Z"
   },
   {
    "duration": 295,
    "start_time": "2022-01-08T22:23:19.243Z"
   },
   {
    "duration": 25,
    "start_time": "2022-01-08T22:23:19.540Z"
   },
   {
    "duration": 3,
    "start_time": "2022-01-08T22:23:19.567Z"
   },
   {
    "duration": 9,
    "start_time": "2022-01-08T22:23:19.572Z"
   },
   {
    "duration": 4,
    "start_time": "2022-01-08T22:23:19.583Z"
   },
   {
    "duration": 61,
    "start_time": "2022-01-08T22:23:19.588Z"
   },
   {
    "duration": 28,
    "start_time": "2022-01-08T22:23:19.651Z"
   },
   {
    "duration": 62,
    "start_time": "2022-01-08T22:23:19.681Z"
   },
   {
    "duration": 274,
    "start_time": "2022-01-08T22:23:19.746Z"
   },
   {
    "duration": 21,
    "start_time": "2022-01-08T22:23:20.021Z"
   },
   {
    "duration": 238,
    "start_time": "2022-01-08T22:23:20.043Z"
   },
   {
    "duration": -34,
    "start_time": "2022-01-08T22:23:20.317Z"
   },
   {
    "duration": -37,
    "start_time": "2022-01-08T22:23:20.321Z"
   },
   {
    "duration": -42,
    "start_time": "2022-01-08T22:23:20.327Z"
   },
   {
    "duration": -44,
    "start_time": "2022-01-08T22:23:20.330Z"
   },
   {
    "duration": 113,
    "start_time": "2022-01-08T22:23:29.924Z"
   },
   {
    "duration": 795,
    "start_time": "2022-01-08T22:25:05.640Z"
   },
   {
    "duration": 892,
    "start_time": "2022-01-08T22:25:11.489Z"
   },
   {
    "duration": 8,
    "start_time": "2022-01-08T22:26:10.650Z"
   },
   {
    "duration": 8,
    "start_time": "2022-01-08T22:26:19.463Z"
   },
   {
    "duration": 105,
    "start_time": "2022-01-08T22:26:29.957Z"
   },
   {
    "duration": 107,
    "start_time": "2022-01-08T22:31:59.722Z"
   },
   {
    "duration": 104,
    "start_time": "2022-01-08T22:34:54.024Z"
   },
   {
    "duration": 8,
    "start_time": "2022-01-08T22:38:29.466Z"
   },
   {
    "duration": 6521,
    "start_time": "2022-01-08T22:41:20.507Z"
   },
   {
    "duration": 6083,
    "start_time": "2022-01-08T22:42:29.969Z"
   },
   {
    "duration": 4,
    "start_time": "2022-01-08T22:43:08.186Z"
   },
   {
    "duration": 4,
    "start_time": "2022-01-08T22:44:01.719Z"
   },
   {
    "duration": 32,
    "start_time": "2022-01-08T22:53:36.181Z"
   },
   {
    "duration": 12,
    "start_time": "2022-01-08T22:55:38.977Z"
   },
   {
    "duration": 254,
    "start_time": "2022-01-08T23:03:45.945Z"
   },
   {
    "duration": 249,
    "start_time": "2022-01-08T23:04:06.854Z"
   },
   {
    "duration": 246,
    "start_time": "2022-01-08T23:04:56.567Z"
   },
   {
    "duration": 303,
    "start_time": "2022-01-08T23:05:29.139Z"
   },
   {
    "duration": 509,
    "start_time": "2022-01-08T23:05:34.197Z"
   },
   {
    "duration": 28,
    "start_time": "2022-01-08T23:06:53.260Z"
   },
   {
    "duration": 332,
    "start_time": "2022-01-08T23:07:26.380Z"
   },
   {
    "duration": 33,
    "start_time": "2022-01-08T23:07:37.412Z"
   },
   {
    "duration": 46,
    "start_time": "2022-01-08T23:08:25.384Z"
   },
   {
    "duration": 319,
    "start_time": "2022-01-08T23:08:59.475Z"
   },
   {
    "duration": 4,
    "start_time": "2022-01-08T23:09:04.171Z"
   },
   {
    "duration": 117,
    "start_time": "2022-01-08T23:09:04.176Z"
   },
   {
    "duration": 20,
    "start_time": "2022-01-08T23:09:04.296Z"
   },
   {
    "duration": 9,
    "start_time": "2022-01-08T23:09:04.318Z"
   },
   {
    "duration": 169,
    "start_time": "2022-01-08T23:09:04.329Z"
   },
   {
    "duration": 62,
    "start_time": "2022-01-08T23:09:04.500Z"
   },
   {
    "duration": 60,
    "start_time": "2022-01-08T23:09:04.563Z"
   },
   {
    "duration": 33,
    "start_time": "2022-01-08T23:09:04.626Z"
   },
   {
    "duration": 129,
    "start_time": "2022-01-08T23:09:04.661Z"
   },
   {
    "duration": 32,
    "start_time": "2022-01-08T23:09:04.792Z"
   },
   {
    "duration": 16,
    "start_time": "2022-01-08T23:09:04.826Z"
   },
   {
    "duration": 3,
    "start_time": "2022-01-08T23:09:04.843Z"
   },
   {
    "duration": 5,
    "start_time": "2022-01-08T23:09:04.848Z"
   },
   {
    "duration": 5,
    "start_time": "2022-01-08T23:09:04.854Z"
   },
   {
    "duration": 325,
    "start_time": "2022-01-08T23:09:04.860Z"
   },
   {
    "duration": 27,
    "start_time": "2022-01-08T23:09:05.187Z"
   },
   {
    "duration": 3,
    "start_time": "2022-01-08T23:09:05.216Z"
   },
   {
    "duration": 25,
    "start_time": "2022-01-08T23:09:05.221Z"
   },
   {
    "duration": 4,
    "start_time": "2022-01-08T23:09:05.247Z"
   },
   {
    "duration": 40,
    "start_time": "2022-01-08T23:09:05.252Z"
   },
   {
    "duration": 49,
    "start_time": "2022-01-08T23:09:05.293Z"
   },
   {
    "duration": 57,
    "start_time": "2022-01-08T23:09:05.344Z"
   },
   {
    "duration": 8,
    "start_time": "2022-01-08T23:09:05.404Z"
   },
   {
    "duration": 306,
    "start_time": "2022-01-08T23:09:05.413Z"
   },
   {
    "duration": 3,
    "start_time": "2022-01-08T23:09:05.721Z"
   },
   {
    "duration": 17,
    "start_time": "2022-01-08T23:09:05.725Z"
   },
   {
    "duration": 34,
    "start_time": "2022-01-08T23:09:05.743Z"
   },
   {
    "duration": 14,
    "start_time": "2022-01-08T23:09:05.779Z"
   },
   {
    "duration": 50,
    "start_time": "2022-01-08T23:09:05.794Z"
   },
   {
    "duration": 43,
    "start_time": "2022-01-08T23:09:05.846Z"
   },
   {
    "duration": 244,
    "start_time": "2022-01-08T23:09:05.891Z"
   },
   {
    "duration": 8,
    "start_time": "2022-01-08T23:11:03.759Z"
   },
   {
    "duration": 3,
    "start_time": "2022-01-08T23:13:49.352Z"
   },
   {
    "duration": 77,
    "start_time": "2022-01-08T23:13:57.921Z"
   },
   {
    "duration": 4,
    "start_time": "2022-01-08T23:14:07.853Z"
   },
   {
    "duration": 4,
    "start_time": "2022-01-08T23:14:20.133Z"
   },
   {
    "duration": 4,
    "start_time": "2022-01-08T23:21:29.331Z"
   },
   {
    "duration": 4,
    "start_time": "2022-01-08T23:21:37.202Z"
   },
   {
    "duration": 5,
    "start_time": "2022-01-08T23:21:43.885Z"
   },
   {
    "duration": 5,
    "start_time": "2022-01-08T23:22:00.173Z"
   },
   {
    "duration": 230,
    "start_time": "2022-01-08T23:26:38.458Z"
   },
   {
    "duration": 4,
    "start_time": "2022-01-08T23:26:47.864Z"
   },
   {
    "duration": 4,
    "start_time": "2022-01-08T23:29:14.859Z"
   },
   {
    "duration": 1924,
    "start_time": "2022-01-09T20:14:35.508Z"
   },
   {
    "duration": 295,
    "start_time": "2022-01-09T20:14:37.434Z"
   },
   {
    "duration": 36,
    "start_time": "2022-01-09T20:14:37.731Z"
   },
   {
    "duration": 17,
    "start_time": "2022-01-09T20:14:37.769Z"
   },
   {
    "duration": 299,
    "start_time": "2022-01-09T20:14:37.789Z"
   },
   {
    "duration": 107,
    "start_time": "2022-01-09T20:14:38.091Z"
   },
   {
    "duration": 127,
    "start_time": "2022-01-09T20:14:38.200Z"
   },
   {
    "duration": 30,
    "start_time": "2022-01-09T20:14:38.330Z"
   },
   {
    "duration": 193,
    "start_time": "2022-01-09T20:14:38.364Z"
   },
   {
    "duration": 57,
    "start_time": "2022-01-09T20:14:38.560Z"
   },
   {
    "duration": 8,
    "start_time": "2022-01-09T20:14:38.619Z"
   },
   {
    "duration": 6,
    "start_time": "2022-01-09T20:14:38.629Z"
   },
   {
    "duration": 9,
    "start_time": "2022-01-09T20:14:38.637Z"
   },
   {
    "duration": 6,
    "start_time": "2022-01-09T20:14:38.649Z"
   },
   {
    "duration": 550,
    "start_time": "2022-01-09T20:14:38.657Z"
   },
   {
    "duration": 41,
    "start_time": "2022-01-09T20:14:39.217Z"
   },
   {
    "duration": 5,
    "start_time": "2022-01-09T20:14:39.260Z"
   },
   {
    "duration": 13,
    "start_time": "2022-01-09T20:14:39.267Z"
   },
   {
    "duration": 4,
    "start_time": "2022-01-09T20:14:39.283Z"
   },
   {
    "duration": 54,
    "start_time": "2022-01-09T20:14:39.318Z"
   },
   {
    "duration": 68,
    "start_time": "2022-01-09T20:14:39.375Z"
   },
   {
    "duration": 92,
    "start_time": "2022-01-09T20:14:39.446Z"
   },
   {
    "duration": 11,
    "start_time": "2022-01-09T20:14:39.541Z"
   },
   {
    "duration": 776,
    "start_time": "2022-01-09T20:14:39.554Z"
   },
   {
    "duration": 5,
    "start_time": "2022-01-09T20:14:40.332Z"
   },
   {
    "duration": 8,
    "start_time": "2022-01-09T20:14:40.340Z"
   },
   {
    "duration": 92,
    "start_time": "2022-01-09T20:14:40.354Z"
   },
   {
    "duration": 99,
    "start_time": "2022-01-09T20:14:40.449Z"
   },
   {
    "duration": 111,
    "start_time": "2022-01-09T20:14:40.550Z"
   },
   {
    "duration": 10,
    "start_time": "2022-01-09T20:14:40.664Z"
   },
   {
    "duration": 5,
    "start_time": "2022-01-09T20:14:40.718Z"
   },
   {
    "duration": 6,
    "start_time": "2022-01-09T20:15:36.393Z"
   },
   {
    "duration": 345,
    "start_time": "2022-01-10T23:21:09.801Z"
   },
   {
    "duration": 2001,
    "start_time": "2022-01-10T23:21:12.921Z"
   },
   {
    "duration": 172,
    "start_time": "2022-01-10T23:21:14.924Z"
   },
   {
    "duration": 36,
    "start_time": "2022-01-10T23:21:15.098Z"
   },
   {
    "duration": 35,
    "start_time": "2022-01-10T23:21:15.138Z"
   },
   {
    "duration": 287,
    "start_time": "2022-01-10T23:21:15.175Z"
   },
   {
    "duration": 100,
    "start_time": "2022-01-10T23:21:15.464Z"
   },
   {
    "duration": 113,
    "start_time": "2022-01-10T23:21:15.567Z"
   },
   {
    "duration": 29,
    "start_time": "2022-01-10T23:21:15.684Z"
   },
   {
    "duration": 195,
    "start_time": "2022-01-10T23:21:15.716Z"
   },
   {
    "duration": 54,
    "start_time": "2022-01-10T23:21:15.913Z"
   },
   {
    "duration": 10,
    "start_time": "2022-01-10T23:21:15.971Z"
   },
   {
    "duration": 10,
    "start_time": "2022-01-10T23:21:15.984Z"
   },
   {
    "duration": 15,
    "start_time": "2022-01-10T23:21:15.997Z"
   },
   {
    "duration": 9,
    "start_time": "2022-01-10T23:21:16.015Z"
   },
   {
    "duration": 562,
    "start_time": "2022-01-10T23:21:16.027Z"
   },
   {
    "duration": 42,
    "start_time": "2022-01-10T23:21:16.593Z"
   },
   {
    "duration": 26,
    "start_time": "2022-01-10T23:21:16.637Z"
   },
   {
    "duration": 7,
    "start_time": "2022-01-10T23:21:16.665Z"
   },
   {
    "duration": 30,
    "start_time": "2022-01-10T23:21:16.675Z"
   },
   {
    "duration": 67,
    "start_time": "2022-01-10T23:21:16.707Z"
   },
   {
    "duration": 43,
    "start_time": "2022-01-10T23:21:16.777Z"
   },
   {
    "duration": 92,
    "start_time": "2022-01-10T23:21:16.822Z"
   },
   {
    "duration": 11,
    "start_time": "2022-01-10T23:21:16.918Z"
   },
   {
    "duration": 793,
    "start_time": "2022-01-10T23:21:16.932Z"
   },
   {
    "duration": 5,
    "start_time": "2022-01-10T23:21:17.728Z"
   },
   {
    "duration": 7,
    "start_time": "2022-01-10T23:21:17.764Z"
   },
   {
    "duration": 114,
    "start_time": "2022-01-10T23:21:17.774Z"
   },
   {
    "duration": 602,
    "start_time": "2022-01-10T23:21:17.891Z"
   },
   {
    "duration": -6291,
    "start_time": "2022-01-10T23:21:24.786Z"
   },
   {
    "duration": -6296,
    "start_time": "2022-01-10T23:21:24.792Z"
   },
   {
    "duration": -6299,
    "start_time": "2022-01-10T23:21:24.797Z"
   },
   {
    "duration": -6302,
    "start_time": "2022-01-10T23:21:24.801Z"
   },
   {
    "duration": -6304,
    "start_time": "2022-01-10T23:21:24.804Z"
   },
   {
    "duration": -6306,
    "start_time": "2022-01-10T23:21:24.808Z"
   },
   {
    "duration": 5,
    "start_time": "2022-01-10T23:24:53.023Z"
   },
   {
    "duration": 177,
    "start_time": "2022-01-10T23:24:53.031Z"
   },
   {
    "duration": 30,
    "start_time": "2022-01-10T23:24:53.211Z"
   },
   {
    "duration": 32,
    "start_time": "2022-01-10T23:24:53.244Z"
   },
   {
    "duration": 271,
    "start_time": "2022-01-10T23:24:53.279Z"
   },
   {
    "duration": 92,
    "start_time": "2022-01-10T23:24:53.553Z"
   },
   {
    "duration": 111,
    "start_time": "2022-01-10T23:24:53.665Z"
   },
   {
    "duration": 28,
    "start_time": "2022-01-10T23:24:53.779Z"
   },
   {
    "duration": 190,
    "start_time": "2022-01-10T23:24:53.810Z"
   },
   {
    "duration": 41,
    "start_time": "2022-01-10T23:24:54.002Z"
   },
   {
    "duration": 8,
    "start_time": "2022-01-10T23:24:54.063Z"
   },
   {
    "duration": 5,
    "start_time": "2022-01-10T23:24:54.073Z"
   },
   {
    "duration": 8,
    "start_time": "2022-01-10T23:24:54.081Z"
   },
   {
    "duration": 5,
    "start_time": "2022-01-10T23:24:54.091Z"
   },
   {
    "duration": 650,
    "start_time": "2022-01-10T23:24:54.098Z"
   },
   {
    "duration": 44,
    "start_time": "2022-01-10T23:24:54.750Z"
   },
   {
    "duration": 5,
    "start_time": "2022-01-10T23:24:54.797Z"
   },
   {
    "duration": 8,
    "start_time": "2022-01-10T23:24:54.804Z"
   },
   {
    "duration": 5,
    "start_time": "2022-01-10T23:24:54.817Z"
   },
   {
    "duration": 51,
    "start_time": "2022-01-10T23:24:54.864Z"
   },
   {
    "duration": 58,
    "start_time": "2022-01-10T23:24:54.918Z"
   },
   {
    "duration": 84,
    "start_time": "2022-01-10T23:24:54.978Z"
   },
   {
    "duration": 10,
    "start_time": "2022-01-10T23:24:55.065Z"
   },
   {
    "duration": 312,
    "start_time": "2022-01-10T23:24:55.078Z"
   },
   {
    "duration": 4,
    "start_time": "2022-01-10T23:24:55.392Z"
   },
   {
    "duration": 9,
    "start_time": "2022-01-10T23:24:55.398Z"
   },
   {
    "duration": 66,
    "start_time": "2022-01-10T23:24:55.410Z"
   },
   {
    "duration": 309,
    "start_time": "2022-01-10T23:24:55.478Z"
   },
   {
    "duration": 41,
    "start_time": "2022-01-10T23:24:55.749Z"
   },
   {
    "duration": 39,
    "start_time": "2022-01-10T23:24:55.752Z"
   },
   {
    "duration": 34,
    "start_time": "2022-01-10T23:24:55.759Z"
   },
   {
    "duration": 32,
    "start_time": "2022-01-10T23:24:55.762Z"
   },
   {
    "duration": 31,
    "start_time": "2022-01-10T23:24:55.765Z"
   },
   {
    "duration": 19,
    "start_time": "2022-01-10T23:24:55.778Z"
   },
   {
    "duration": 323,
    "start_time": "2022-01-10T23:26:09.308Z"
   },
   {
    "duration": 376,
    "start_time": "2022-01-10T23:26:14.557Z"
   },
   {
    "duration": 328,
    "start_time": "2022-01-10T23:26:50.707Z"
   },
   {
    "duration": 321,
    "start_time": "2022-01-10T23:26:58.723Z"
   },
   {
    "duration": 315,
    "start_time": "2022-01-10T23:28:40.709Z"
   },
   {
    "duration": 22,
    "start_time": "2022-01-10T23:28:55.749Z"
   },
   {
    "duration": 391,
    "start_time": "2022-01-10T23:29:06.693Z"
   },
   {
    "duration": 355,
    "start_time": "2022-01-10T23:30:16.013Z"
   },
   {
    "duration": 459,
    "start_time": "2022-01-10T23:31:00.533Z"
   },
   {
    "duration": 306,
    "start_time": "2022-01-10T23:31:40.593Z"
   },
   {
    "duration": 300,
    "start_time": "2022-01-10T23:31:51.975Z"
   },
   {
    "duration": 303,
    "start_time": "2022-01-10T23:32:22.954Z"
   },
   {
    "duration": 298,
    "start_time": "2022-01-10T23:33:28.358Z"
   },
   {
    "duration": 289,
    "start_time": "2022-01-10T23:34:59.462Z"
   },
   {
    "duration": 299,
    "start_time": "2022-01-10T23:35:17.806Z"
   },
   {
    "duration": 333,
    "start_time": "2022-01-10T23:37:28.023Z"
   },
   {
    "duration": 318,
    "start_time": "2022-01-10T23:38:35.905Z"
   },
   {
    "duration": 477,
    "start_time": "2022-01-10T23:39:05.101Z"
   },
   {
    "duration": 325,
    "start_time": "2022-01-10T23:44:08.929Z"
   },
   {
    "duration": 364,
    "start_time": "2022-01-10T23:44:18.729Z"
   },
   {
    "duration": 319,
    "start_time": "2022-01-10T23:44:35.020Z"
   },
   {
    "duration": 375,
    "start_time": "2022-01-10T23:44:49.256Z"
   },
   {
    "duration": 336,
    "start_time": "2022-01-10T23:45:11.648Z"
   },
   {
    "duration": 2636,
    "start_time": "2022-01-11T01:07:27.511Z"
   },
   {
    "duration": 1893,
    "start_time": "2022-01-11T01:07:30.151Z"
   },
   {
    "duration": 9200,
    "start_time": "2022-01-11T01:08:10.897Z"
   },
   {
    "duration": 369,
    "start_time": "2022-01-11T01:08:59.402Z"
   },
   {
    "duration": 8826,
    "start_time": "2022-01-11T01:09:51.214Z"
   },
   {
    "duration": 3874,
    "start_time": "2022-01-11T01:10:11.179Z"
   },
   {
    "duration": 4,
    "start_time": "2022-01-11T01:13:56.542Z"
   },
   {
    "duration": 169,
    "start_time": "2022-01-11T01:13:56.549Z"
   },
   {
    "duration": 50,
    "start_time": "2022-01-11T01:13:56.721Z"
   },
   {
    "duration": 14,
    "start_time": "2022-01-11T01:13:56.774Z"
   },
   {
    "duration": 298,
    "start_time": "2022-01-11T01:13:56.790Z"
   },
   {
    "duration": 118,
    "start_time": "2022-01-11T01:13:57.091Z"
   },
   {
    "duration": 118,
    "start_time": "2022-01-11T01:13:57.213Z"
   },
   {
    "duration": 45,
    "start_time": "2022-01-11T01:13:57.334Z"
   },
   {
    "duration": 187,
    "start_time": "2022-01-11T01:13:57.381Z"
   },
   {
    "duration": 41,
    "start_time": "2022-01-11T01:13:57.570Z"
   },
   {
    "duration": 8,
    "start_time": "2022-01-11T01:13:57.614Z"
   },
   {
    "duration": 5,
    "start_time": "2022-01-11T01:13:57.624Z"
   },
   {
    "duration": 5,
    "start_time": "2022-01-11T01:13:57.660Z"
   },
   {
    "duration": 7,
    "start_time": "2022-01-11T01:13:57.668Z"
   },
   {
    "duration": 540,
    "start_time": "2022-01-11T01:13:57.678Z"
   },
   {
    "duration": 54,
    "start_time": "2022-01-11T01:13:58.220Z"
   },
   {
    "duration": 4,
    "start_time": "2022-01-11T01:13:58.276Z"
   },
   {
    "duration": 8,
    "start_time": "2022-01-11T01:13:58.284Z"
   },
   {
    "duration": 4,
    "start_time": "2022-01-11T01:13:58.295Z"
   },
   {
    "duration": 94,
    "start_time": "2022-01-11T01:13:58.301Z"
   },
   {
    "duration": 62,
    "start_time": "2022-01-11T01:13:58.397Z"
   },
   {
    "duration": 71,
    "start_time": "2022-01-11T01:13:58.461Z"
   },
   {
    "duration": 30,
    "start_time": "2022-01-11T01:13:58.534Z"
   },
   {
    "duration": 1477,
    "start_time": "2022-01-11T01:13:58.566Z"
   },
   {
    "duration": 14,
    "start_time": "2022-01-11T01:14:00.047Z"
   },
   {
    "duration": 8,
    "start_time": "2022-01-11T01:14:00.064Z"
   },
   {
    "duration": 111,
    "start_time": "2022-01-11T01:14:00.075Z"
   },
   {
    "duration": 82,
    "start_time": "2022-01-11T01:14:00.189Z"
   },
   {
    "duration": 558,
    "start_time": "2022-01-11T01:14:00.274Z"
   },
   {
    "duration": -4913,
    "start_time": "2022-01-11T01:14:05.748Z"
   },
   {
    "duration": -4915,
    "start_time": "2022-01-11T01:14:05.751Z"
   },
   {
    "duration": -5204,
    "start_time": "2022-01-11T01:14:06.041Z"
   },
   {
    "duration": -5230,
    "start_time": "2022-01-11T01:14:06.069Z"
   },
   {
    "duration": -5232,
    "start_time": "2022-01-11T01:14:06.072Z"
   },
   {
    "duration": -5233,
    "start_time": "2022-01-11T01:14:06.075Z"
   },
   {
    "duration": -5234,
    "start_time": "2022-01-11T01:14:06.077Z"
   },
   {
    "duration": 395,
    "start_time": "2022-01-11T01:14:21.412Z"
   },
   {
    "duration": 458,
    "start_time": "2022-01-11T01:14:34.410Z"
   },
   {
    "duration": 960,
    "start_time": "2022-01-11T01:25:24.962Z"
   },
   {
    "duration": 183,
    "start_time": "2022-01-11T01:25:36.459Z"
   },
   {
    "duration": 531,
    "start_time": "2022-01-11T01:26:33.089Z"
   },
   {
    "duration": 369,
    "start_time": "2022-01-11T01:26:44.815Z"
   },
   {
    "duration": 380,
    "start_time": "2022-01-11T01:27:43.987Z"
   },
   {
    "duration": 1166,
    "start_time": "2022-01-11T01:27:52.741Z"
   },
   {
    "duration": 166,
    "start_time": "2022-01-11T01:27:53.910Z"
   },
   {
    "duration": 32,
    "start_time": "2022-01-11T01:27:54.078Z"
   },
   {
    "duration": 15,
    "start_time": "2022-01-11T01:27:54.112Z"
   },
   {
    "duration": 278,
    "start_time": "2022-01-11T01:27:54.129Z"
   },
   {
    "duration": 99,
    "start_time": "2022-01-11T01:27:54.410Z"
   },
   {
    "duration": 105,
    "start_time": "2022-01-11T01:27:54.512Z"
   },
   {
    "duration": 47,
    "start_time": "2022-01-11T01:27:54.621Z"
   },
   {
    "duration": 194,
    "start_time": "2022-01-11T01:27:54.671Z"
   },
   {
    "duration": 46,
    "start_time": "2022-01-11T01:27:54.868Z"
   },
   {
    "duration": 10,
    "start_time": "2022-01-11T01:27:54.917Z"
   },
   {
    "duration": 7,
    "start_time": "2022-01-11T01:27:54.960Z"
   },
   {
    "duration": 7,
    "start_time": "2022-01-11T01:27:54.970Z"
   },
   {
    "duration": 6,
    "start_time": "2022-01-11T01:27:54.981Z"
   },
   {
    "duration": 555,
    "start_time": "2022-01-11T01:27:54.989Z"
   },
   {
    "duration": 49,
    "start_time": "2022-01-11T01:27:55.546Z"
   },
   {
    "duration": 4,
    "start_time": "2022-01-11T01:27:55.598Z"
   },
   {
    "duration": 9,
    "start_time": "2022-01-11T01:27:55.604Z"
   },
   {
    "duration": 5,
    "start_time": "2022-01-11T01:27:55.615Z"
   },
   {
    "duration": 84,
    "start_time": "2022-01-11T01:27:55.623Z"
   },
   {
    "duration": 62,
    "start_time": "2022-01-11T01:27:55.709Z"
   },
   {
    "duration": 69,
    "start_time": "2022-01-11T01:27:55.774Z"
   },
   {
    "duration": 11,
    "start_time": "2022-01-11T01:27:55.861Z"
   },
   {
    "duration": 732,
    "start_time": "2022-01-11T01:27:55.875Z"
   },
   {
    "duration": 4,
    "start_time": "2022-01-11T01:27:56.610Z"
   },
   {
    "duration": 5,
    "start_time": "2022-01-11T01:27:56.617Z"
   },
   {
    "duration": 74,
    "start_time": "2022-01-11T01:27:56.624Z"
   },
   {
    "duration": 77,
    "start_time": "2022-01-11T01:27:56.701Z"
   },
   {
    "duration": 218,
    "start_time": "2022-01-11T01:27:56.781Z"
   },
   {
    "duration": 102,
    "start_time": "2022-01-11T01:27:57.002Z"
   },
   {
    "duration": 100,
    "start_time": "2022-01-11T01:27:57.106Z"
   },
   {
    "duration": 10,
    "start_time": "2022-01-11T01:27:57.209Z"
   },
   {
    "duration": 40,
    "start_time": "2022-01-11T01:27:57.222Z"
   },
   {
    "duration": 120,
    "start_time": "2022-01-11T01:27:57.266Z"
   },
   {
    "duration": -3411,
    "start_time": "2022-01-11T01:28:00.800Z"
   },
   {
    "duration": 404,
    "start_time": "2022-01-11T01:28:24.320Z"
   },
   {
    "duration": 402,
    "start_time": "2022-01-11T01:31:32.302Z"
   },
   {
    "duration": 8718,
    "start_time": "2022-01-11T01:33:44.207Z"
   },
   {
    "duration": 396,
    "start_time": "2022-01-11T01:34:03.836Z"
   },
   {
    "duration": 397,
    "start_time": "2022-01-11T01:34:19.683Z"
   },
   {
    "duration": 441,
    "start_time": "2022-01-11T01:34:26.862Z"
   },
   {
    "duration": 9569,
    "start_time": "2022-01-11T01:34:43.870Z"
   },
   {
    "duration": 448,
    "start_time": "2022-01-11T01:36:01.166Z"
   },
   {
    "duration": 399,
    "start_time": "2022-01-11T01:36:23.114Z"
   },
   {
    "duration": 388,
    "start_time": "2022-01-11T01:36:29.396Z"
   },
   {
    "duration": 530,
    "start_time": "2022-01-11T01:37:00.152Z"
   },
   {
    "duration": 9200,
    "start_time": "2022-01-11T01:37:05.581Z"
   },
   {
    "duration": 9933,
    "start_time": "2022-01-11T01:38:31.994Z"
   },
   {
    "duration": 6,
    "start_time": "2022-01-11T01:38:50.708Z"
   },
   {
    "duration": 414,
    "start_time": "2022-01-11T01:39:00.523Z"
   },
   {
    "duration": 368,
    "start_time": "2022-01-11T01:39:02.146Z"
   },
   {
    "duration": 411,
    "start_time": "2022-01-11T01:39:14.681Z"
   },
   {
    "duration": 6,
    "start_time": "2022-01-11T01:39:24.365Z"
   },
   {
    "duration": 6,
    "start_time": "2022-01-11T01:39:53.428Z"
   },
   {
    "duration": 11,
    "start_time": "2022-01-11T01:39:55.057Z"
   },
   {
    "duration": 5,
    "start_time": "2022-01-11T01:40:38.777Z"
   },
   {
    "duration": 11,
    "start_time": "2022-01-11T01:40:39.868Z"
   },
   {
    "duration": 10,
    "start_time": "2022-01-11T01:43:40.986Z"
   },
   {
    "duration": 148,
    "start_time": "2022-01-11T01:47:29.759Z"
   },
   {
    "duration": 374,
    "start_time": "2022-01-11T01:47:44.249Z"
   },
   {
    "duration": 18,
    "start_time": "2022-01-11T01:47:53.251Z"
   },
   {
    "duration": 12,
    "start_time": "2022-01-11T01:48:27.532Z"
   },
   {
    "duration": 7,
    "start_time": "2022-01-11T01:50:04.033Z"
   },
   {
    "duration": 1016,
    "start_time": "2022-01-11T01:51:29.136Z"
   },
   {
    "duration": 8,
    "start_time": "2022-01-11T01:51:51.621Z"
   },
   {
    "duration": 7,
    "start_time": "2022-01-11T01:52:08.348Z"
   },
   {
    "duration": 6,
    "start_time": "2022-01-11T02:06:49.863Z"
   },
   {
    "duration": 11,
    "start_time": "2022-01-11T02:13:43.753Z"
   },
   {
    "duration": 370,
    "start_time": "2022-01-11T02:14:22.169Z"
   },
   {
    "duration": 11,
    "start_time": "2022-01-11T02:14:48.855Z"
   },
   {
    "duration": 10,
    "start_time": "2022-01-11T02:16:05.847Z"
   },
   {
    "duration": 6,
    "start_time": "2022-01-11T02:17:03.479Z"
   },
   {
    "duration": 12,
    "start_time": "2022-01-11T02:18:05.605Z"
   },
   {
    "duration": 11,
    "start_time": "2022-01-11T02:18:10.921Z"
   },
   {
    "duration": 12,
    "start_time": "2022-01-11T02:18:14.704Z"
   },
   {
    "duration": 11,
    "start_time": "2022-01-11T02:22:57.872Z"
   },
   {
    "duration": 11,
    "start_time": "2022-01-11T02:23:01.602Z"
   },
   {
    "duration": 11,
    "start_time": "2022-01-11T02:23:09.324Z"
   },
   {
    "duration": 17,
    "start_time": "2022-01-11T02:26:57.523Z"
   },
   {
    "duration": 10,
    "start_time": "2022-01-11T02:27:16.219Z"
   },
   {
    "duration": 13,
    "start_time": "2022-01-11T02:27:26.108Z"
   },
   {
    "duration": 11,
    "start_time": "2022-01-11T02:27:51.917Z"
   },
   {
    "duration": 11,
    "start_time": "2022-01-11T02:28:55.389Z"
   },
   {
    "duration": 154,
    "start_time": "2022-01-11T02:36:10.039Z"
   },
   {
    "duration": 10,
    "start_time": "2022-01-11T02:37:40.055Z"
   },
   {
    "duration": 13,
    "start_time": "2022-01-11T02:39:01.004Z"
   },
   {
    "duration": 13,
    "start_time": "2022-01-11T02:39:28.056Z"
   },
   {
    "duration": 126,
    "start_time": "2022-01-11T02:40:58.451Z"
   },
   {
    "duration": 11,
    "start_time": "2022-01-11T02:41:13.107Z"
   },
   {
    "duration": 11,
    "start_time": "2022-01-11T02:41:52.523Z"
   },
   {
    "duration": 12,
    "start_time": "2022-01-11T02:43:24.602Z"
   },
   {
    "duration": 11,
    "start_time": "2022-01-11T02:43:34.833Z"
   },
   {
    "duration": 11,
    "start_time": "2022-01-11T02:43:50.799Z"
   },
   {
    "duration": 12,
    "start_time": "2022-01-11T02:43:55.491Z"
   },
   {
    "duration": 6,
    "start_time": "2022-01-11T02:45:39.476Z"
   },
   {
    "duration": 1114,
    "start_time": "2022-01-11T02:45:39.484Z"
   },
   {
    "duration": 31,
    "start_time": "2022-01-11T02:45:40.600Z"
   },
   {
    "duration": 32,
    "start_time": "2022-01-11T02:45:40.634Z"
   },
   {
    "duration": 279,
    "start_time": "2022-01-11T02:45:40.669Z"
   },
   {
    "duration": 95,
    "start_time": "2022-01-11T02:45:40.950Z"
   },
   {
    "duration": 129,
    "start_time": "2022-01-11T02:45:41.062Z"
   },
   {
    "duration": 36,
    "start_time": "2022-01-11T02:45:41.195Z"
   },
   {
    "duration": 233,
    "start_time": "2022-01-11T02:45:41.234Z"
   },
   {
    "duration": 55,
    "start_time": "2022-01-11T02:45:41.470Z"
   },
   {
    "duration": 33,
    "start_time": "2022-01-11T02:45:41.527Z"
   },
   {
    "duration": 5,
    "start_time": "2022-01-11T02:45:41.563Z"
   },
   {
    "duration": 6,
    "start_time": "2022-01-11T02:45:41.570Z"
   },
   {
    "duration": 5,
    "start_time": "2022-01-11T02:45:41.578Z"
   },
   {
    "duration": 554,
    "start_time": "2022-01-11T02:45:41.587Z"
   },
   {
    "duration": 52,
    "start_time": "2022-01-11T02:45:42.145Z"
   },
   {
    "duration": 5,
    "start_time": "2022-01-11T02:45:42.199Z"
   },
   {
    "duration": 11,
    "start_time": "2022-01-11T02:45:42.206Z"
   },
   {
    "duration": 41,
    "start_time": "2022-01-11T02:45:42.222Z"
   },
   {
    "duration": 53,
    "start_time": "2022-01-11T02:45:42.266Z"
   },
   {
    "duration": 59,
    "start_time": "2022-01-11T02:45:42.321Z"
   },
   {
    "duration": 123,
    "start_time": "2022-01-11T02:45:42.384Z"
   },
   {
    "duration": 15,
    "start_time": "2022-01-11T02:45:42.511Z"
   },
   {
    "duration": 204,
    "start_time": "2022-01-11T02:45:42.530Z"
   },
   {
    "duration": 5,
    "start_time": "2022-01-11T02:45:42.736Z"
   },
   {
    "duration": 19,
    "start_time": "2022-01-11T02:45:42.743Z"
   },
   {
    "duration": 47,
    "start_time": "2022-01-11T02:45:42.765Z"
   },
   {
    "duration": 46,
    "start_time": "2022-01-11T02:45:42.815Z"
   },
   {
    "duration": 415,
    "start_time": "2022-01-11T02:45:42.863Z"
   },
   {
    "duration": 6,
    "start_time": "2022-01-11T02:45:43.280Z"
   },
   {
    "duration": 9,
    "start_time": "2022-01-11T02:45:43.288Z"
   },
   {
    "duration": 11,
    "start_time": "2022-01-11T02:45:43.299Z"
   },
   {
    "duration": 49,
    "start_time": "2022-01-11T02:45:43.312Z"
   },
   {
    "duration": 13,
    "start_time": "2022-01-11T02:45:43.364Z"
   },
   {
    "duration": 11,
    "start_time": "2022-01-11T02:45:43.379Z"
   },
   {
    "duration": 12,
    "start_time": "2022-01-11T02:45:43.392Z"
   },
   {
    "duration": 11,
    "start_time": "2022-01-11T02:45:43.407Z"
   },
   {
    "duration": 11,
    "start_time": "2022-01-11T02:45:43.460Z"
   },
   {
    "duration": 13,
    "start_time": "2022-01-11T02:45:43.473Z"
   },
   {
    "duration": 12,
    "start_time": "2022-01-11T02:45:43.488Z"
   },
   {
    "duration": 11,
    "start_time": "2022-01-11T02:45:43.503Z"
   },
   {
    "duration": 12,
    "start_time": "2022-01-11T02:45:43.559Z"
   },
   {
    "duration": 11,
    "start_time": "2022-01-11T02:45:43.573Z"
   },
   {
    "duration": 12,
    "start_time": "2022-01-11T02:45:43.586Z"
   },
   {
    "duration": 10,
    "start_time": "2022-01-11T02:45:43.600Z"
   },
   {
    "duration": 539,
    "start_time": "2022-01-11T19:30:12.598Z"
   },
   {
    "duration": 2951,
    "start_time": "2022-01-11T19:30:15.572Z"
   },
   {
    "duration": 812,
    "start_time": "2022-01-11T19:30:18.526Z"
   },
   {
    "duration": 37,
    "start_time": "2022-01-11T19:30:19.341Z"
   },
   {
    "duration": 22,
    "start_time": "2022-01-11T19:30:19.381Z"
   },
   {
    "duration": 303,
    "start_time": "2022-01-11T19:30:19.406Z"
   },
   {
    "duration": 102,
    "start_time": "2022-01-11T19:30:19.711Z"
   },
   {
    "duration": 108,
    "start_time": "2022-01-11T19:30:19.815Z"
   },
   {
    "duration": 47,
    "start_time": "2022-01-11T19:30:19.925Z"
   },
   {
    "duration": 190,
    "start_time": "2022-01-11T19:30:19.978Z"
   },
   {
    "duration": 48,
    "start_time": "2022-01-11T19:30:20.172Z"
   },
   {
    "duration": 43,
    "start_time": "2022-01-11T19:30:20.223Z"
   },
   {
    "duration": 6,
    "start_time": "2022-01-11T19:30:20.269Z"
   },
   {
    "duration": 7,
    "start_time": "2022-01-11T19:30:20.278Z"
   },
   {
    "duration": 6,
    "start_time": "2022-01-11T19:30:20.288Z"
   },
   {
    "duration": 670,
    "start_time": "2022-01-11T19:30:20.296Z"
   },
   {
    "duration": 39,
    "start_time": "2022-01-11T19:30:20.969Z"
   },
   {
    "duration": 6,
    "start_time": "2022-01-11T19:30:21.011Z"
   },
   {
    "duration": 44,
    "start_time": "2022-01-11T19:30:21.020Z"
   },
   {
    "duration": 5,
    "start_time": "2022-01-11T19:30:21.067Z"
   },
   {
    "duration": 58,
    "start_time": "2022-01-11T19:30:21.075Z"
   },
   {
    "duration": 67,
    "start_time": "2022-01-11T19:30:21.136Z"
   },
   {
    "duration": 99,
    "start_time": "2022-01-11T19:30:21.206Z"
   },
   {
    "duration": 12,
    "start_time": "2022-01-11T19:30:21.308Z"
   },
   {
    "duration": 796,
    "start_time": "2022-01-11T19:30:21.323Z"
   },
   {
    "duration": 4,
    "start_time": "2022-01-11T19:30:22.122Z"
   },
   {
    "duration": 8,
    "start_time": "2022-01-11T19:30:22.129Z"
   },
   {
    "duration": 96,
    "start_time": "2022-01-11T19:30:22.167Z"
   },
   {
    "duration": 509,
    "start_time": "2022-01-11T19:30:22.266Z"
   },
   {
    "duration": 20,
    "start_time": "2022-01-11T19:30:22.777Z"
   },
   {
    "duration": 5,
    "start_time": "2022-01-11T19:30:22.799Z"
   },
   {
    "duration": 5,
    "start_time": "2022-01-11T19:30:22.806Z"
   },
   {
    "duration": 664,
    "start_time": "2022-01-11T19:30:22.814Z"
   },
   {
    "duration": -15076,
    "start_time": "2022-01-11T19:30:38.556Z"
   },
   {
    "duration": -15078,
    "start_time": "2022-01-11T19:30:38.560Z"
   },
   {
    "duration": -15079,
    "start_time": "2022-01-11T19:30:38.563Z"
   },
   {
    "duration": -15081,
    "start_time": "2022-01-11T19:30:38.566Z"
   },
   {
    "duration": -15083,
    "start_time": "2022-01-11T19:30:38.570Z"
   },
   {
    "duration": -15083,
    "start_time": "2022-01-11T19:30:38.572Z"
   },
   {
    "duration": -15086,
    "start_time": "2022-01-11T19:30:38.576Z"
   },
   {
    "duration": -15087,
    "start_time": "2022-01-11T19:30:38.579Z"
   },
   {
    "duration": -15090,
    "start_time": "2022-01-11T19:30:38.583Z"
   },
   {
    "duration": -15091,
    "start_time": "2022-01-11T19:30:38.586Z"
   },
   {
    "duration": -15094,
    "start_time": "2022-01-11T19:30:38.590Z"
   },
   {
    "duration": -15096,
    "start_time": "2022-01-11T19:30:38.593Z"
   },
   {
    "duration": 399,
    "start_time": "2022-01-11T19:32:09.172Z"
   },
   {
    "duration": 16,
    "start_time": "2022-01-11T19:32:12.632Z"
   },
   {
    "duration": 5,
    "start_time": "2022-01-11T19:34:56.294Z"
   },
   {
    "duration": 299,
    "start_time": "2022-01-11T19:35:31.435Z"
   },
   {
    "duration": 5,
    "start_time": "2022-01-11T19:35:47.724Z"
   },
   {
    "duration": 318,
    "start_time": "2022-01-11T19:37:39.026Z"
   },
   {
    "duration": 300,
    "start_time": "2022-01-11T19:37:54.005Z"
   },
   {
    "duration": 10,
    "start_time": "2022-01-11T19:38:16.517Z"
   },
   {
    "duration": 12,
    "start_time": "2022-01-11T19:55:45.208Z"
   },
   {
    "duration": 11,
    "start_time": "2022-01-11T20:01:01.115Z"
   },
   {
    "duration": 11,
    "start_time": "2022-01-11T20:01:21.989Z"
   },
   {
    "duration": 154,
    "start_time": "2022-01-11T20:30:48.168Z"
   },
   {
    "duration": 96,
    "start_time": "2022-01-11T20:31:07.452Z"
   },
   {
    "duration": 7,
    "start_time": "2022-01-11T20:31:21.812Z"
   },
   {
    "duration": 8,
    "start_time": "2022-01-11T20:40:42.127Z"
   },
   {
    "duration": 109,
    "start_time": "2022-01-11T20:50:10.643Z"
   },
   {
    "duration": 114,
    "start_time": "2022-01-11T20:50:33.668Z"
   },
   {
    "duration": 9,
    "start_time": "2022-01-11T20:50:48.277Z"
   },
   {
    "duration": 7,
    "start_time": "2022-01-11T20:50:49.922Z"
   },
   {
    "duration": 11,
    "start_time": "2022-01-11T20:54:33.334Z"
   },
   {
    "duration": 376,
    "start_time": "2022-01-11T21:02:53.452Z"
   },
   {
    "duration": 15,
    "start_time": "2022-01-11T21:03:00.005Z"
   },
   {
    "duration": 12,
    "start_time": "2022-01-11T21:03:01.348Z"
   },
   {
    "duration": 11,
    "start_time": "2022-01-11T21:03:28.998Z"
   },
   {
    "duration": 149,
    "start_time": "2022-01-11T21:05:22.670Z"
   },
   {
    "duration": 7,
    "start_time": "2022-01-11T21:05:28.930Z"
   },
   {
    "duration": 5,
    "start_time": "2022-01-11T22:25:11.590Z"
   },
   {
    "duration": 189,
    "start_time": "2022-01-11T22:25:11.600Z"
   },
   {
    "duration": 31,
    "start_time": "2022-01-11T22:25:11.792Z"
   },
   {
    "duration": 48,
    "start_time": "2022-01-11T22:25:11.826Z"
   },
   {
    "duration": 297,
    "start_time": "2022-01-11T22:25:11.877Z"
   },
   {
    "duration": 109,
    "start_time": "2022-01-11T22:25:12.176Z"
   },
   {
    "duration": 114,
    "start_time": "2022-01-11T22:25:12.287Z"
   },
   {
    "duration": 29,
    "start_time": "2022-01-11T22:25:12.403Z"
   },
   {
    "duration": 203,
    "start_time": "2022-01-11T22:25:12.462Z"
   },
   {
    "duration": 47,
    "start_time": "2022-01-11T22:25:12.668Z"
   },
   {
    "duration": 9,
    "start_time": "2022-01-11T22:25:12.717Z"
   },
   {
    "duration": 36,
    "start_time": "2022-01-11T22:25:12.728Z"
   },
   {
    "duration": 8,
    "start_time": "2022-01-11T22:25:12.771Z"
   },
   {
    "duration": 6,
    "start_time": "2022-01-11T22:25:12.783Z"
   },
   {
    "duration": 550,
    "start_time": "2022-01-11T22:25:12.791Z"
   },
   {
    "duration": 52,
    "start_time": "2022-01-11T22:25:13.344Z"
   },
   {
    "duration": 4,
    "start_time": "2022-01-11T22:25:13.398Z"
   },
   {
    "duration": 11,
    "start_time": "2022-01-11T22:25:13.404Z"
   },
   {
    "duration": 4,
    "start_time": "2022-01-11T22:25:13.417Z"
   },
   {
    "duration": 82,
    "start_time": "2022-01-11T22:25:13.424Z"
   },
   {
    "duration": 66,
    "start_time": "2022-01-11T22:25:13.509Z"
   },
   {
    "duration": 97,
    "start_time": "2022-01-11T22:25:13.578Z"
   },
   {
    "duration": 12,
    "start_time": "2022-01-11T22:25:13.678Z"
   },
   {
    "duration": 311,
    "start_time": "2022-01-11T22:25:13.695Z"
   },
   {
    "duration": 5,
    "start_time": "2022-01-11T22:25:14.009Z"
   },
   {
    "duration": 7,
    "start_time": "2022-01-11T22:25:14.016Z"
   },
   {
    "duration": 72,
    "start_time": "2022-01-11T22:25:14.025Z"
   },
   {
    "duration": 474,
    "start_time": "2022-01-11T22:25:14.099Z"
   },
   {
    "duration": 17,
    "start_time": "2022-01-11T22:25:14.575Z"
   },
   {
    "duration": 6,
    "start_time": "2022-01-11T22:25:14.594Z"
   },
   {
    "duration": 6,
    "start_time": "2022-01-11T22:25:14.602Z"
   },
   {
    "duration": 12,
    "start_time": "2022-01-11T22:25:14.610Z"
   },
   {
    "duration": 46,
    "start_time": "2022-01-11T22:25:14.625Z"
   },
   {
    "duration": 20,
    "start_time": "2022-01-11T22:25:14.675Z"
   },
   {
    "duration": 6,
    "start_time": "2022-01-11T22:25:14.697Z"
   },
   {
    "duration": 8,
    "start_time": "2022-01-11T22:25:14.706Z"
   },
   {
    "duration": 14,
    "start_time": "2022-01-11T22:25:14.717Z"
   },
   {
    "duration": 15,
    "start_time": "2022-01-11T22:25:14.772Z"
   },
   {
    "duration": 7,
    "start_time": "2022-01-11T22:25:14.789Z"
   },
   {
    "duration": 1511,
    "start_time": "2022-01-13T00:31:56.667Z"
   },
   {
    "duration": 892,
    "start_time": "2022-01-13T00:31:58.180Z"
   },
   {
    "duration": 29,
    "start_time": "2022-01-13T00:31:59.074Z"
   },
   {
    "duration": 11,
    "start_time": "2022-01-13T00:31:59.105Z"
   },
   {
    "duration": 187,
    "start_time": "2022-01-13T00:31:59.118Z"
   },
   {
    "duration": 68,
    "start_time": "2022-01-13T00:31:59.307Z"
   },
   {
    "duration": 88,
    "start_time": "2022-01-13T00:31:59.377Z"
   },
   {
    "duration": 36,
    "start_time": "2022-01-13T00:31:59.468Z"
   },
   {
    "duration": 131,
    "start_time": "2022-01-13T00:31:59.507Z"
   },
   {
    "duration": 35,
    "start_time": "2022-01-13T00:31:59.640Z"
   },
   {
    "duration": 24,
    "start_time": "2022-01-13T00:31:59.677Z"
   },
   {
    "duration": 4,
    "start_time": "2022-01-13T00:31:59.703Z"
   },
   {
    "duration": 5,
    "start_time": "2022-01-13T00:31:59.709Z"
   },
   {
    "duration": 6,
    "start_time": "2022-01-13T00:31:59.716Z"
   },
   {
    "duration": 389,
    "start_time": "2022-01-13T00:31:59.724Z"
   },
   {
    "duration": 32,
    "start_time": "2022-01-13T00:32:00.114Z"
   },
   {
    "duration": 4,
    "start_time": "2022-01-13T00:32:00.147Z"
   },
   {
    "duration": 17,
    "start_time": "2022-01-13T00:32:00.153Z"
   },
   {
    "duration": 7,
    "start_time": "2022-01-13T00:32:00.172Z"
   },
   {
    "duration": 43,
    "start_time": "2022-01-13T00:32:00.199Z"
   },
   {
    "duration": 33,
    "start_time": "2022-01-13T00:32:00.244Z"
   },
   {
    "duration": 59,
    "start_time": "2022-01-13T00:32:00.298Z"
   },
   {
    "duration": 9,
    "start_time": "2022-01-13T00:32:00.362Z"
   },
   {
    "duration": 579,
    "start_time": "2022-01-13T00:32:00.374Z"
   },
   {
    "duration": 4,
    "start_time": "2022-01-13T00:32:00.955Z"
   },
   {
    "duration": 13,
    "start_time": "2022-01-13T00:32:00.960Z"
   },
   {
    "duration": 52,
    "start_time": "2022-01-13T00:32:00.975Z"
   },
   {
    "duration": 467,
    "start_time": "2022-01-13T00:32:01.029Z"
   },
   {
    "duration": 12,
    "start_time": "2022-01-13T00:32:01.498Z"
   },
   {
    "duration": 438,
    "start_time": "2022-01-13T00:32:01.512Z"
   },
   {
    "duration": -40277,
    "start_time": "2022-01-13T00:32:42.229Z"
   },
   {
    "duration": -40281,
    "start_time": "2022-01-13T00:32:42.234Z"
   },
   {
    "duration": -40306,
    "start_time": "2022-01-13T00:32:42.261Z"
   },
   {
    "duration": -40307,
    "start_time": "2022-01-13T00:32:42.263Z"
   },
   {
    "duration": -40309,
    "start_time": "2022-01-13T00:32:42.266Z"
   },
   {
    "duration": -40434,
    "start_time": "2022-01-13T00:32:42.392Z"
   },
   {
    "duration": -40435,
    "start_time": "2022-01-13T00:32:42.394Z"
   },
   {
    "duration": -40436,
    "start_time": "2022-01-13T00:32:42.396Z"
   },
   {
    "duration": -40464,
    "start_time": "2022-01-13T00:32:42.425Z"
   },
   {
    "duration": 3,
    "start_time": "2022-01-13T00:41:47.969Z"
   },
   {
    "duration": 137,
    "start_time": "2022-01-13T00:41:48.049Z"
   },
   {
    "duration": 24,
    "start_time": "2022-01-13T00:41:48.187Z"
   },
   {
    "duration": 11,
    "start_time": "2022-01-13T00:41:48.213Z"
   },
   {
    "duration": 197,
    "start_time": "2022-01-13T00:41:48.226Z"
   },
   {
    "duration": 83,
    "start_time": "2022-01-13T00:41:48.425Z"
   },
   {
    "duration": 89,
    "start_time": "2022-01-13T00:41:48.510Z"
   },
   {
    "duration": 23,
    "start_time": "2022-01-13T00:41:48.602Z"
   },
   {
    "duration": 134,
    "start_time": "2022-01-13T00:41:48.627Z"
   },
   {
    "duration": 47,
    "start_time": "2022-01-13T00:41:48.764Z"
   },
   {
    "duration": 7,
    "start_time": "2022-01-13T00:41:48.813Z"
   },
   {
    "duration": 4,
    "start_time": "2022-01-13T00:41:48.824Z"
   },
   {
    "duration": 6,
    "start_time": "2022-01-13T00:41:48.831Z"
   },
   {
    "duration": 5,
    "start_time": "2022-01-13T00:41:48.839Z"
   },
   {
    "duration": 370,
    "start_time": "2022-01-13T00:41:48.845Z"
   },
   {
    "duration": 29,
    "start_time": "2022-01-13T00:41:49.217Z"
   },
   {
    "duration": 3,
    "start_time": "2022-01-13T00:41:49.248Z"
   },
   {
    "duration": 8,
    "start_time": "2022-01-13T00:41:49.253Z"
   },
   {
    "duration": 37,
    "start_time": "2022-01-13T00:41:49.263Z"
   },
   {
    "duration": 43,
    "start_time": "2022-01-13T00:41:49.301Z"
   },
   {
    "duration": 32,
    "start_time": "2022-01-13T00:41:49.346Z"
   },
   {
    "duration": 68,
    "start_time": "2022-01-13T00:41:49.380Z"
   },
   {
    "duration": 121,
    "start_time": "2022-01-13T00:41:49.450Z"
   },
   {
    "duration": 131,
    "start_time": "2022-01-13T00:41:49.572Z"
   },
   {
    "duration": 4,
    "start_time": "2022-01-13T00:41:49.704Z"
   },
   {
    "duration": 7,
    "start_time": "2022-01-13T00:41:49.710Z"
   },
   {
    "duration": 33,
    "start_time": "2022-01-13T00:41:49.721Z"
   },
   {
    "duration": 352,
    "start_time": "2022-01-13T00:41:49.756Z"
   },
   {
    "duration": 11,
    "start_time": "2022-01-13T00:41:50.110Z"
   },
   {
    "duration": 6,
    "start_time": "2022-01-13T00:41:50.122Z"
   },
   {
    "duration": 5,
    "start_time": "2022-01-13T00:41:50.130Z"
   },
   {
    "duration": 9,
    "start_time": "2022-01-13T00:41:50.137Z"
   },
   {
    "duration": 6,
    "start_time": "2022-01-13T00:41:50.148Z"
   },
   {
    "duration": 51,
    "start_time": "2022-01-13T00:41:50.156Z"
   },
   {
    "duration": 5,
    "start_time": "2022-01-13T00:41:50.209Z"
   },
   {
    "duration": 15,
    "start_time": "2022-01-13T00:41:50.216Z"
   },
   {
    "duration": 13,
    "start_time": "2022-01-13T00:41:50.233Z"
   },
   {
    "duration": 9,
    "start_time": "2022-01-13T00:41:50.248Z"
   },
   {
    "duration": 6,
    "start_time": "2022-01-13T00:41:50.259Z"
   },
   {
    "duration": 2258,
    "start_time": "2022-01-13T18:49:05.465Z"
   },
   {
    "duration": 263,
    "start_time": "2022-01-13T18:49:07.726Z"
   },
   {
    "duration": 50,
    "start_time": "2022-01-13T18:49:07.992Z"
   },
   {
    "duration": 25,
    "start_time": "2022-01-13T18:49:08.046Z"
   },
   {
    "duration": 417,
    "start_time": "2022-01-13T18:49:08.074Z"
   },
   {
    "duration": 134,
    "start_time": "2022-01-13T18:49:08.494Z"
   },
   {
    "duration": 134,
    "start_time": "2022-01-13T18:49:08.630Z"
   },
   {
    "duration": 40,
    "start_time": "2022-01-13T18:49:08.769Z"
   },
   {
    "duration": 293,
    "start_time": "2022-01-13T18:49:08.812Z"
   },
   {
    "duration": 75,
    "start_time": "2022-01-13T18:49:09.108Z"
   },
   {
    "duration": 10,
    "start_time": "2022-01-13T18:49:09.187Z"
   },
   {
    "duration": 6,
    "start_time": "2022-01-13T18:49:09.200Z"
   },
   {
    "duration": 7,
    "start_time": "2022-01-13T18:49:09.209Z"
   },
   {
    "duration": 47,
    "start_time": "2022-01-13T18:49:09.219Z"
   },
   {
    "duration": 731,
    "start_time": "2022-01-13T18:49:09.269Z"
   },
   {
    "duration": 67,
    "start_time": "2022-01-13T18:49:10.003Z"
   },
   {
    "duration": 6,
    "start_time": "2022-01-13T18:49:10.073Z"
   },
   {
    "duration": 13,
    "start_time": "2022-01-13T18:49:10.081Z"
   },
   {
    "duration": 7,
    "start_time": "2022-01-13T18:49:10.097Z"
   },
   {
    "duration": 109,
    "start_time": "2022-01-13T18:49:10.107Z"
   },
   {
    "duration": 57,
    "start_time": "2022-01-13T18:49:10.219Z"
   },
   {
    "duration": 113,
    "start_time": "2022-01-13T18:49:10.279Z"
   },
   {
    "duration": 14,
    "start_time": "2022-01-13T18:49:10.398Z"
   },
   {
    "duration": 775,
    "start_time": "2022-01-13T18:49:10.415Z"
   },
   {
    "duration": 4,
    "start_time": "2022-01-13T18:49:11.192Z"
   },
   {
    "duration": 7,
    "start_time": "2022-01-13T18:49:11.199Z"
   },
   {
    "duration": 87,
    "start_time": "2022-01-13T18:49:11.208Z"
   },
   {
    "duration": 598,
    "start_time": "2022-01-13T18:49:11.298Z"
   },
   {
    "duration": 22,
    "start_time": "2022-01-13T18:49:11.898Z"
   },
   {
    "duration": 5,
    "start_time": "2022-01-13T18:49:11.923Z"
   },
   {
    "duration": 4,
    "start_time": "2022-01-13T18:49:11.931Z"
   },
   {
    "duration": 11,
    "start_time": "2022-01-13T18:49:11.964Z"
   },
   {
    "duration": 8,
    "start_time": "2022-01-13T18:49:11.978Z"
   },
   {
    "duration": 18,
    "start_time": "2022-01-13T18:49:11.988Z"
   },
   {
    "duration": 7,
    "start_time": "2022-01-13T18:49:12.008Z"
   },
   {
    "duration": 10,
    "start_time": "2022-01-13T18:49:12.063Z"
   },
   {
    "duration": 18,
    "start_time": "2022-01-13T18:49:12.076Z"
   },
   {
    "duration": 11,
    "start_time": "2022-01-13T18:49:12.096Z"
   },
   {
    "duration": 8,
    "start_time": "2022-01-13T18:49:12.110Z"
   },
   {
    "duration": 22,
    "start_time": "2022-01-13T18:54:13.666Z"
   },
   {
    "duration": 569,
    "start_time": "2022-01-13T18:54:25.748Z"
   },
   {
    "duration": 10,
    "start_time": "2022-01-13T18:54:43.356Z"
   },
   {
    "duration": 9,
    "start_time": "2022-01-13T18:56:10.362Z"
   },
   {
    "duration": 12,
    "start_time": "2022-01-13T18:56:14.440Z"
   },
   {
    "duration": 96,
    "start_time": "2022-01-13T19:03:33.612Z"
   },
   {
    "duration": 852,
    "start_time": "2022-01-13T19:22:40.946Z"
   },
   {
    "duration": 15,
    "start_time": "2022-01-13T19:22:45.647Z"
   },
   {
    "duration": 11,
    "start_time": "2022-01-13T19:32:30.815Z"
   },
   {
    "duration": 493,
    "start_time": "2022-01-14T02:33:45.409Z"
   },
   {
    "duration": 1386,
    "start_time": "2022-01-14T02:33:49.900Z"
   },
   {
    "duration": 118,
    "start_time": "2022-01-14T02:33:52.099Z"
   },
   {
    "duration": 26,
    "start_time": "2022-01-14T02:33:54.776Z"
   },
   {
    "duration": 3,
    "start_time": "2022-01-14T02:46:23.539Z"
   },
   {
    "duration": 116,
    "start_time": "2022-01-14T02:46:23.574Z"
   },
   {
    "duration": 22,
    "start_time": "2022-01-14T02:46:23.692Z"
   },
   {
    "duration": 9,
    "start_time": "2022-01-14T02:46:23.716Z"
   },
   {
    "duration": 171,
    "start_time": "2022-01-14T02:46:23.727Z"
   },
   {
    "duration": 69,
    "start_time": "2022-01-14T02:46:23.899Z"
   },
   {
    "duration": 75,
    "start_time": "2022-01-14T02:46:23.969Z"
   },
   {
    "duration": 6,
    "start_time": "2022-01-14T02:46:24.046Z"
   },
   {
    "duration": 19,
    "start_time": "2022-01-14T02:46:24.054Z"
   },
   {
    "duration": 85,
    "start_time": "2022-01-14T02:48:02.753Z"
   },
   {
    "duration": 88,
    "start_time": "2022-01-14T02:48:18.694Z"
   },
   {
    "duration": 303,
    "start_time": "2022-01-14T02:48:48.097Z"
   },
   {
    "duration": 3,
    "start_time": "2022-01-14T02:48:57.253Z"
   },
   {
    "duration": 127,
    "start_time": "2022-01-14T02:48:57.259Z"
   },
   {
    "duration": 20,
    "start_time": "2022-01-14T02:48:57.388Z"
   },
   {
    "duration": 8,
    "start_time": "2022-01-14T02:48:57.410Z"
   },
   {
    "duration": 163,
    "start_time": "2022-01-14T02:48:57.420Z"
   },
   {
    "duration": 66,
    "start_time": "2022-01-14T02:48:57.585Z"
   },
   {
    "duration": 62,
    "start_time": "2022-01-14T02:48:57.652Z"
   },
   {
    "duration": 5,
    "start_time": "2022-01-14T02:48:57.716Z"
   },
   {
    "duration": 36,
    "start_time": "2022-01-14T02:48:57.722Z"
   },
   {
    "duration": 120,
    "start_time": "2022-01-14T02:48:57.760Z"
   },
   {
    "duration": 232,
    "start_time": "2022-01-14T02:48:57.881Z"
   },
   {
    "duration": -431,
    "start_time": "2022-01-14T02:48:58.546Z"
   },
   {
    "duration": 79,
    "start_time": "2022-01-14T02:49:10.570Z"
   },
   {
    "duration": 3,
    "start_time": "2022-01-14T02:49:22.496Z"
   },
   {
    "duration": 115,
    "start_time": "2022-01-14T02:49:22.501Z"
   },
   {
    "duration": 25,
    "start_time": "2022-01-14T02:49:22.617Z"
   },
   {
    "duration": 9,
    "start_time": "2022-01-14T02:49:22.644Z"
   },
   {
    "duration": 161,
    "start_time": "2022-01-14T02:49:22.655Z"
   },
   {
    "duration": 60,
    "start_time": "2022-01-14T02:49:22.817Z"
   },
   {
    "duration": 84,
    "start_time": "2022-01-14T02:49:22.878Z"
   },
   {
    "duration": 4,
    "start_time": "2022-01-14T02:49:22.964Z"
   },
   {
    "duration": 26,
    "start_time": "2022-01-14T02:49:22.970Z"
   },
   {
    "duration": 114,
    "start_time": "2022-01-14T02:49:22.997Z"
   },
   {
    "duration": 88,
    "start_time": "2022-01-14T02:49:23.113Z"
   },
   {
    "duration": 264,
    "start_time": "2022-01-14T02:49:47.408Z"
   },
   {
    "duration": 265,
    "start_time": "2022-01-14T02:50:04.601Z"
   },
   {
    "duration": 34,
    "start_time": "2022-01-14T02:50:31.225Z"
   },
   {
    "duration": 31,
    "start_time": "2022-01-14T02:50:41.290Z"
   },
   {
    "duration": 264,
    "start_time": "2022-01-14T02:52:58.909Z"
   },
   {
    "duration": 259,
    "start_time": "2022-01-14T02:53:24.231Z"
   },
   {
    "duration": 3,
    "start_time": "2022-01-14T02:54:54.736Z"
   },
   {
    "duration": 123,
    "start_time": "2022-01-14T02:54:54.741Z"
   },
   {
    "duration": 21,
    "start_time": "2022-01-14T02:54:54.866Z"
   },
   {
    "duration": 8,
    "start_time": "2022-01-14T02:54:54.889Z"
   },
   {
    "duration": 163,
    "start_time": "2022-01-14T02:54:54.899Z"
   },
   {
    "duration": 60,
    "start_time": "2022-01-14T02:54:55.064Z"
   },
   {
    "duration": 76,
    "start_time": "2022-01-14T02:54:55.126Z"
   },
   {
    "duration": 5,
    "start_time": "2022-01-14T02:54:55.204Z"
   },
   {
    "duration": 35,
    "start_time": "2022-01-14T02:54:55.211Z"
   },
   {
    "duration": 111,
    "start_time": "2022-01-14T02:54:55.248Z"
   },
   {
    "duration": 34,
    "start_time": "2022-01-14T02:54:55.361Z"
   },
   {
    "duration": 7,
    "start_time": "2022-01-14T02:54:55.397Z"
   },
   {
    "duration": 288,
    "start_time": "2022-01-14T02:54:55.405Z"
   },
   {
    "duration": 389,
    "start_time": "2022-01-14T02:55:05.787Z"
   },
   {
    "duration": 1748,
    "start_time": "2022-01-14T02:55:42.819Z"
   },
   {
    "duration": 3,
    "start_time": "2022-01-14T03:02:25.890Z"
   },
   {
    "duration": 134,
    "start_time": "2022-01-14T03:02:25.895Z"
   },
   {
    "duration": 22,
    "start_time": "2022-01-14T03:02:26.031Z"
   },
   {
    "duration": 10,
    "start_time": "2022-01-14T03:02:26.055Z"
   },
   {
    "duration": 192,
    "start_time": "2022-01-14T03:02:26.067Z"
   },
   {
    "duration": 81,
    "start_time": "2022-01-14T03:02:26.261Z"
   },
   {
    "duration": 76,
    "start_time": "2022-01-14T03:02:26.344Z"
   },
   {
    "duration": 4,
    "start_time": "2022-01-14T03:02:26.422Z"
   },
   {
    "duration": 35,
    "start_time": "2022-01-14T03:02:26.428Z"
   },
   {
    "duration": 133,
    "start_time": "2022-01-14T03:02:26.465Z"
   },
   {
    "duration": 54,
    "start_time": "2022-01-14T03:02:26.600Z"
   },
   {
    "duration": 6,
    "start_time": "2022-01-14T03:02:26.655Z"
   },
   {
    "duration": 10,
    "start_time": "2022-01-14T03:02:26.663Z"
   },
   {
    "duration": 8,
    "start_time": "2022-01-14T03:02:26.674Z"
   },
   {
    "duration": 5,
    "start_time": "2022-01-14T03:02:26.684Z"
   },
   {
    "duration": 315,
    "start_time": "2022-01-14T03:02:26.690Z"
   },
   {
    "duration": 37,
    "start_time": "2022-01-14T03:02:27.007Z"
   },
   {
    "duration": 3,
    "start_time": "2022-01-14T03:02:27.047Z"
   },
   {
    "duration": 9,
    "start_time": "2022-01-14T03:02:27.054Z"
   },
   {
    "duration": 4,
    "start_time": "2022-01-14T03:02:27.065Z"
   },
   {
    "duration": 43,
    "start_time": "2022-01-14T03:02:27.070Z"
   },
   {
    "duration": 34,
    "start_time": "2022-01-14T03:02:27.142Z"
   },
   {
    "duration": 80,
    "start_time": "2022-01-14T03:02:27.177Z"
   },
   {
    "duration": 11,
    "start_time": "2022-01-14T03:09:46.643Z"
   },
   {
    "duration": 4,
    "start_time": "2022-01-14T03:17:11.309Z"
   },
   {
    "duration": 120,
    "start_time": "2022-01-14T03:17:11.316Z"
   },
   {
    "duration": 23,
    "start_time": "2022-01-14T03:17:11.515Z"
   },
   {
    "duration": 10,
    "start_time": "2022-01-14T03:17:11.539Z"
   },
   {
    "duration": 167,
    "start_time": "2022-01-14T03:17:11.551Z"
   },
   {
    "duration": 65,
    "start_time": "2022-01-14T03:17:11.720Z"
   },
   {
    "duration": 85,
    "start_time": "2022-01-14T03:17:11.786Z"
   },
   {
    "duration": 5,
    "start_time": "2022-01-14T03:17:11.872Z"
   },
   {
    "duration": 25,
    "start_time": "2022-01-14T03:17:11.878Z"
   },
   {
    "duration": 120,
    "start_time": "2022-01-14T03:17:11.905Z"
   },
   {
    "duration": 43,
    "start_time": "2022-01-14T03:17:12.027Z"
   },
   {
    "duration": 5,
    "start_time": "2022-01-14T03:17:12.072Z"
   },
   {
    "duration": 8,
    "start_time": "2022-01-14T03:17:12.078Z"
   },
   {
    "duration": 7,
    "start_time": "2022-01-14T03:17:12.088Z"
   },
   {
    "duration": 7,
    "start_time": "2022-01-14T03:17:12.096Z"
   },
   {
    "duration": 320,
    "start_time": "2022-01-14T03:17:12.106Z"
   },
   {
    "duration": 30,
    "start_time": "2022-01-14T03:17:12.429Z"
   },
   {
    "duration": 3,
    "start_time": "2022-01-14T03:17:12.460Z"
   },
   {
    "duration": 11,
    "start_time": "2022-01-14T03:17:12.465Z"
   },
   {
    "duration": 4,
    "start_time": "2022-01-14T03:17:12.478Z"
   },
   {
    "duration": 57,
    "start_time": "2022-01-14T03:17:12.484Z"
   },
   {
    "duration": 31,
    "start_time": "2022-01-14T03:17:12.543Z"
   },
   {
    "duration": 66,
    "start_time": "2022-01-14T03:17:12.576Z"
   },
   {
    "duration": 9,
    "start_time": "2022-01-14T03:17:12.644Z"
   },
   {
    "duration": 12,
    "start_time": "2022-01-14T03:17:12.655Z"
   },
   {
    "duration": 788,
    "start_time": "2022-01-14T03:17:12.669Z"
   },
   {
    "duration": 4,
    "start_time": "2022-01-14T03:19:28.211Z"
   },
   {
    "duration": 129,
    "start_time": "2022-01-14T03:19:28.217Z"
   },
   {
    "duration": 20,
    "start_time": "2022-01-14T03:19:28.348Z"
   },
   {
    "duration": 10,
    "start_time": "2022-01-14T03:19:28.370Z"
   },
   {
    "duration": 170,
    "start_time": "2022-01-14T03:19:28.381Z"
   },
   {
    "duration": 60,
    "start_time": "2022-01-14T03:19:28.553Z"
   },
   {
    "duration": 83,
    "start_time": "2022-01-14T03:19:28.615Z"
   },
   {
    "duration": 5,
    "start_time": "2022-01-14T03:19:28.700Z"
   },
   {
    "duration": 34,
    "start_time": "2022-01-14T03:19:28.707Z"
   },
   {
    "duration": 115,
    "start_time": "2022-01-14T03:19:28.743Z"
   },
   {
    "duration": 33,
    "start_time": "2022-01-14T03:19:28.860Z"
   },
   {
    "duration": 5,
    "start_time": "2022-01-14T03:19:28.895Z"
   },
   {
    "duration": 10,
    "start_time": "2022-01-14T03:19:28.902Z"
   },
   {
    "duration": 5,
    "start_time": "2022-01-14T03:19:28.914Z"
   },
   {
    "duration": 21,
    "start_time": "2022-01-14T03:19:28.921Z"
   },
   {
    "duration": 298,
    "start_time": "2022-01-14T03:19:28.943Z"
   },
   {
    "duration": 25,
    "start_time": "2022-01-14T03:19:29.243Z"
   },
   {
    "duration": 3,
    "start_time": "2022-01-14T03:19:29.269Z"
   },
   {
    "duration": 9,
    "start_time": "2022-01-14T03:19:29.274Z"
   },
   {
    "duration": 3,
    "start_time": "2022-01-14T03:19:29.285Z"
   },
   {
    "duration": 64,
    "start_time": "2022-01-14T03:19:29.290Z"
   },
   {
    "duration": 34,
    "start_time": "2022-01-14T03:19:29.356Z"
   },
   {
    "duration": 67,
    "start_time": "2022-01-14T03:19:29.393Z"
   },
   {
    "duration": 9,
    "start_time": "2022-01-14T03:19:29.462Z"
   },
   {
    "duration": 7,
    "start_time": "2022-01-14T03:19:29.473Z"
   },
   {
    "duration": 131,
    "start_time": "2022-01-14T03:19:29.481Z"
   },
   {
    "duration": 4,
    "start_time": "2022-01-14T03:19:29.613Z"
   },
   {
    "duration": 6,
    "start_time": "2022-01-14T03:19:29.618Z"
   },
   {
    "duration": 38,
    "start_time": "2022-01-14T03:19:29.625Z"
   },
   {
    "duration": 464,
    "start_time": "2022-01-14T03:19:29.665Z"
   },
   {
    "duration": 33,
    "start_time": "2022-01-14T03:20:32.557Z"
   },
   {
    "duration": 14,
    "start_time": "2022-01-14T03:20:52.523Z"
   },
   {
    "duration": 4,
    "start_time": "2022-01-14T03:22:42.504Z"
   },
   {
    "duration": 120,
    "start_time": "2022-01-14T03:22:42.511Z"
   },
   {
    "duration": 21,
    "start_time": "2022-01-14T03:22:42.642Z"
   },
   {
    "duration": 10,
    "start_time": "2022-01-14T03:22:42.665Z"
   },
   {
    "duration": 187,
    "start_time": "2022-01-14T03:22:42.677Z"
   },
   {
    "duration": 75,
    "start_time": "2022-01-14T03:22:42.866Z"
   },
   {
    "duration": 76,
    "start_time": "2022-01-14T03:22:42.943Z"
   },
   {
    "duration": 34,
    "start_time": "2022-01-14T03:22:43.021Z"
   },
   {
    "duration": 117,
    "start_time": "2022-01-14T03:22:43.057Z"
   },
   {
    "duration": 36,
    "start_time": "2022-01-14T03:22:43.177Z"
   },
   {
    "duration": 6,
    "start_time": "2022-01-14T03:22:43.214Z"
   },
   {
    "duration": 24,
    "start_time": "2022-01-14T03:22:43.221Z"
   },
   {
    "duration": 27,
    "start_time": "2022-01-14T03:22:43.247Z"
   },
   {
    "duration": 9,
    "start_time": "2022-01-14T03:22:43.276Z"
   },
   {
    "duration": 316,
    "start_time": "2022-01-14T03:22:43.287Z"
   },
   {
    "duration": 38,
    "start_time": "2022-01-14T03:22:43.604Z"
   },
   {
    "duration": 3,
    "start_time": "2022-01-14T03:22:43.644Z"
   },
   {
    "duration": 8,
    "start_time": "2022-01-14T03:22:43.649Z"
   },
   {
    "duration": 5,
    "start_time": "2022-01-14T03:22:43.659Z"
   },
   {
    "duration": 46,
    "start_time": "2022-01-14T03:22:43.666Z"
   },
   {
    "duration": 53,
    "start_time": "2022-01-14T03:22:43.714Z"
   },
   {
    "duration": 57,
    "start_time": "2022-01-14T03:22:43.769Z"
   },
   {
    "duration": 10,
    "start_time": "2022-01-14T03:22:43.841Z"
   },
   {
    "duration": 7,
    "start_time": "2022-01-14T03:22:43.854Z"
   },
   {
    "duration": 261,
    "start_time": "2022-01-14T03:22:43.863Z"
   },
   {
    "duration": 4,
    "start_time": "2022-01-14T03:22:44.125Z"
   },
   {
    "duration": 12,
    "start_time": "2022-01-14T03:22:44.130Z"
   },
   {
    "duration": 37,
    "start_time": "2022-01-14T03:22:44.144Z"
   },
   {
    "duration": 467,
    "start_time": "2022-01-14T03:22:44.183Z"
   },
   {
    "duration": 141,
    "start_time": "2022-01-14T03:23:41.778Z"
   },
   {
    "duration": 233,
    "start_time": "2022-01-14T03:34:55.027Z"
   },
   {
    "duration": 3,
    "start_time": "2022-01-14T03:35:14.178Z"
   },
   {
    "duration": 125,
    "start_time": "2022-01-14T03:35:14.197Z"
   },
   {
    "duration": 29,
    "start_time": "2022-01-14T03:35:14.324Z"
   },
   {
    "duration": 10,
    "start_time": "2022-01-14T03:35:14.354Z"
   },
   {
    "duration": 166,
    "start_time": "2022-01-14T03:35:14.366Z"
   },
   {
    "duration": 66,
    "start_time": "2022-01-14T03:35:14.534Z"
   },
   {
    "duration": 81,
    "start_time": "2022-01-14T03:35:14.601Z"
   },
   {
    "duration": 20,
    "start_time": "2022-01-14T03:35:14.683Z"
   },
   {
    "duration": 112,
    "start_time": "2022-01-14T03:35:14.704Z"
   },
   {
    "duration": 42,
    "start_time": "2022-01-14T03:35:14.818Z"
   },
   {
    "duration": 5,
    "start_time": "2022-01-14T03:35:14.862Z"
   },
   {
    "duration": 9,
    "start_time": "2022-01-14T03:35:14.868Z"
   },
   {
    "duration": 21,
    "start_time": "2022-01-14T03:35:14.878Z"
   },
   {
    "duration": 20,
    "start_time": "2022-01-14T03:35:14.901Z"
   },
   {
    "duration": 290,
    "start_time": "2022-01-14T03:35:14.922Z"
   },
   {
    "duration": 35,
    "start_time": "2022-01-14T03:35:15.214Z"
   },
   {
    "duration": 3,
    "start_time": "2022-01-14T03:35:15.250Z"
   },
   {
    "duration": 29,
    "start_time": "2022-01-14T03:35:15.254Z"
   },
   {
    "duration": 13,
    "start_time": "2022-01-14T03:35:15.284Z"
   },
   {
    "duration": 55,
    "start_time": "2022-01-14T03:35:15.299Z"
   },
   {
    "duration": 30,
    "start_time": "2022-01-14T03:35:15.355Z"
   },
   {
    "duration": 57,
    "start_time": "2022-01-14T03:35:15.387Z"
   },
   {
    "duration": 9,
    "start_time": "2022-01-14T03:35:15.445Z"
   },
   {
    "duration": 20,
    "start_time": "2022-01-14T03:35:15.456Z"
   },
   {
    "duration": 124,
    "start_time": "2022-01-14T03:35:15.477Z"
   },
   {
    "duration": 3,
    "start_time": "2022-01-14T03:35:15.603Z"
   },
   {
    "duration": 29,
    "start_time": "2022-01-14T03:35:15.607Z"
   },
   {
    "duration": 45,
    "start_time": "2022-01-14T03:35:15.640Z"
   },
   {
    "duration": 138,
    "start_time": "2022-01-14T03:35:15.686Z"
   },
   {
    "duration": 284,
    "start_time": "2022-01-14T03:35:15.826Z"
   },
   {
    "duration": 9,
    "start_time": "2022-01-14T03:35:16.111Z"
   },
   {
    "duration": 19,
    "start_time": "2022-01-14T03:35:16.122Z"
   },
   {
    "duration": 22,
    "start_time": "2022-01-14T03:35:16.143Z"
   },
   {
    "duration": 26,
    "start_time": "2022-01-14T03:35:16.167Z"
   },
   {
    "duration": 36,
    "start_time": "2022-01-14T03:35:16.195Z"
   },
   {
    "duration": 1374,
    "start_time": "2022-01-14T15:43:11.143Z"
   },
   {
    "duration": 116,
    "start_time": "2022-01-14T15:43:12.519Z"
   },
   {
    "duration": 23,
    "start_time": "2022-01-14T15:43:12.637Z"
   },
   {
    "duration": 9,
    "start_time": "2022-01-14T15:43:12.662Z"
   },
   {
    "duration": 157,
    "start_time": "2022-01-14T15:43:12.672Z"
   },
   {
    "duration": 58,
    "start_time": "2022-01-14T15:43:12.831Z"
   },
   {
    "duration": 76,
    "start_time": "2022-01-14T15:43:12.890Z"
   },
   {
    "duration": 20,
    "start_time": "2022-01-14T15:43:12.968Z"
   },
   {
    "duration": 111,
    "start_time": "2022-01-14T15:43:12.990Z"
   },
   {
    "duration": 44,
    "start_time": "2022-01-14T15:43:13.102Z"
   },
   {
    "duration": 6,
    "start_time": "2022-01-14T15:43:13.148Z"
   },
   {
    "duration": 4,
    "start_time": "2022-01-14T15:43:13.156Z"
   },
   {
    "duration": 5,
    "start_time": "2022-01-14T15:43:13.162Z"
   },
   {
    "duration": 5,
    "start_time": "2022-01-14T15:43:13.168Z"
   },
   {
    "duration": 324,
    "start_time": "2022-01-14T15:43:13.174Z"
   },
   {
    "duration": 42,
    "start_time": "2022-01-14T15:43:13.500Z"
   },
   {
    "duration": 3,
    "start_time": "2022-01-14T15:43:13.544Z"
   },
   {
    "duration": 8,
    "start_time": "2022-01-14T15:43:13.549Z"
   },
   {
    "duration": 3,
    "start_time": "2022-01-14T15:43:13.558Z"
   },
   {
    "duration": 37,
    "start_time": "2022-01-14T15:43:13.563Z"
   },
   {
    "duration": 54,
    "start_time": "2022-01-14T15:43:13.602Z"
   },
   {
    "duration": 48,
    "start_time": "2022-01-14T15:43:13.658Z"
   },
   {
    "duration": 35,
    "start_time": "2022-01-14T15:43:13.711Z"
   },
   {
    "duration": 7,
    "start_time": "2022-01-14T15:43:13.749Z"
   },
   {
    "duration": 690,
    "start_time": "2022-01-14T15:43:13.758Z"
   },
   {
    "duration": 4,
    "start_time": "2022-01-14T15:43:14.450Z"
   },
   {
    "duration": 12,
    "start_time": "2022-01-14T15:43:14.455Z"
   },
   {
    "duration": 91,
    "start_time": "2022-01-14T15:43:14.468Z"
   },
   {
    "duration": 217,
    "start_time": "2022-01-14T15:43:14.560Z"
   },
   {
    "duration": 282,
    "start_time": "2022-01-14T15:43:14.778Z"
   },
   {
    "duration": 9,
    "start_time": "2022-01-14T15:43:15.062Z"
   },
   {
    "duration": 6,
    "start_time": "2022-01-14T15:43:15.072Z"
   },
   {
    "duration": 7,
    "start_time": "2022-01-14T15:43:15.080Z"
   },
   {
    "duration": 110,
    "start_time": "2022-01-14T15:43:15.088Z"
   },
   {
    "duration": 22,
    "start_time": "2022-01-14T15:43:15.199Z"
   },
   {
    "duration": 10,
    "start_time": "2022-01-14T15:43:15.222Z"
   },
   {
    "duration": 12,
    "start_time": "2022-01-14T15:43:15.234Z"
   },
   {
    "duration": 7,
    "start_time": "2022-01-14T15:43:15.247Z"
   },
   {
    "duration": 9,
    "start_time": "2022-01-14T15:43:15.256Z"
   },
   {
    "duration": 16,
    "start_time": "2022-01-14T15:43:15.267Z"
   },
   {
    "duration": 12,
    "start_time": "2022-01-14T15:43:15.284Z"
   },
   {
    "duration": 14,
    "start_time": "2022-01-14T15:43:15.297Z"
   },
   {
    "duration": 78,
    "start_time": "2022-01-14T15:48:54.439Z"
   },
   {
    "duration": 4,
    "start_time": "2022-01-14T15:49:03.328Z"
   },
   {
    "duration": 7,
    "start_time": "2022-01-14T16:00:01.661Z"
   },
   {
    "duration": 17,
    "start_time": "2022-01-14T16:00:17.100Z"
   },
   {
    "duration": 21,
    "start_time": "2022-01-14T16:02:43.636Z"
   },
   {
    "duration": 43,
    "start_time": "2022-01-14T16:03:10.244Z"
   },
   {
    "duration": 458,
    "start_time": "2022-01-14T16:03:33.067Z"
   },
   {
    "duration": 42,
    "start_time": "2022-01-14T16:03:51.468Z"
   },
   {
    "duration": 305,
    "start_time": "2022-01-14T16:04:54.627Z"
   },
   {
    "duration": 50,
    "start_time": "2022-01-14T16:05:25.523Z"
   },
   {
    "duration": 68,
    "start_time": "2022-01-14T16:08:44.712Z"
   },
   {
    "duration": 46,
    "start_time": "2022-01-14T16:08:54.760Z"
   },
   {
    "duration": 7,
    "start_time": "2022-01-14T16:25:33.216Z"
   },
   {
    "duration": 3,
    "start_time": "2022-01-14T16:27:44.033Z"
   },
   {
    "duration": 7,
    "start_time": "2022-01-14T16:27:49.278Z"
   },
   {
    "duration": 277,
    "start_time": "2022-01-14T16:28:55.428Z"
   },
   {
    "duration": 297,
    "start_time": "2022-01-14T16:29:23.618Z"
   },
   {
    "duration": 232,
    "start_time": "2022-01-14T16:30:07.297Z"
   },
   {
    "duration": 8,
    "start_time": "2022-01-14T16:30:19.155Z"
   },
   {
    "duration": 3,
    "start_time": "2022-01-14T16:30:46.258Z"
   },
   {
    "duration": 9,
    "start_time": "2022-01-14T16:30:48.945Z"
   },
   {
    "duration": 344,
    "start_time": "2022-01-14T16:31:01.379Z"
   },
   {
    "duration": 12,
    "start_time": "2022-01-14T16:31:02.723Z"
   },
   {
    "duration": 4,
    "start_time": "2022-01-14T16:31:05.611Z"
   },
   {
    "duration": 3,
    "start_time": "2022-01-14T16:31:06.082Z"
   },
   {
    "duration": 3,
    "start_time": "2022-01-14T16:31:34.938Z"
   },
   {
    "duration": 7,
    "start_time": "2022-01-14T16:31:35.495Z"
   },
   {
    "duration": 5,
    "start_time": "2022-01-14T16:31:51.113Z"
   },
   {
    "duration": 7,
    "start_time": "2022-01-14T16:31:51.874Z"
   },
   {
    "duration": 32,
    "start_time": "2022-01-14T16:32:48.635Z"
   },
   {
    "duration": 27,
    "start_time": "2022-01-14T16:33:16.092Z"
   },
   {
    "duration": 254,
    "start_time": "2022-01-14T16:34:07.818Z"
   },
   {
    "duration": 6,
    "start_time": "2022-01-14T16:34:10.836Z"
   },
   {
    "duration": 6167,
    "start_time": "2022-01-14T16:34:17.089Z"
   },
   {
    "duration": 7,
    "start_time": "2022-01-14T16:34:26.553Z"
   },
   {
    "duration": 312,
    "start_time": "2022-01-14T16:34:40.422Z"
   },
   {
    "duration": 4739,
    "start_time": "2022-01-14T16:34:51.901Z"
   },
   {
    "duration": 6,
    "start_time": "2022-01-14T16:35:05.774Z"
   },
   {
    "duration": 338,
    "start_time": "2022-01-14T16:35:13.386Z"
   },
   {
    "duration": 10,
    "start_time": "2022-01-14T16:35:15.422Z"
   },
   {
    "duration": 37,
    "start_time": "2022-01-14T16:35:23.245Z"
   },
   {
    "duration": 7,
    "start_time": "2022-01-14T16:35:25.027Z"
   },
   {
    "duration": 2062,
    "start_time": "2022-01-14T16:36:24.439Z"
   },
   {
    "duration": 4,
    "start_time": "2022-01-14T16:36:34.860Z"
   },
   {
    "duration": 7,
    "start_time": "2022-01-14T16:36:41.017Z"
   },
   {
    "duration": 4,
    "start_time": "2022-01-14T16:38:52.254Z"
   },
   {
    "duration": 3,
    "start_time": "2022-01-14T16:40:13.247Z"
   },
   {
    "duration": 250,
    "start_time": "2022-01-14T16:41:28.793Z"
   },
   {
    "duration": 5,
    "start_time": "2022-01-14T16:41:37.772Z"
   },
   {
    "duration": 3,
    "start_time": "2022-01-14T16:41:39.536Z"
   },
   {
    "duration": 275,
    "start_time": "2022-01-14T16:41:40.167Z"
   },
   {
    "duration": 58,
    "start_time": "2022-01-14T16:42:50.912Z"
   },
   {
    "duration": 28,
    "start_time": "2022-01-14T17:57:42.001Z"
   },
   {
    "duration": 1296,
    "start_time": "2022-01-15T02:51:37.915Z"
   },
   {
    "duration": 210,
    "start_time": "2022-01-15T02:51:39.213Z"
   },
   {
    "duration": 24,
    "start_time": "2022-01-15T02:51:39.425Z"
   },
   {
    "duration": 10,
    "start_time": "2022-01-15T02:51:39.450Z"
   },
   {
    "duration": 157,
    "start_time": "2022-01-15T02:51:39.462Z"
   },
   {
    "duration": 52,
    "start_time": "2022-01-15T02:51:39.621Z"
   },
   {
    "duration": 76,
    "start_time": "2022-01-15T02:51:39.675Z"
   },
   {
    "duration": 18,
    "start_time": "2022-01-15T02:51:39.753Z"
   },
   {
    "duration": 115,
    "start_time": "2022-01-15T02:51:39.773Z"
   },
   {
    "duration": 40,
    "start_time": "2022-01-15T02:51:39.890Z"
   },
   {
    "duration": 5,
    "start_time": "2022-01-15T02:51:39.932Z"
   },
   {
    "duration": 3,
    "start_time": "2022-01-15T02:51:39.938Z"
   },
   {
    "duration": 4,
    "start_time": "2022-01-15T02:51:39.943Z"
   },
   {
    "duration": 4,
    "start_time": "2022-01-15T02:51:39.949Z"
   },
   {
    "duration": 322,
    "start_time": "2022-01-15T02:51:39.954Z"
   },
   {
    "duration": 25,
    "start_time": "2022-01-15T02:51:40.277Z"
   },
   {
    "duration": 3,
    "start_time": "2022-01-15T02:51:40.312Z"
   },
   {
    "duration": 7,
    "start_time": "2022-01-15T02:51:40.316Z"
   },
   {
    "duration": 3,
    "start_time": "2022-01-15T02:51:40.324Z"
   },
   {
    "duration": 37,
    "start_time": "2022-01-15T02:51:40.328Z"
   },
   {
    "duration": 55,
    "start_time": "2022-01-15T02:51:40.367Z"
   },
   {
    "duration": 43,
    "start_time": "2022-01-15T02:51:40.423Z"
   },
   {
    "duration": 9,
    "start_time": "2022-01-15T02:51:40.468Z"
   },
   {
    "duration": 6,
    "start_time": "2022-01-15T02:51:40.479Z"
   },
   {
    "duration": 454,
    "start_time": "2022-01-15T02:51:40.512Z"
   },
   {
    "duration": 4,
    "start_time": "2022-01-15T02:51:40.968Z"
   },
   {
    "duration": 7,
    "start_time": "2022-01-15T02:51:40.973Z"
   },
   {
    "duration": 54,
    "start_time": "2022-01-15T02:51:40.981Z"
   },
   {
    "duration": 281,
    "start_time": "2022-01-15T02:51:41.037Z"
   },
   {
    "duration": 275,
    "start_time": "2022-01-15T02:51:41.319Z"
   },
   {
    "duration": 22,
    "start_time": "2022-01-15T02:51:41.595Z"
   },
   {
    "duration": 9,
    "start_time": "2022-01-15T02:51:41.618Z"
   },
   {
    "duration": 7,
    "start_time": "2022-01-15T02:51:41.628Z"
   },
   {
    "duration": 97,
    "start_time": "2022-01-15T02:51:41.637Z"
   },
   {
    "duration": 8,
    "start_time": "2022-01-15T02:51:41.736Z"
   },
   {
    "duration": 46,
    "start_time": "2022-01-15T02:52:38.563Z"
   },
   {
    "duration": 25,
    "start_time": "2022-01-15T02:55:11.319Z"
   },
   {
    "duration": 33,
    "start_time": "2022-01-15T03:09:18.173Z"
   },
   {
    "duration": 4994,
    "start_time": "2022-01-15T03:09:26.477Z"
   },
   {
    "duration": 3,
    "start_time": "2022-01-15T03:09:56.199Z"
   },
   {
    "duration": 114,
    "start_time": "2022-01-15T03:09:56.210Z"
   },
   {
    "duration": 22,
    "start_time": "2022-01-15T03:09:56.326Z"
   },
   {
    "duration": 10,
    "start_time": "2022-01-15T03:09:56.350Z"
   },
   {
    "duration": 184,
    "start_time": "2022-01-15T03:09:56.361Z"
   },
   {
    "duration": 66,
    "start_time": "2022-01-15T03:09:56.547Z"
   },
   {
    "duration": 65,
    "start_time": "2022-01-15T03:09:56.615Z"
   },
   {
    "duration": 40,
    "start_time": "2022-01-15T03:09:56.681Z"
   },
   {
    "duration": 122,
    "start_time": "2022-01-15T03:09:56.723Z"
   },
   {
    "duration": 31,
    "start_time": "2022-01-15T03:09:56.847Z"
   },
   {
    "duration": 6,
    "start_time": "2022-01-15T03:09:56.879Z"
   },
   {
    "duration": 28,
    "start_time": "2022-01-15T03:09:56.887Z"
   },
   {
    "duration": 7,
    "start_time": "2022-01-15T03:09:56.916Z"
   },
   {
    "duration": 6,
    "start_time": "2022-01-15T03:09:56.925Z"
   },
   {
    "duration": 347,
    "start_time": "2022-01-15T03:09:56.932Z"
   },
   {
    "duration": 38,
    "start_time": "2022-01-15T03:09:57.281Z"
   },
   {
    "duration": 3,
    "start_time": "2022-01-15T03:09:57.321Z"
   },
   {
    "duration": 8,
    "start_time": "2022-01-15T03:09:57.325Z"
   },
   {
    "duration": 3,
    "start_time": "2022-01-15T03:09:57.335Z"
   },
   {
    "duration": 40,
    "start_time": "2022-01-15T03:09:57.340Z"
   },
   {
    "duration": 58,
    "start_time": "2022-01-15T03:09:57.381Z"
   },
   {
    "duration": 53,
    "start_time": "2022-01-15T03:09:57.441Z"
   },
   {
    "duration": 24,
    "start_time": "2022-01-15T03:09:57.495Z"
   },
   {
    "duration": 9,
    "start_time": "2022-01-15T03:09:57.521Z"
   },
   {
    "duration": 134,
    "start_time": "2022-01-15T03:09:57.532Z"
   },
   {
    "duration": 3,
    "start_time": "2022-01-15T03:09:57.668Z"
   },
   {
    "duration": 5,
    "start_time": "2022-01-15T03:09:57.673Z"
   },
   {
    "duration": 55,
    "start_time": "2022-01-15T03:09:57.679Z"
   },
   {
    "duration": 169,
    "start_time": "2022-01-15T03:09:57.736Z"
   },
   {
    "duration": 300,
    "start_time": "2022-01-15T03:09:57.907Z"
   },
   {
    "duration": 9,
    "start_time": "2022-01-15T03:09:58.212Z"
   },
   {
    "duration": 4,
    "start_time": "2022-01-15T03:09:58.222Z"
   },
   {
    "duration": 4,
    "start_time": "2022-01-15T03:09:58.228Z"
   },
   {
    "duration": 6,
    "start_time": "2022-01-15T03:09:58.234Z"
   },
   {
    "duration": 71,
    "start_time": "2022-01-15T03:09:58.243Z"
   },
   {
    "duration": 1927,
    "start_time": "2022-01-15T16:48:59.965Z"
   },
   {
    "duration": 295,
    "start_time": "2022-01-15T16:49:01.895Z"
   },
   {
    "duration": 36,
    "start_time": "2022-01-15T16:49:02.193Z"
   },
   {
    "duration": 16,
    "start_time": "2022-01-15T16:49:02.232Z"
   },
   {
    "duration": 257,
    "start_time": "2022-01-15T16:49:02.251Z"
   },
   {
    "duration": 93,
    "start_time": "2022-01-15T16:49:02.511Z"
   },
   {
    "duration": 104,
    "start_time": "2022-01-15T16:49:02.606Z"
   },
   {
    "duration": 27,
    "start_time": "2022-01-15T16:49:02.725Z"
   },
   {
    "duration": 176,
    "start_time": "2022-01-15T16:49:02.755Z"
   },
   {
    "duration": 42,
    "start_time": "2022-01-15T16:49:02.933Z"
   },
   {
    "duration": 8,
    "start_time": "2022-01-15T16:49:02.977Z"
   },
   {
    "duration": 5,
    "start_time": "2022-01-15T16:49:02.987Z"
   },
   {
    "duration": 5,
    "start_time": "2022-01-15T16:49:03.024Z"
   },
   {
    "duration": 7,
    "start_time": "2022-01-15T16:49:03.032Z"
   },
   {
    "duration": 582,
    "start_time": "2022-01-15T16:49:03.041Z"
   },
   {
    "duration": 39,
    "start_time": "2022-01-15T16:49:03.625Z"
   },
   {
    "duration": 4,
    "start_time": "2022-01-15T16:49:03.667Z"
   },
   {
    "duration": 10,
    "start_time": "2022-01-15T16:49:03.674Z"
   },
   {
    "duration": 4,
    "start_time": "2022-01-15T16:49:03.687Z"
   },
   {
    "duration": 47,
    "start_time": "2022-01-15T16:49:03.724Z"
   },
   {
    "duration": 61,
    "start_time": "2022-01-15T16:49:03.773Z"
   },
   {
    "duration": 59,
    "start_time": "2022-01-15T16:49:03.836Z"
   },
   {
    "duration": 32,
    "start_time": "2022-01-15T16:49:03.899Z"
   },
   {
    "duration": 12,
    "start_time": "2022-01-15T16:49:03.934Z"
   },
   {
    "duration": 747,
    "start_time": "2022-01-15T16:49:03.950Z"
   },
   {
    "duration": 24,
    "start_time": "2022-01-15T16:49:04.700Z"
   },
   {
    "duration": 8,
    "start_time": "2022-01-15T16:49:04.727Z"
   },
   {
    "duration": 99,
    "start_time": "2022-01-15T16:49:04.737Z"
   },
   {
    "duration": 331,
    "start_time": "2022-01-15T16:49:04.839Z"
   },
   {
    "duration": 371,
    "start_time": "2022-01-15T16:49:05.173Z"
   },
   {
    "duration": 15,
    "start_time": "2022-01-15T16:49:05.547Z"
   },
   {
    "duration": 10,
    "start_time": "2022-01-15T16:49:05.564Z"
   },
   {
    "duration": 7,
    "start_time": "2022-01-15T16:49:05.577Z"
   },
   {
    "duration": 139,
    "start_time": "2022-01-15T16:49:05.586Z"
   },
   {
    "duration": 18,
    "start_time": "2022-01-15T16:49:05.727Z"
   },
   {
    "duration": 15,
    "start_time": "2022-01-15T16:49:05.748Z"
   },
   {
    "duration": 8,
    "start_time": "2022-01-15T16:49:05.766Z"
   },
   {
    "duration": 5634,
    "start_time": "2022-01-15T16:49:05.777Z"
   },
   {
    "duration": 5,
    "start_time": "2022-01-15T16:51:03.651Z"
   },
   {
    "duration": 6,
    "start_time": "2022-01-15T16:51:18.972Z"
   },
   {
    "duration": 5,
    "start_time": "2022-01-15T16:52:05.999Z"
   },
   {
    "duration": 5,
    "start_time": "2022-01-15T16:53:13.151Z"
   },
   {
    "duration": 282,
    "start_time": "2022-01-15T16:53:18.059Z"
   },
   {
    "duration": 6,
    "start_time": "2022-01-15T16:53:27.498Z"
   },
   {
    "duration": 8,
    "start_time": "2022-01-15T16:54:02.788Z"
   },
   {
    "duration": 5782,
    "start_time": "2022-01-15T16:54:45.520Z"
   },
   {
    "duration": 271,
    "start_time": "2022-01-15T16:55:01.126Z"
   },
   {
    "duration": 8,
    "start_time": "2022-01-15T18:24:48.455Z"
   },
   {
    "duration": 6,
    "start_time": "2022-01-15T18:25:01.291Z"
   },
   {
    "duration": 5,
    "start_time": "2022-01-15T18:25:35.806Z"
   },
   {
    "duration": 6612,
    "start_time": "2022-01-15T18:26:39.220Z"
   },
   {
    "duration": 45,
    "start_time": "2022-01-15T18:32:59.100Z"
   },
   {
    "duration": 11,
    "start_time": "2022-01-15T18:33:05.661Z"
   },
   {
    "duration": 75,
    "start_time": "2022-01-15T18:33:32.269Z"
   },
   {
    "duration": 13,
    "start_time": "2022-01-15T18:34:05.284Z"
   },
   {
    "duration": 268,
    "start_time": "2022-01-15T18:34:29.421Z"
   },
   {
    "duration": 40,
    "start_time": "2022-01-15T18:34:51.791Z"
   },
   {
    "duration": 33,
    "start_time": "2022-01-15T18:36:04.228Z"
   },
   {
    "duration": 5,
    "start_time": "2022-01-15T18:37:11.504Z"
   },
   {
    "duration": 169,
    "start_time": "2022-01-15T18:37:11.512Z"
   },
   {
    "duration": 46,
    "start_time": "2022-01-15T18:37:11.683Z"
   },
   {
    "duration": 14,
    "start_time": "2022-01-15T18:37:11.732Z"
   },
   {
    "duration": 262,
    "start_time": "2022-01-15T18:37:11.750Z"
   },
   {
    "duration": 111,
    "start_time": "2022-01-15T18:37:12.015Z"
   },
   {
    "duration": 127,
    "start_time": "2022-01-15T18:37:12.129Z"
   },
   {
    "duration": 34,
    "start_time": "2022-01-15T18:37:12.259Z"
   },
   {
    "duration": 199,
    "start_time": "2022-01-15T18:37:12.296Z"
   },
   {
    "duration": 50,
    "start_time": "2022-01-15T18:37:12.498Z"
   },
   {
    "duration": 12,
    "start_time": "2022-01-15T18:37:12.553Z"
   },
   {
    "duration": 4,
    "start_time": "2022-01-15T18:37:12.568Z"
   },
   {
    "duration": 12,
    "start_time": "2022-01-15T18:37:12.575Z"
   },
   {
    "duration": 35,
    "start_time": "2022-01-15T18:37:12.589Z"
   },
   {
    "duration": 528,
    "start_time": "2022-01-15T18:37:12.627Z"
   },
   {
    "duration": 41,
    "start_time": "2022-01-15T18:37:13.159Z"
   },
   {
    "duration": 21,
    "start_time": "2022-01-15T18:37:13.203Z"
   },
   {
    "duration": 11,
    "start_time": "2022-01-15T18:37:13.228Z"
   },
   {
    "duration": 5,
    "start_time": "2022-01-15T18:37:13.242Z"
   },
   {
    "duration": 91,
    "start_time": "2022-01-15T18:37:13.249Z"
   },
   {
    "duration": 39,
    "start_time": "2022-01-15T18:37:13.342Z"
   },
   {
    "duration": 84,
    "start_time": "2022-01-15T18:37:13.383Z"
   },
   {
    "duration": 13,
    "start_time": "2022-01-15T18:37:13.469Z"
   },
   {
    "duration": 11,
    "start_time": "2022-01-15T18:37:13.484Z"
   },
   {
    "duration": 176,
    "start_time": "2022-01-15T18:37:13.524Z"
   },
   {
    "duration": 5,
    "start_time": "2022-01-15T18:37:13.704Z"
   },
   {
    "duration": 4,
    "start_time": "2022-01-15T18:37:13.723Z"
   },
   {
    "duration": 42,
    "start_time": "2022-01-15T18:37:13.730Z"
   },
   {
    "duration": 269,
    "start_time": "2022-01-15T18:37:13.775Z"
   },
   {
    "duration": 392,
    "start_time": "2022-01-15T18:37:14.047Z"
   },
   {
    "duration": 16,
    "start_time": "2022-01-15T18:37:14.443Z"
   },
   {
    "duration": 8,
    "start_time": "2022-01-15T18:37:14.461Z"
   },
   {
    "duration": 5,
    "start_time": "2022-01-15T18:37:14.472Z"
   },
   {
    "duration": 51,
    "start_time": "2022-01-15T18:37:14.480Z"
   },
   {
    "duration": 20,
    "start_time": "2022-01-15T18:37:14.534Z"
   },
   {
    "duration": 7,
    "start_time": "2022-01-15T18:37:14.557Z"
   },
   {
    "duration": 14,
    "start_time": "2022-01-15T18:37:14.567Z"
   },
   {
    "duration": 44,
    "start_time": "2022-01-15T18:37:14.584Z"
   },
   {
    "duration": 12,
    "start_time": "2022-01-15T18:37:14.631Z"
   },
   {
    "duration": 39,
    "start_time": "2022-01-15T18:37:14.646Z"
   },
   {
    "duration": 74,
    "start_time": "2022-01-15T18:37:14.688Z"
   },
   {
    "duration": 5,
    "start_time": "2022-01-15T18:50:31.484Z"
   },
   {
    "duration": 145,
    "start_time": "2022-01-15T18:50:31.491Z"
   },
   {
    "duration": 28,
    "start_time": "2022-01-15T18:50:31.639Z"
   },
   {
    "duration": 14,
    "start_time": "2022-01-15T18:50:31.670Z"
   },
   {
    "duration": 278,
    "start_time": "2022-01-15T18:50:31.686Z"
   },
   {
    "duration": 94,
    "start_time": "2022-01-15T18:50:31.966Z"
   },
   {
    "duration": 101,
    "start_time": "2022-01-15T18:50:32.063Z"
   },
   {
    "duration": 26,
    "start_time": "2022-01-15T18:50:32.166Z"
   },
   {
    "duration": 190,
    "start_time": "2022-01-15T18:50:32.194Z"
   },
   {
    "duration": 51,
    "start_time": "2022-01-15T18:50:32.387Z"
   },
   {
    "duration": 7,
    "start_time": "2022-01-15T18:50:32.441Z"
   },
   {
    "duration": 6,
    "start_time": "2022-01-15T18:50:32.451Z"
   },
   {
    "duration": 22,
    "start_time": "2022-01-15T18:50:32.459Z"
   },
   {
    "duration": 457,
    "start_time": "2022-01-15T18:51:08.123Z"
   },
   {
    "duration": 699,
    "start_time": "2022-01-15T18:51:34.863Z"
   },
   {
    "duration": 16,
    "start_time": "2022-01-15T18:55:22.302Z"
   },
   {
    "duration": 65,
    "start_time": "2022-01-15T18:56:30.838Z"
   },
   {
    "duration": 799,
    "start_time": "2022-01-15T18:59:22.997Z"
   },
   {
    "duration": 5,
    "start_time": "2022-01-15T19:00:13.150Z"
   },
   {
    "duration": 25567,
    "start_time": "2022-01-15T19:00:17.903Z"
   },
   {
    "duration": 804,
    "start_time": "2022-01-15T19:00:45.340Z"
   },
   {
    "duration": 511,
    "start_time": "2022-01-15T19:01:01.963Z"
   },
   {
    "duration": 66,
    "start_time": "2022-01-15T19:28:18.178Z"
   },
   {
    "duration": 759,
    "start_time": "2022-01-15T19:31:58.649Z"
   },
   {
    "duration": 690,
    "start_time": "2022-01-15T19:32:08.830Z"
   },
   {
    "duration": 264,
    "start_time": "2022-01-15T19:32:36.387Z"
   },
   {
    "duration": 90,
    "start_time": "2022-01-15T19:33:16.113Z"
   },
   {
    "duration": 23351,
    "start_time": "2022-01-15T19:33:24.516Z"
   },
   {
    "duration": 304,
    "start_time": "2022-01-15T19:35:24.329Z"
   },
   {
    "duration": 24,
    "start_time": "2022-01-15T19:35:45.937Z"
   },
   {
    "duration": 30,
    "start_time": "2022-01-15T19:36:06.741Z"
   },
   {
    "duration": 623,
    "start_time": "2022-01-15T19:36:52.064Z"
   },
   {
    "duration": 283,
    "start_time": "2022-01-15T19:37:42.643Z"
   },
   {
    "duration": 500,
    "start_time": "2022-01-15T19:38:28.277Z"
   },
   {
    "duration": 1577,
    "start_time": "2022-01-15T19:38:54.522Z"
   },
   {
    "duration": 800,
    "start_time": "2022-01-15T19:39:29.488Z"
   },
   {
    "duration": 300,
    "start_time": "2022-01-15T19:40:11.019Z"
   },
   {
    "duration": 37,
    "start_time": "2022-01-15T19:40:17.028Z"
   },
   {
    "duration": 92,
    "start_time": "2022-01-15T19:41:59.803Z"
   },
   {
    "duration": 31,
    "start_time": "2022-01-15T19:42:05.273Z"
   },
   {
    "duration": 84,
    "start_time": "2022-01-15T19:43:57.548Z"
   },
   {
    "duration": 4,
    "start_time": "2022-01-15T19:44:00.528Z"
   },
   {
    "duration": 668,
    "start_time": "2022-01-15T19:45:56.105Z"
   },
   {
    "duration": 935,
    "start_time": "2022-01-15T19:46:22.580Z"
   },
   {
    "duration": 755,
    "start_time": "2022-01-15T19:46:30.692Z"
   },
   {
    "duration": 692,
    "start_time": "2022-01-15T19:46:44.674Z"
   },
   {
    "duration": 4283,
    "start_time": "2022-01-15T19:51:04.960Z"
   },
   {
    "duration": 1992,
    "start_time": "2022-01-15T19:52:11.933Z"
   },
   {
    "duration": 29,
    "start_time": "2022-01-15T19:54:34.174Z"
   },
   {
    "duration": 380,
    "start_time": "2022-01-15T20:06:56.967Z"
   },
   {
    "duration": 677,
    "start_time": "2022-01-15T20:08:07.344Z"
   },
   {
    "duration": 482,
    "start_time": "2022-01-15T20:08:36.096Z"
   },
   {
    "duration": 450,
    "start_time": "2022-01-15T20:08:56.096Z"
   },
   {
    "duration": 524,
    "start_time": "2022-01-15T20:10:16.145Z"
   },
   {
    "duration": 343,
    "start_time": "2022-01-15T20:12:07.876Z"
   },
   {
    "duration": 292,
    "start_time": "2022-01-15T20:12:27.729Z"
   },
   {
    "duration": 5468,
    "start_time": "2022-01-15T20:13:23.605Z"
   },
   {
    "duration": 683,
    "start_time": "2022-01-15T20:13:55.535Z"
   },
   {
    "duration": 374,
    "start_time": "2022-01-15T20:14:12.065Z"
   },
   {
    "duration": 5,
    "start_time": "2022-01-15T20:14:29.493Z"
   },
   {
    "duration": 259,
    "start_time": "2022-01-15T20:14:29.501Z"
   },
   {
    "duration": 60,
    "start_time": "2022-01-15T20:14:29.765Z"
   },
   {
    "duration": 21,
    "start_time": "2022-01-15T20:14:29.829Z"
   },
   {
    "duration": 479,
    "start_time": "2022-01-15T20:14:29.853Z"
   },
   {
    "duration": 147,
    "start_time": "2022-01-15T20:14:30.335Z"
   },
   {
    "duration": 162,
    "start_time": "2022-01-15T20:14:30.485Z"
   },
   {
    "duration": 48,
    "start_time": "2022-01-15T20:14:30.650Z"
   },
   {
    "duration": 191,
    "start_time": "2022-01-15T20:14:30.702Z"
   },
   {
    "duration": 59,
    "start_time": "2022-01-15T20:14:30.896Z"
   },
   {
    "duration": 7,
    "start_time": "2022-01-15T20:14:30.958Z"
   },
   {
    "duration": 9,
    "start_time": "2022-01-15T20:14:30.968Z"
   },
   {
    "duration": 70,
    "start_time": "2022-01-15T20:14:30.980Z"
   },
   {
    "duration": 2047,
    "start_time": "2022-01-15T20:14:31.053Z"
   },
   {
    "duration": 5,
    "start_time": "2022-01-15T20:14:33.102Z"
   },
   {
    "duration": 6,
    "start_time": "2022-01-15T20:14:33.124Z"
   },
   {
    "duration": 620,
    "start_time": "2022-01-15T20:14:33.133Z"
   },
   {
    "duration": 34,
    "start_time": "2022-01-15T20:14:33.756Z"
   },
   {
    "duration": 30,
    "start_time": "2022-01-15T20:14:33.794Z"
   },
   {
    "duration": 13,
    "start_time": "2022-01-15T20:14:33.826Z"
   },
   {
    "duration": 4,
    "start_time": "2022-01-15T20:14:33.841Z"
   },
   {
    "duration": 76,
    "start_time": "2022-01-15T20:14:33.848Z"
   },
   {
    "duration": 41,
    "start_time": "2022-01-15T20:14:33.927Z"
   },
   {
    "duration": 89,
    "start_time": "2022-01-15T20:14:33.970Z"
   },
   {
    "duration": 12,
    "start_time": "2022-01-15T20:14:34.062Z"
   },
   {
    "duration": 11,
    "start_time": "2022-01-15T20:14:34.077Z"
   },
   {
    "duration": 203,
    "start_time": "2022-01-15T20:14:34.092Z"
   },
   {
    "duration": 5,
    "start_time": "2022-01-15T20:14:34.297Z"
   },
   {
    "duration": 4,
    "start_time": "2022-01-15T20:14:34.324Z"
   },
   {
    "duration": 42,
    "start_time": "2022-01-15T20:14:34.330Z"
   },
   {
    "duration": 266,
    "start_time": "2022-01-15T20:14:34.374Z"
   },
   {
    "duration": 396,
    "start_time": "2022-01-15T20:14:46.278Z"
   },
   {
    "duration": 11,
    "start_time": "2022-01-15T20:14:59.098Z"
   },
   {
    "duration": 47,
    "start_time": "2022-01-15T20:15:19.442Z"
   },
   {
    "duration": 340,
    "start_time": "2022-01-15T20:15:22.784Z"
   },
   {
    "duration": 521,
    "start_time": "2022-01-15T20:16:18.194Z"
   },
   {
    "duration": 12,
    "start_time": "2022-01-15T20:16:24.664Z"
   },
   {
    "duration": 460,
    "start_time": "2022-01-15T20:16:40.976Z"
   },
   {
    "duration": 407,
    "start_time": "2022-01-15T20:17:03.794Z"
   },
   {
    "duration": 47,
    "start_time": "2022-01-15T20:17:12.098Z"
   },
   {
    "duration": 13,
    "start_time": "2022-01-15T20:17:31.562Z"
   },
   {
    "duration": 11,
    "start_time": "2022-01-15T20:17:41.194Z"
   },
   {
    "duration": 14,
    "start_time": "2022-01-15T20:17:45.685Z"
   },
   {
    "duration": 312,
    "start_time": "2022-01-15T20:17:54.123Z"
   },
   {
    "duration": 405,
    "start_time": "2022-01-15T20:19:03.406Z"
   },
   {
    "duration": 15,
    "start_time": "2022-01-15T20:19:06.824Z"
   },
   {
    "duration": 10,
    "start_time": "2022-01-15T20:19:14.858Z"
   },
   {
    "duration": 11,
    "start_time": "2022-01-15T20:19:52.281Z"
   },
   {
    "duration": 444,
    "start_time": "2022-01-15T20:20:20.687Z"
   },
   {
    "duration": 15,
    "start_time": "2022-01-15T20:20:22.468Z"
   },
   {
    "duration": 11,
    "start_time": "2022-01-15T20:20:24.692Z"
   },
   {
    "duration": 10,
    "start_time": "2022-01-15T20:20:27.288Z"
   },
   {
    "duration": 387,
    "start_time": "2022-01-15T20:20:43.561Z"
   },
   {
    "duration": 14,
    "start_time": "2022-01-15T20:20:45.162Z"
   },
   {
    "duration": 299,
    "start_time": "2022-01-15T20:20:47.188Z"
   },
   {
    "duration": 11,
    "start_time": "2022-01-15T20:21:02.976Z"
   },
   {
    "duration": 287,
    "start_time": "2022-01-15T20:21:04.696Z"
   },
   {
    "duration": 422,
    "start_time": "2022-01-15T20:21:22.447Z"
   },
   {
    "duration": 14,
    "start_time": "2022-01-15T20:21:24.098Z"
   },
   {
    "duration": 12,
    "start_time": "2022-01-15T20:21:25.694Z"
   },
   {
    "duration": 491,
    "start_time": "2022-01-15T20:21:37.631Z"
   },
   {
    "duration": 6,
    "start_time": "2022-01-15T20:22:19.332Z"
   },
   {
    "duration": 154,
    "start_time": "2022-01-15T20:22:19.341Z"
   },
   {
    "duration": 38,
    "start_time": "2022-01-15T20:22:19.498Z"
   },
   {
    "duration": 16,
    "start_time": "2022-01-15T20:22:19.540Z"
   },
   {
    "duration": 270,
    "start_time": "2022-01-15T20:22:19.559Z"
   },
   {
    "duration": 101,
    "start_time": "2022-01-15T20:22:19.832Z"
   },
   {
    "duration": 125,
    "start_time": "2022-01-15T20:22:19.938Z"
   },
   {
    "duration": 39,
    "start_time": "2022-01-15T20:22:20.066Z"
   },
   {
    "duration": 181,
    "start_time": "2022-01-15T20:22:20.124Z"
   },
   {
    "duration": 52,
    "start_time": "2022-01-15T20:22:20.308Z"
   },
   {
    "duration": 7,
    "start_time": "2022-01-15T20:22:20.364Z"
   },
   {
    "duration": 5,
    "start_time": "2022-01-15T20:22:20.374Z"
   },
   {
    "duration": 69,
    "start_time": "2022-01-15T20:22:20.381Z"
   },
   {
    "duration": 1952,
    "start_time": "2022-01-15T20:22:20.452Z"
   },
   {
    "duration": 5,
    "start_time": "2022-01-15T20:22:22.406Z"
   },
   {
    "duration": 13,
    "start_time": "2022-01-15T20:22:22.413Z"
   },
   {
    "duration": 514,
    "start_time": "2022-01-15T20:22:22.429Z"
   },
   {
    "duration": 35,
    "start_time": "2022-01-15T20:22:22.946Z"
   },
   {
    "duration": 5,
    "start_time": "2022-01-15T20:22:22.984Z"
   },
   {
    "duration": 39,
    "start_time": "2022-01-15T20:22:22.991Z"
   },
   {
    "duration": 13,
    "start_time": "2022-01-15T20:22:23.033Z"
   },
   {
    "duration": 55,
    "start_time": "2022-01-15T20:22:23.049Z"
   },
   {
    "duration": 43,
    "start_time": "2022-01-15T20:22:23.124Z"
   },
   {
    "duration": 129,
    "start_time": "2022-01-15T20:22:23.170Z"
   },
   {
    "duration": 28,
    "start_time": "2022-01-15T20:22:23.302Z"
   },
   {
    "duration": 17,
    "start_time": "2022-01-15T20:22:23.337Z"
   },
   {
    "duration": 202,
    "start_time": "2022-01-15T20:22:23.357Z"
   },
   {
    "duration": 6,
    "start_time": "2022-01-15T20:22:23.562Z"
   },
   {
    "duration": 6,
    "start_time": "2022-01-15T20:22:23.570Z"
   },
   {
    "duration": 70,
    "start_time": "2022-01-15T20:22:23.579Z"
   },
   {
    "duration": 252,
    "start_time": "2022-01-15T20:22:23.652Z"
   },
   {
    "duration": 430,
    "start_time": "2022-01-15T20:22:23.906Z"
   },
   {
    "duration": 13,
    "start_time": "2022-01-15T20:22:24.339Z"
   },
   {
    "duration": 18,
    "start_time": "2022-01-15T20:22:24.354Z"
   },
   {
    "duration": 348,
    "start_time": "2022-01-15T20:22:24.374Z"
   },
   {
    "duration": 19,
    "start_time": "2022-01-15T20:23:18.350Z"
   },
   {
    "duration": 370,
    "start_time": "2022-01-15T20:23:21.790Z"
   },
   {
    "duration": 7,
    "start_time": "2022-01-15T20:23:45.095Z"
   },
   {
    "duration": 262,
    "start_time": "2022-01-15T20:23:45.105Z"
   },
   {
    "duration": 54,
    "start_time": "2022-01-15T20:23:45.372Z"
   },
   {
    "duration": 18,
    "start_time": "2022-01-15T20:23:45.429Z"
   },
   {
    "duration": 289,
    "start_time": "2022-01-15T20:23:45.450Z"
   },
   {
    "duration": 99,
    "start_time": "2022-01-15T20:23:45.742Z"
   },
   {
    "duration": 102,
    "start_time": "2022-01-15T20:23:45.844Z"
   },
   {
    "duration": 27,
    "start_time": "2022-01-15T20:23:45.949Z"
   },
   {
    "duration": 196,
    "start_time": "2022-01-15T20:23:45.979Z"
   },
   {
    "duration": 58,
    "start_time": "2022-01-15T20:23:46.177Z"
   },
   {
    "duration": 7,
    "start_time": "2022-01-15T20:23:46.238Z"
   },
   {
    "duration": 5,
    "start_time": "2022-01-15T20:23:46.247Z"
   },
   {
    "duration": 38,
    "start_time": "2022-01-15T20:23:46.254Z"
   },
   {
    "duration": 2119,
    "start_time": "2022-01-15T20:23:46.295Z"
   },
   {
    "duration": 5,
    "start_time": "2022-01-15T20:23:48.424Z"
   },
   {
    "duration": 12,
    "start_time": "2022-01-15T20:23:48.431Z"
   },
   {
    "duration": 499,
    "start_time": "2022-01-15T20:23:48.445Z"
   },
   {
    "duration": 33,
    "start_time": "2022-01-15T20:23:48.946Z"
   },
   {
    "duration": 4,
    "start_time": "2022-01-15T20:23:48.982Z"
   },
   {
    "duration": 38,
    "start_time": "2022-01-15T20:23:48.989Z"
   },
   {
    "duration": 4,
    "start_time": "2022-01-15T20:23:49.030Z"
   },
   {
    "duration": 49,
    "start_time": "2022-01-15T20:23:49.039Z"
   },
   {
    "duration": 72,
    "start_time": "2022-01-15T20:23:49.090Z"
   },
   {
    "duration": 86,
    "start_time": "2022-01-15T20:23:49.165Z"
   },
   {
    "duration": 15,
    "start_time": "2022-01-15T20:23:49.254Z"
   },
   {
    "duration": 18,
    "start_time": "2022-01-15T20:23:49.272Z"
   },
   {
    "duration": 193,
    "start_time": "2022-01-15T20:23:49.292Z"
   },
   {
    "duration": 5,
    "start_time": "2022-01-15T20:23:49.487Z"
   },
   {
    "duration": 6,
    "start_time": "2022-01-15T20:23:49.495Z"
   },
   {
    "duration": 40,
    "start_time": "2022-01-15T20:23:49.524Z"
   },
   {
    "duration": 264,
    "start_time": "2022-01-15T20:23:49.567Z"
   },
   {
    "duration": 430,
    "start_time": "2022-01-15T20:23:49.833Z"
   },
   {
    "duration": 12,
    "start_time": "2022-01-15T20:23:50.266Z"
   },
   {
    "duration": 51,
    "start_time": "2022-01-15T20:23:50.281Z"
   },
   {
    "duration": 44,
    "start_time": "2022-01-15T20:23:50.335Z"
   },
   {
    "duration": 410,
    "start_time": "2022-01-15T20:24:24.014Z"
   },
   {
    "duration": 14,
    "start_time": "2022-01-15T20:24:25.729Z"
   },
   {
    "duration": 12,
    "start_time": "2022-01-15T20:24:28.943Z"
   },
   {
    "duration": 342,
    "start_time": "2022-01-15T20:24:33.034Z"
   },
   {
    "duration": 380,
    "start_time": "2022-01-15T20:24:44.219Z"
   },
   {
    "duration": 15,
    "start_time": "2022-01-15T20:24:46.002Z"
   },
   {
    "duration": 11,
    "start_time": "2022-01-15T20:24:48.285Z"
   },
   {
    "duration": 45,
    "start_time": "2022-01-15T20:24:56.102Z"
   },
   {
    "duration": 13,
    "start_time": "2022-01-15T20:25:06.406Z"
   },
   {
    "duration": 309,
    "start_time": "2022-01-15T20:25:22.972Z"
   },
   {
    "duration": 285,
    "start_time": "2022-01-15T20:25:34.784Z"
   },
   {
    "duration": 11,
    "start_time": "2022-01-15T20:26:35.112Z"
   },
   {
    "duration": 14,
    "start_time": "2022-01-15T20:26:56.532Z"
   },
   {
    "duration": 452,
    "start_time": "2022-01-15T20:27:00.037Z"
   },
   {
    "duration": 11,
    "start_time": "2022-01-15T20:27:08.760Z"
   },
   {
    "duration": 13,
    "start_time": "2022-01-15T20:27:19.042Z"
   },
   {
    "duration": 6,
    "start_time": "2022-01-15T20:27:22.727Z"
   },
   {
    "duration": 393,
    "start_time": "2022-01-15T20:28:09.569Z"
   },
   {
    "duration": 15,
    "start_time": "2022-01-15T20:28:12.202Z"
   },
   {
    "duration": 10,
    "start_time": "2022-01-15T20:28:18.823Z"
   },
   {
    "duration": 404,
    "start_time": "2022-01-15T20:28:49.478Z"
   },
   {
    "duration": 52,
    "start_time": "2022-01-15T20:28:51.455Z"
   },
   {
    "duration": 379,
    "start_time": "2022-01-15T20:30:38.799Z"
   },
   {
    "duration": 54,
    "start_time": "2022-01-15T20:30:40.349Z"
   },
   {
    "duration": 6,
    "start_time": "2022-01-15T20:30:44.379Z"
   },
   {
    "duration": 482,
    "start_time": "2022-01-15T20:31:58.231Z"
   },
   {
    "duration": 296,
    "start_time": "2022-01-15T21:08:42.011Z"
   },
   {
    "duration": 8,
    "start_time": "2022-01-15T21:08:52.617Z"
   },
   {
    "duration": 576,
    "start_time": "2022-01-15T21:08:54.653Z"
   },
   {
    "duration": 109,
    "start_time": "2022-01-15T21:09:09.397Z"
   },
   {
    "duration": 293,
    "start_time": "2022-01-15T21:09:20.267Z"
   },
   {
    "duration": 4,
    "start_time": "2022-01-15T21:09:33.021Z"
   },
   {
    "duration": 166,
    "start_time": "2022-01-15T21:09:33.031Z"
   },
   {
    "duration": 47,
    "start_time": "2022-01-15T21:09:33.201Z"
   },
   {
    "duration": 16,
    "start_time": "2022-01-15T21:09:33.251Z"
   },
   {
    "duration": 259,
    "start_time": "2022-01-15T21:09:33.270Z"
   },
   {
    "duration": 93,
    "start_time": "2022-01-15T21:09:33.531Z"
   },
   {
    "duration": 109,
    "start_time": "2022-01-15T21:09:33.626Z"
   },
   {
    "duration": 27,
    "start_time": "2022-01-15T21:09:33.738Z"
   },
   {
    "duration": 180,
    "start_time": "2022-01-15T21:09:33.768Z"
   },
   {
    "duration": 40,
    "start_time": "2022-01-15T21:09:33.951Z"
   },
   {
    "duration": 7,
    "start_time": "2022-01-15T21:09:33.993Z"
   },
   {
    "duration": 22,
    "start_time": "2022-01-15T21:09:34.003Z"
   },
   {
    "duration": 36,
    "start_time": "2022-01-15T21:09:34.027Z"
   },
   {
    "duration": 1958,
    "start_time": "2022-01-15T21:09:34.065Z"
   },
   {
    "duration": 5,
    "start_time": "2022-01-15T21:09:36.025Z"
   },
   {
    "duration": 9,
    "start_time": "2022-01-15T21:09:36.033Z"
   },
   {
    "duration": 491,
    "start_time": "2022-01-15T21:09:36.045Z"
   },
   {
    "duration": 31,
    "start_time": "2022-01-15T21:09:36.538Z"
   },
   {
    "duration": 4,
    "start_time": "2022-01-15T21:09:36.572Z"
   },
   {
    "duration": 9,
    "start_time": "2022-01-15T21:09:36.578Z"
   },
   {
    "duration": 5,
    "start_time": "2022-01-15T21:09:36.622Z"
   },
   {
    "duration": 52,
    "start_time": "2022-01-15T21:09:36.630Z"
   },
   {
    "duration": 58,
    "start_time": "2022-01-15T21:09:36.688Z"
   },
   {
    "duration": 88,
    "start_time": "2022-01-15T21:09:36.750Z"
   },
   {
    "duration": 16,
    "start_time": "2022-01-15T21:09:36.841Z"
   },
   {
    "duration": 13,
    "start_time": "2022-01-15T21:09:36.860Z"
   },
   {
    "duration": 197,
    "start_time": "2022-01-15T21:09:36.876Z"
   },
   {
    "duration": 6,
    "start_time": "2022-01-15T21:09:37.076Z"
   },
   {
    "duration": 6,
    "start_time": "2022-01-15T21:09:37.085Z"
   },
   {
    "duration": 69,
    "start_time": "2022-01-15T21:09:37.094Z"
   },
   {
    "duration": 265,
    "start_time": "2022-01-15T21:09:37.165Z"
   },
   {
    "duration": 444,
    "start_time": "2022-01-15T21:09:37.433Z"
   },
   {
    "duration": 5,
    "start_time": "2022-01-15T21:09:37.880Z"
   },
   {
    "duration": 8,
    "start_time": "2022-01-15T21:09:37.888Z"
   },
   {
    "duration": 25,
    "start_time": "2022-01-15T21:09:37.898Z"
   },
   {
    "duration": 121,
    "start_time": "2022-01-15T21:09:54.961Z"
   },
   {
    "duration": 6,
    "start_time": "2022-01-15T21:10:01.411Z"
   },
   {
    "duration": 6,
    "start_time": "2022-01-15T21:10:26.861Z"
   },
   {
    "duration": 14,
    "start_time": "2022-01-15T21:10:31.558Z"
   },
   {
    "duration": 9,
    "start_time": "2022-01-15T21:16:54.511Z"
   },
   {
    "duration": 18,
    "start_time": "2022-01-15T21:17:48.152Z"
   },
   {
    "duration": 9,
    "start_time": "2022-01-15T21:23:58.105Z"
   },
   {
    "duration": 14,
    "start_time": "2022-01-15T21:23:59.023Z"
   },
   {
    "duration": 20,
    "start_time": "2022-01-15T21:24:24.374Z"
   },
   {
    "duration": 7,
    "start_time": "2022-01-15T21:34:11.604Z"
   },
   {
    "duration": 2010,
    "start_time": "2022-01-16T11:52:51.087Z"
   },
   {
    "duration": 1454,
    "start_time": "2022-01-16T11:52:53.100Z"
   },
   {
    "duration": 43,
    "start_time": "2022-01-16T11:52:54.556Z"
   },
   {
    "duration": 14,
    "start_time": "2022-01-16T11:52:54.602Z"
   },
   {
    "duration": 310,
    "start_time": "2022-01-16T11:52:54.619Z"
   },
   {
    "duration": 102,
    "start_time": "2022-01-16T11:52:54.932Z"
   },
   {
    "duration": 111,
    "start_time": "2022-01-16T11:52:55.037Z"
   },
   {
    "duration": 30,
    "start_time": "2022-01-16T11:52:55.160Z"
   },
   {
    "duration": 189,
    "start_time": "2022-01-16T11:52:55.193Z"
   },
   {
    "duration": 47,
    "start_time": "2022-01-16T11:52:55.384Z"
   },
   {
    "duration": 32,
    "start_time": "2022-01-16T11:52:55.434Z"
   },
   {
    "duration": 10,
    "start_time": "2022-01-16T11:52:55.468Z"
   },
   {
    "duration": 34,
    "start_time": "2022-01-16T11:52:55.481Z"
   },
   {
    "duration": 1932,
    "start_time": "2022-01-16T11:52:55.517Z"
   },
   {
    "duration": 14,
    "start_time": "2022-01-16T11:52:57.451Z"
   },
   {
    "duration": 13,
    "start_time": "2022-01-16T11:52:57.468Z"
   },
   {
    "duration": 544,
    "start_time": "2022-01-16T11:52:57.483Z"
   },
   {
    "duration": 46,
    "start_time": "2022-01-16T11:52:58.029Z"
   },
   {
    "duration": 4,
    "start_time": "2022-01-16T11:52:58.078Z"
   },
   {
    "duration": 9,
    "start_time": "2022-01-16T11:52:58.084Z"
   },
   {
    "duration": 4,
    "start_time": "2022-01-16T11:52:58.096Z"
   },
   {
    "duration": 93,
    "start_time": "2022-01-16T11:52:58.102Z"
   },
   {
    "duration": 61,
    "start_time": "2022-01-16T11:52:58.200Z"
   },
   {
    "duration": 69,
    "start_time": "2022-01-16T11:52:58.267Z"
   },
   {
    "duration": 32,
    "start_time": "2022-01-16T11:52:58.339Z"
   },
   {
    "duration": 13,
    "start_time": "2022-01-16T11:52:58.375Z"
   },
   {
    "duration": 899,
    "start_time": "2022-01-16T11:52:58.390Z"
   },
   {
    "duration": 5,
    "start_time": "2022-01-16T11:52:59.291Z"
   },
   {
    "duration": 6,
    "start_time": "2022-01-16T11:52:59.299Z"
   },
   {
    "duration": 96,
    "start_time": "2022-01-16T11:52:59.307Z"
   },
   {
    "duration": 408,
    "start_time": "2022-01-16T11:52:59.406Z"
   },
   {
    "duration": 496,
    "start_time": "2022-01-16T11:52:59.816Z"
   },
   {
    "duration": 5,
    "start_time": "2022-01-16T11:53:00.315Z"
   },
   {
    "duration": 9,
    "start_time": "2022-01-16T11:53:00.323Z"
   },
   {
    "duration": 25,
    "start_time": "2022-01-16T11:53:00.334Z"
   },
   {
    "duration": 26,
    "start_time": "2022-01-16T11:53:00.363Z"
   },
   {
    "duration": 13,
    "start_time": "2022-01-16T11:53:00.393Z"
   },
   {
    "duration": 26,
    "start_time": "2022-01-16T11:53:00.408Z"
   },
   {
    "duration": 24,
    "start_time": "2022-01-16T11:53:00.436Z"
   },
   {
    "duration": 34,
    "start_time": "2022-01-16T11:53:00.462Z"
   },
   {
    "duration": 15,
    "start_time": "2022-01-16T11:53:00.499Z"
   },
   {
    "duration": 8,
    "start_time": "2022-01-16T11:53:00.516Z"
   },
   {
    "duration": 2603,
    "start_time": "2022-03-22T00:40:29.760Z"
   },
   {
    "duration": 1521,
    "start_time": "2022-03-22T00:40:32.366Z"
   },
   {
    "duration": 95,
    "start_time": "2022-03-22T00:40:33.889Z"
   },
   {
    "duration": 17,
    "start_time": "2022-03-22T00:40:34.043Z"
   },
   {
    "duration": 495,
    "start_time": "2022-03-22T00:40:34.062Z"
   },
   {
    "duration": 221,
    "start_time": "2022-03-22T00:40:34.559Z"
   },
   {
    "duration": 290,
    "start_time": "2022-03-22T00:40:34.783Z"
   },
   {
    "duration": 91,
    "start_time": "2022-03-22T00:40:35.076Z"
   },
   {
    "duration": 383,
    "start_time": "2022-03-22T00:40:35.170Z"
   },
   {
    "duration": 192,
    "start_time": "2022-03-22T00:40:35.558Z"
   },
   {
    "duration": 10,
    "start_time": "2022-03-22T00:40:35.752Z"
   },
   {
    "duration": 5,
    "start_time": "2022-03-22T00:40:35.764Z"
   },
   {
    "duration": 101,
    "start_time": "2022-03-22T00:40:35.771Z"
   },
   {
    "duration": 2679,
    "start_time": "2022-03-22T00:40:35.874Z"
   },
   {
    "duration": 5,
    "start_time": "2022-03-22T00:40:38.555Z"
   },
   {
    "duration": 6,
    "start_time": "2022-03-22T00:40:38.562Z"
   },
   {
    "duration": 1100,
    "start_time": "2022-03-22T00:40:38.570Z"
   },
   {
    "duration": 98,
    "start_time": "2022-03-22T00:40:39.672Z"
   },
   {
    "duration": 4,
    "start_time": "2022-03-22T00:40:39.772Z"
   },
   {
    "duration": 82,
    "start_time": "2022-03-22T00:40:39.778Z"
   },
   {
    "duration": 5,
    "start_time": "2022-03-22T00:40:39.862Z"
   },
   {
    "duration": 102,
    "start_time": "2022-03-22T00:40:39.869Z"
   },
   {
    "duration": 109,
    "start_time": "2022-03-22T00:40:39.973Z"
   },
   {
    "duration": 179,
    "start_time": "2022-03-22T00:40:40.084Z"
   },
   {
    "duration": 213,
    "start_time": "2022-03-22T00:40:40.265Z"
   },
   {
    "duration": 69,
    "start_time": "2022-03-22T00:40:40.480Z"
   },
   {
    "duration": 496,
    "start_time": "2022-03-22T00:40:40.551Z"
   },
   {
    "duration": 6,
    "start_time": "2022-03-22T00:40:41.055Z"
   },
   {
    "duration": 9,
    "start_time": "2022-03-22T00:40:41.063Z"
   },
   {
    "duration": 201,
    "start_time": "2022-03-22T00:40:41.143Z"
   },
   {
    "duration": 340,
    "start_time": "2022-03-22T00:40:41.346Z"
   },
   {
    "duration": 406,
    "start_time": "2022-03-22T00:40:41.744Z"
   },
   {
    "duration": 7,
    "start_time": "2022-03-22T00:40:42.153Z"
   },
   {
    "duration": 10,
    "start_time": "2022-03-22T00:40:42.163Z"
   },
   {
    "duration": 72,
    "start_time": "2022-03-22T00:40:42.175Z"
   },
   {
    "duration": 17,
    "start_time": "2022-03-22T00:40:42.249Z"
   },
   {
    "duration": 74,
    "start_time": "2022-03-22T00:40:42.269Z"
   },
   {
    "duration": 17,
    "start_time": "2022-03-22T00:40:42.346Z"
   },
   {
    "duration": 7,
    "start_time": "2022-03-22T00:40:42.366Z"
   },
   {
    "duration": 77,
    "start_time": "2022-03-22T00:40:42.376Z"
   },
   {
    "duration": 18,
    "start_time": "2022-03-22T00:40:42.456Z"
   },
   {
    "duration": 73,
    "start_time": "2022-03-22T00:40:42.476Z"
   },
   {
    "duration": 0,
    "start_time": "2022-03-24T04:22:23.451Z"
   },
   {
    "duration": 0,
    "start_time": "2022-03-24T04:22:23.457Z"
   },
   {
    "duration": 0,
    "start_time": "2022-03-24T04:22:23.461Z"
   },
   {
    "duration": 0,
    "start_time": "2022-03-24T04:22:23.466Z"
   },
   {
    "duration": 0,
    "start_time": "2022-03-24T04:22:23.470Z"
   },
   {
    "duration": 0,
    "start_time": "2022-03-24T04:22:23.472Z"
   },
   {
    "duration": 0,
    "start_time": "2022-03-24T04:22:23.478Z"
   },
   {
    "duration": 1,
    "start_time": "2022-03-24T04:22:23.490Z"
   },
   {
    "duration": 0,
    "start_time": "2022-03-24T04:22:23.523Z"
   },
   {
    "duration": 0,
    "start_time": "2022-03-24T04:22:23.526Z"
   },
   {
    "duration": 0,
    "start_time": "2022-03-24T04:22:23.529Z"
   },
   {
    "duration": 0,
    "start_time": "2022-03-24T04:22:23.537Z"
   },
   {
    "duration": 0,
    "start_time": "2022-03-24T04:22:23.540Z"
   },
   {
    "duration": 0,
    "start_time": "2022-03-24T04:22:23.541Z"
   },
   {
    "duration": 0,
    "start_time": "2022-03-24T04:22:23.549Z"
   },
   {
    "duration": 0,
    "start_time": "2022-03-24T04:22:23.555Z"
   },
   {
    "duration": 0,
    "start_time": "2022-03-24T04:22:23.557Z"
   },
   {
    "duration": 0,
    "start_time": "2022-03-24T04:22:23.560Z"
   },
   {
    "duration": 0,
    "start_time": "2022-03-24T04:22:23.561Z"
   },
   {
    "duration": 1,
    "start_time": "2022-03-24T04:22:23.562Z"
   },
   {
    "duration": 0,
    "start_time": "2022-03-24T04:22:23.564Z"
   },
   {
    "duration": 0,
    "start_time": "2022-03-24T04:22:23.565Z"
   },
   {
    "duration": 0,
    "start_time": "2022-03-24T04:22:23.567Z"
   },
   {
    "duration": 0,
    "start_time": "2022-03-24T04:22:23.569Z"
   },
   {
    "duration": 0,
    "start_time": "2022-03-24T04:22:23.570Z"
   },
   {
    "duration": 0,
    "start_time": "2022-03-24T04:22:23.572Z"
   },
   {
    "duration": 0,
    "start_time": "2022-03-24T04:22:23.573Z"
   },
   {
    "duration": 0,
    "start_time": "2022-03-24T04:22:23.574Z"
   },
   {
    "duration": 0,
    "start_time": "2022-03-24T04:22:23.575Z"
   },
   {
    "duration": 1,
    "start_time": "2022-03-24T04:22:23.576Z"
   },
   {
    "duration": 0,
    "start_time": "2022-03-24T04:22:23.578Z"
   },
   {
    "duration": 0,
    "start_time": "2022-03-24T04:22:23.579Z"
   },
   {
    "duration": 0,
    "start_time": "2022-03-24T04:22:23.580Z"
   },
   {
    "duration": 0,
    "start_time": "2022-03-24T04:22:23.582Z"
   },
   {
    "duration": 105,
    "start_time": "2022-03-24T04:23:07.058Z"
   },
   {
    "duration": 2541,
    "start_time": "2022-03-24T04:23:07.166Z"
   },
   {
    "duration": 908,
    "start_time": "2022-03-24T04:23:09.710Z"
   },
   {
    "duration": 75,
    "start_time": "2022-03-24T04:23:10.622Z"
   },
   {
    "duration": 231,
    "start_time": "2022-03-24T04:23:10.699Z"
   },
   {
    "duration": 129,
    "start_time": "2022-03-24T04:23:10.935Z"
   },
   {
    "duration": 119,
    "start_time": "2022-03-24T04:23:11.066Z"
   },
   {
    "duration": 280,
    "start_time": "2022-03-24T04:23:11.187Z"
   },
   {
    "duration": 249,
    "start_time": "2022-03-24T04:23:11.469Z"
   },
   {
    "duration": 106,
    "start_time": "2022-03-24T04:23:11.724Z"
   },
   {
    "duration": 12,
    "start_time": "2022-03-24T04:23:11.832Z"
   },
   {
    "duration": 13,
    "start_time": "2022-03-24T04:23:11.849Z"
   },
   {
    "duration": 81,
    "start_time": "2022-03-24T04:23:11.864Z"
   },
   {
    "duration": 3209,
    "start_time": "2022-03-24T04:23:11.947Z"
   },
   {
    "duration": 26,
    "start_time": "2022-03-24T04:23:15.159Z"
   },
   {
    "duration": 13,
    "start_time": "2022-03-24T04:23:15.187Z"
   },
   {
    "duration": 524,
    "start_time": "2022-03-24T04:23:15.202Z"
   },
   {
    "duration": 74,
    "start_time": "2022-03-24T04:23:15.729Z"
   },
   {
    "duration": 21,
    "start_time": "2022-03-24T04:23:15.805Z"
   },
   {
    "duration": 29,
    "start_time": "2022-03-24T04:23:15.828Z"
   },
   {
    "duration": 14,
    "start_time": "2022-03-24T04:23:15.859Z"
   },
   {
    "duration": 108,
    "start_time": "2022-03-24T04:23:15.876Z"
   },
   {
    "duration": 67,
    "start_time": "2022-03-24T04:23:15.986Z"
   },
   {
    "duration": 87,
    "start_time": "2022-03-24T04:23:16.056Z"
   },
   {
    "duration": 32,
    "start_time": "2022-03-24T04:23:16.146Z"
   },
   {
    "duration": 19,
    "start_time": "2022-03-24T04:23:16.180Z"
   },
   {
    "duration": 9841,
    "start_time": "2022-03-24T04:23:16.201Z"
   },
   {
    "duration": 5,
    "start_time": "2022-03-24T04:23:26.047Z"
   },
   {
    "duration": 10,
    "start_time": "2022-03-24T04:23:26.055Z"
   },
   {
    "duration": 77,
    "start_time": "2022-03-24T04:23:26.067Z"
   },
   {
    "duration": 193,
    "start_time": "2022-03-24T04:23:26.146Z"
   },
   {
    "duration": 215,
    "start_time": "2022-03-24T04:23:26.341Z"
   },
   {
    "duration": 10,
    "start_time": "2022-03-24T04:23:26.558Z"
   },
   {
    "duration": 18,
    "start_time": "2022-03-24T04:23:26.570Z"
   },
   {
    "duration": 1126,
    "start_time": "2022-03-26T01:59:44.647Z"
   },
   {
    "duration": 1156,
    "start_time": "2022-03-26T01:59:45.775Z"
   },
   {
    "duration": 28,
    "start_time": "2022-03-26T01:59:46.933Z"
   },
   {
    "duration": 9,
    "start_time": "2022-03-26T01:59:46.963Z"
   },
   {
    "duration": 147,
    "start_time": "2022-03-26T01:59:46.973Z"
   },
   {
    "duration": 63,
    "start_time": "2022-03-26T01:59:47.121Z"
   },
   {
    "duration": 72,
    "start_time": "2022-03-26T01:59:47.201Z"
   },
   {
    "duration": 33,
    "start_time": "2022-03-26T01:59:47.274Z"
   },
   {
    "duration": 116,
    "start_time": "2022-03-26T01:59:47.309Z"
   },
   {
    "duration": 50,
    "start_time": "2022-03-26T01:59:47.427Z"
   },
   {
    "duration": 24,
    "start_time": "2022-03-26T01:59:47.478Z"
   },
   {
    "duration": 3,
    "start_time": "2022-03-26T01:59:47.503Z"
   },
   {
    "duration": 24,
    "start_time": "2022-03-26T01:59:47.507Z"
   },
   {
    "duration": 622,
    "start_time": "2022-03-26T01:59:47.532Z"
   },
   {
    "duration": 4,
    "start_time": "2022-03-26T01:59:48.156Z"
   },
   {
    "duration": 18,
    "start_time": "2022-03-26T01:59:48.161Z"
   },
   {
    "duration": 248,
    "start_time": "2022-03-26T01:59:48.181Z"
   },
   {
    "duration": 26,
    "start_time": "2022-03-26T01:59:48.431Z"
   },
   {
    "duration": 3,
    "start_time": "2022-03-26T01:59:48.458Z"
   },
   {
    "duration": 29,
    "start_time": "2022-03-26T01:59:48.463Z"
   },
   {
    "duration": 14,
    "start_time": "2022-03-26T01:59:48.494Z"
   },
   {
    "duration": 33,
    "start_time": "2022-03-26T01:59:48.509Z"
   },
   {
    "duration": 31,
    "start_time": "2022-03-26T01:59:48.543Z"
   },
   {
    "duration": 55,
    "start_time": "2022-03-26T01:59:48.575Z"
   },
   {
    "duration": 94,
    "start_time": "2022-03-26T01:59:48.632Z"
   },
   {
    "duration": 7,
    "start_time": "2022-03-26T01:59:48.728Z"
   },
   {
    "duration": 453,
    "start_time": "2022-03-26T01:59:48.736Z"
   },
   {
    "duration": 3,
    "start_time": "2022-03-26T01:59:49.192Z"
   },
   {
    "duration": 4,
    "start_time": "2022-03-26T01:59:49.197Z"
   },
   {
    "duration": 31,
    "start_time": "2022-03-26T01:59:49.203Z"
   },
   {
    "duration": 134,
    "start_time": "2022-03-26T01:59:49.236Z"
   },
   {
    "duration": 159,
    "start_time": "2022-03-26T01:59:49.371Z"
   },
   {
    "duration": 5,
    "start_time": "2022-03-26T01:59:49.531Z"
   },
   {
    "duration": 9,
    "start_time": "2022-03-26T01:59:49.537Z"
   },
   {
    "duration": 10,
    "start_time": "2022-03-26T01:59:49.547Z"
   },
   {
    "duration": 4,
    "start_time": "2022-03-26T01:59:49.559Z"
   },
   {
    "duration": 12,
    "start_time": "2022-03-26T01:59:49.565Z"
   },
   {
    "duration": 22,
    "start_time": "2022-03-26T01:59:49.579Z"
   },
   {
    "duration": 7,
    "start_time": "2022-03-26T01:59:49.602Z"
   },
   {
    "duration": 11,
    "start_time": "2022-03-26T01:59:49.611Z"
   },
   {
    "duration": 7,
    "start_time": "2022-03-26T01:59:49.623Z"
   }
  ],
  "kernelspec": {
   "display_name": "Python 3",
   "language": "python",
   "name": "python3"
  },
  "language_info": {
   "codemirror_mode": {
    "name": "ipython",
    "version": 3
   },
   "file_extension": ".py",
   "mimetype": "text/x-python",
   "name": "python",
   "nbconvert_exporter": "python",
   "pygments_lexer": "ipython3",
   "version": "3.8.8"
  },
  "toc": {
   "base_numbering": 1,
   "nav_menu": {},
   "number_sections": true,
   "sideBar": true,
   "skip_h1_title": true,
   "title_cell": "Table of Contents",
   "title_sidebar": "Contents",
   "toc_cell": false,
   "toc_position": {},
   "toc_section_display": true,
   "toc_window_display": false
  }
 },
 "nbformat": 4,
 "nbformat_minor": 2
}
